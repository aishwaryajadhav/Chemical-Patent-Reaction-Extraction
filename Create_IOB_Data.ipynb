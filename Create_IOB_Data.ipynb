{
 "cells": [
  {
   "cell_type": "code",
   "execution_count": 1,
   "id": "0f1c7de2",
   "metadata": {},
   "outputs": [],
   "source": [
    "import os\n",
    "import os.path as osp\n",
    "import nltk\n",
    "# nltk.download('stopwords')\n",
    "# nltk.download('punkt')\n",
    "from nltk.corpus import stopwords\n",
    "english_stopwords = stopwords.words(\"english\")\n",
    "import numpy as np\n",
    "import re\n",
    "import seaborn as sns\n",
    "sns.set_theme(style=\"whitegrid\")\n",
    "import matplotlib.pyplot as plt\n",
    "import pandas as pd\n",
    "import string\n",
    "\n",
    "import pickle\n",
    "import random\n",
    "import collections"
   ]
  },
  {
   "cell_type": "code",
   "execution_count": 11,
   "id": "7008ab21",
   "metadata": {},
   "outputs": [],
   "source": [
    "def getFiles(path):\n",
    "    all_files = os.listdir(path)\n",
    "    text_files = [f for f in all_files if f[-3:]=='txt']\n",
    "    ann_files = [f for f in all_files if f[-3:]=='ann']\n",
    "    print(\"Numer of ann files: \", len(ann_files))\n",
    "    print(\"Numer of text files: \", len(text_files))\n",
    "    return text_files, ann_files\n",
    "\n",
    "\n",
    "def labelIOBReactions(path, ann_files, text_files):\n",
    "    reactions_per_document = []\n",
    "    labels = {}\n",
    "    ann_files.sort()\n",
    "    text_files.sort()\n",
    "    # 0: O (Outside) ; 1: I (Inside) ; 2: B (Beginning)\n",
    "    for af, tf in zip(ann_files, text_files):\n",
    "        \n",
    "        with open(osp.join(path, tf), 'r',encoding=\"utf-8\" ) as fp:\n",
    "            with open(osp.join(path, af), 'r', encoding=\"utf-8\" ) as ap:\n",
    "                data = fp.read().rstrip()\n",
    "                \n",
    "                paras = data.count('\\n')+1\n",
    "              \n",
    "                para_labels = np.zeros(paras)\n",
    "\n",
    "                rpd = 0\n",
    "\n",
    "                lines = ap.readlines()\n",
    "                for line in lines:\n",
    "\n",
    "                    ts = line.split()\n",
    "                    if(ts[1] == \"REACTION_SPAN\"):\n",
    "                        rpd +=1\n",
    "                        st = data[:int(ts[2])].count('\\n')\n",
    "                        cnts = data[int(ts[2]):int(ts[3])].count('\\n')+1\n",
    "                        para_labels[st]=2; #beginning of a reaction\n",
    "                        for i in range(st+1, st+cnts):\n",
    "                            para_labels[i]=1; #inside a reaction\n",
    "                            \n",
    "                labels[tf[:-4]] = para_labels\n",
    "                reactions_per_document.append(rpd)\n",
    "    \n",
    "    return labels, reactions_per_document"
   ]
  },
  {
   "cell_type": "code",
   "execution_count": 7,
   "id": "082f0cc1",
   "metadata": {},
   "outputs": [],
   "source": [
    "cv_path = \"C:\\\\Users\\\\meais\\\\Documents\\\\CMU\\\\Independent Study\\\\ReactionExtraction\\\\data\\\\dev\\\\\"\n",
    "train_path = \"C:\\\\Users\\\\meais\\\\Documents\\\\CMU\\\\Independent Study\\\\ReactionExtraction\\\\data\\\\train\\\\\""
   ]
  },
  {
   "cell_type": "code",
   "execution_count": 8,
   "id": "fb8a7b07",
   "metadata": {},
   "outputs": [
    {
     "name": "stdout",
     "output_type": "stream",
     "text": [
      "Numer of ann files:  120\n",
      "Numer of text files:  120\n",
      "Numer of ann files:  30\n",
      "Numer of text files:  30\n"
     ]
    }
   ],
   "source": [
    "train_text_files, train_ann_files = getFiles(train_path)\n",
    "dev_text_files, dev_ann_files = getFiles(cv_path)"
   ]
  },
  {
   "cell_type": "code",
   "execution_count": 73,
   "id": "5773853e",
   "metadata": {},
   "outputs": [
    {
     "name": "stdout",
     "output_type": "stream",
     "text": [
      "Total dev reactions:  1244\n"
     ]
    }
   ],
   "source": [
    "dev_labels, dev_reactions_per_document = labelIOBReactions(cv_path, dev_ann_files, dev_text_files)\n",
    "with open('dev_labels.pkl', 'wb') as f:\n",
    "    pickle.dump(dev_labels, f)\n",
    "print(\"Total dev reactions: \", sum(dev_reactions_per_document))"
   ]
  },
  {
   "cell_type": "code",
   "execution_count": 74,
   "id": "bb58061a",
   "metadata": {},
   "outputs": [
    {
     "name": "stdout",
     "output_type": "stream",
     "text": [
      "Total train reactions:  6378\n"
     ]
    }
   ],
   "source": [
    "train_labels, train_reactions_per_document = labelIOBReactions(train_path, train_ann_files, train_text_files)\n",
    "with open('train_labels.pkl', 'wb') as f:\n",
    "    pickle.dump(train_labels, f)\n",
    "print(\"Total train reactions: \", sum(train_reactions_per_document))"
   ]
  },
  {
   "cell_type": "code",
   "execution_count": 75,
   "id": "0973a51b",
   "metadata": {},
   "outputs": [],
   "source": [
    "def create_dataset(files, labels_dict, output_file, test_file=False):\n",
    "\n",
    "  if(test_file):\n",
    "      train_data = {'para':[], 'label':[], 'document':[]}\n",
    "  else:\n",
    "      train_data = {'para':[], 'label':[]}\n",
    "\n",
    "  for f in files:\n",
    "    with open(f, encoding=\"utf-8\" ) as fp:\n",
    "        \n",
    "      lines = fp.readlines()\n",
    "      train_data['para'].extend(lines)\n",
    "\n",
    "      labels = labels_dict[f.split('\\\\')[-1][:-4]] #\".txt\"\n",
    "      train_data['label'].extend(labels)\n",
    "        \n",
    "      if(test_file):\n",
    "          train_data['document'].extend([f.split('\\\\')[-1] for i in range(len(lines))])\n",
    "      \n",
    "\n",
    "  nl = []\n",
    "  for l in train_data['label']:\n",
    "    if(l==1):\n",
    "      nl.append(\"1\")\n",
    "    elif(l==2):\n",
    "      nl.append(\"2\")\n",
    "    elif(l==0):\n",
    "      nl.append(\"0\")\n",
    "    else:\n",
    "      print(\"Label Error\")\n",
    "    \n",
    "    \n",
    "  train_data['label'] = nl\n",
    "\n",
    "  df = pd.DataFrame(train_data)\n",
    "  print(df.head())\n",
    "  df.to_csv(output_file, index = False)\n"
   ]
  },
  {
   "cell_type": "code",
   "execution_count": 76,
   "id": "b3b2e165",
   "metadata": {},
   "outputs": [
    {
     "name": "stdout",
     "output_type": "stream",
     "text": [
      "30\n",
      "['C:\\\\Users\\\\meais\\\\Documents\\\\CMU\\\\Independent Study\\\\ReactionExtraction\\\\data\\\\dev\\\\EP3284738A1.txt', 'C:\\\\Users\\\\meais\\\\Documents\\\\CMU\\\\Independent Study\\\\ReactionExtraction\\\\data\\\\dev\\\\EP3305797A1.txt', 'C:\\\\Users\\\\meais\\\\Documents\\\\CMU\\\\Independent Study\\\\ReactionExtraction\\\\data\\\\dev\\\\EP3312182A1.txt', 'C:\\\\Users\\\\meais\\\\Documents\\\\CMU\\\\Independent Study\\\\ReactionExtraction\\\\data\\\\dev\\\\EP3323817A1.txt', 'C:\\\\Users\\\\meais\\\\Documents\\\\CMU\\\\Independent Study\\\\ReactionExtraction\\\\data\\\\dev\\\\EP3330263A1.txt']\n"
     ]
    }
   ],
   "source": [
    "test_files = [osp.join(cv_path, f)  for f in os.listdir(cv_path) if f[-3:]=='txt']\n",
    "print(len(test_files))\n",
    "print(test_files[:5])"
   ]
  },
  {
   "cell_type": "code",
   "execution_count": 82,
   "id": "e748ad70",
   "metadata": {},
   "outputs": [
    {
     "name": "stdout",
     "output_type": "stream",
     "text": [
      "120\n",
      "100\n",
      "20\n"
     ]
    }
   ],
   "source": [
    "train_files = [osp.join(train_path, f) for f in os.listdir(train_path) if f[-3:]=='txt']\n",
    "print(len(train_files))\n",
    "random.shuffle(train_files)\n",
    "\n",
    "val_files = train_files[:20]\n",
    "train_files = train_files[20:]\n",
    "\n",
    "print(len(train_files))\n",
    "print(len(val_files))"
   ]
  },
  {
   "cell_type": "code",
   "execution_count": 83,
   "id": "9f6f480e",
   "metadata": {},
   "outputs": [
    {
     "name": "stdout",
     "output_type": "stream",
     "text": [
      "                                                para label         document\n",
      "0                           FIELD OF THE INVENTION\\n     0  EP3284738A1.txt\n",
      "1  The present invention relates to the field of ...     0  EP3284738A1.txt\n",
      "2                      BACKGROUND OF THE INVENTION\\n     0  EP3284738A1.txt\n",
      "3  Glutamate which is the most important excitato...     0  EP3284738A1.txt\n",
      "4  Glutamate receptors (GluR) are mainly divided ...     0  EP3284738A1.txt\n",
      "                                                para label          document\n",
      "0  The present invention relates to phosphorescen...     0  US10868254B2.txt\n",
      "1  In OLEDs, the electroluminescence (EL) charact...     0  US10868254B2.txt\n",
      "2  In other words, in case of organic light-emitt...     0  US10868254B2.txt\n",
      "3                                     1. Substrate\\n     0  US10868254B2.txt\n",
      "4  2. Base electrode, hole-injecting (positive po...     0  US10868254B2.txt\n",
      "                                                para label  \\\n",
      "0          CROSS-REFERENCE TO RELATED APPLICATIONS\\n     0   \n",
      "1  This application claims priority under 35 U.S....     0   \n",
      "2                                  TECHNICAL FIELD\\n     0   \n",
      "3  The following disclosure relates to a novel ps...     0   \n",
      "4                                       BACKGROUND\\n     0   \n",
      "\n",
      "              document  \n",
      "0  US20200115323A1.txt  \n",
      "1  US20200115323A1.txt  \n",
      "2  US20200115323A1.txt  \n",
      "3  US20200115323A1.txt  \n",
      "4  US20200115323A1.txt  \n"
     ]
    }
   ],
   "source": [
    "# create_dataset(dev_files, pickle.load(open(dev_label_path, \"rb\")), \"dev_data.csv\") # test set\n",
    "create_dataset(test_files, pickle.load(open(\"dev_labels.pkl\", \"rb\")), \"test_data_iob.csv\", test_file=True) # test set\n",
    "create_dataset(train_files, pickle.load(open(\"train_labels.pkl\", \"rb\")), \"train_data_iob.csv\", test_file=True) #train_set\n",
    "create_dataset(val_files, pickle.load(open(\"train_labels.pkl\", \"rb\")), \"val_data_iob.csv\", test_file=True) # validation set"
   ]
  },
  {
   "cell_type": "code",
   "execution_count": 84,
   "id": "3a70ba5a",
   "metadata": {},
   "outputs": [
    {
     "name": "stdout",
     "output_type": "stream",
     "text": [
      "12871\n"
     ]
    },
    {
     "data": {
      "text/plain": [
       "Counter({0: 9881, 2: 1236, 1: 1754})"
      ]
     },
     "execution_count": 84,
     "metadata": {},
     "output_type": "execute_result"
    }
   ],
   "source": [
    "df = pd.read_csv(\"test_data_iob.csv\")\n",
    "print(len(df))\n",
    "collections.Counter(df['label'])"
   ]
  },
  {
   "cell_type": "code",
   "execution_count": 85,
   "id": "14643597",
   "metadata": {},
   "outputs": [
    {
     "name": "stdout",
     "output_type": "stream",
     "text": [
      "46018\n"
     ]
    },
    {
     "data": {
      "text/plain": [
       "Counter({0: 34567, 2: 5192, 1: 6259})"
      ]
     },
     "execution_count": 85,
     "metadata": {},
     "output_type": "execute_result"
    }
   ],
   "source": [
    "df = pd.read_csv(\"train_data_iob.csv\")\n",
    "print(len(df))\n",
    "collections.Counter(df['label'])"
   ]
  },
  {
   "cell_type": "code",
   "execution_count": 86,
   "id": "814c4444",
   "metadata": {},
   "outputs": [
    {
     "name": "stdout",
     "output_type": "stream",
     "text": [
      "7545\n"
     ]
    },
    {
     "data": {
      "text/plain": [
       "Counter({0: 5486, 2: 911, 1: 1148})"
      ]
     },
     "execution_count": 86,
     "metadata": {},
     "output_type": "execute_result"
    }
   ],
   "source": [
    "df = pd.read_csv(\"val_data_iob.csv\")\n",
    "print(len(df))\n",
    "collections.Counter(df['label'])"
   ]
  },
  {
   "cell_type": "code",
   "execution_count": null,
   "id": "4e4b2ee0",
   "metadata": {},
   "outputs": [],
   "source": []
  },
  {
   "cell_type": "code",
   "execution_count": null,
   "id": "78869c51",
   "metadata": {},
   "outputs": [],
   "source": []
  }
 ],
 "metadata": {
  "kernelspec": {
   "display_name": "Python 3 (ipykernel)",
   "language": "python",
   "name": "python3"
  },
  "language_info": {
   "codemirror_mode": {
    "name": "ipython",
    "version": 3
   },
   "file_extension": ".py",
   "mimetype": "text/x-python",
   "name": "python",
   "nbconvert_exporter": "python",
   "pygments_lexer": "ipython3",
   "version": "3.9.12"
  }
 },
 "nbformat": 4,
 "nbformat_minor": 5
}
