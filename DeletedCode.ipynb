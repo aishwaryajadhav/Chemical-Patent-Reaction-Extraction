{
 "cells": [
  {
   "cell_type": "code",
   "execution_count": null,
   "id": "380dd3c5",
   "metadata": {},
   "outputs": [],
   "source": [
    "dev_vis_span = os.listdir(path)\n",
    "dev_vis_span_text = [f for f in dev_vis_span if f[-3:]=='txt']\n",
    "dev_vis_span_ann = [f for f in dev_vis_span if f[-3:]=='ann']\n",
    "print(len(dev_vis_span_ann))\n",
    "print(len(dev_vis_span_text))\n",
    "for f in dev_vis_span_ann:\n",
    "    if(f[:-4]+\".txt\" not in dev_vis_span_text):\n",
    "        print(f)"
   ]
  },
  {
   "cell_type": "code",
   "execution_count": null,
   "id": "6d25a09e",
   "metadata": {},
   "outputs": [],
   "source": [
    "path_ref = \"C:\\\\Users\\\\meais\\\\Documents\\\\CMU\\\\Independent Study\\\\Chemu Data\\\\task2a-reaction-ref-train-dev\\\\dev-vis\\\\references\\\\\"\n",
    "dev_vis_ref = os.listdir(path_ref)\n",
    "dev_vis_ref_text = [f for f in dev_vis_ref if f[-3:]=='txt']\n",
    "dev_vis_ref_ann = [f for f in dev_vis_ref if f[-3:]=='ann']\n",
    "print(len(dev_vis_ref_ann))\n",
    "print(len(dev_vis_ref_text))\n",
    "for f in dev_vis_ref_ann:\n",
    "    if(f not in dev_vis_span_ann or f[:-4]+\".txt\" not in dev_vis_span_text):\n",
    "        print(f)"
   ]
  },
  {
   "cell_type": "code",
   "execution_count": 1,
   "id": "eab9a797",
   "metadata": {},
   "outputs": [
    {
     "ename": "NameError",
     "evalue": "name 're' is not defined",
     "output_type": "error",
     "traceback": [
      "\u001b[1;31m---------------------------------------------------------------------------\u001b[0m",
      "\u001b[1;31mNameError\u001b[0m                                 Traceback (most recent call last)",
      "Input \u001b[1;32mIn [1]\u001b[0m, in \u001b[0;36m<cell line: 1>\u001b[1;34m()\u001b[0m\n\u001b[1;32m----> 1\u001b[0m s \u001b[38;5;241m=\u001b[39m \u001b[43mre\u001b[49m\u001b[38;5;241m.\u001b[39msub(\u001b[38;5;124m\"\u001b[39m\u001b[38;5;124m<img>(?s)(.*)</img>\u001b[39m\u001b[38;5;124m\"\u001b[39m, \u001b[38;5;124m\"\u001b[39m\u001b[38;5;124m\"\u001b[39m, s)\n\u001b[0;32m      2\u001b[0m s \u001b[38;5;241m=\u001b[39m re\u001b[38;5;241m.\u001b[39msub(\u001b[38;5;124m\"\u001b[39m\u001b[38;5;124m<table>(?s)(.*?)</table>\u001b[39m\u001b[38;5;124m\"\u001b[39m, \u001b[38;5;124m\"\u001b[39m\u001b[38;5;124m\"\u001b[39m, s)\n\u001b[0;32m      3\u001b[0m s\n",
      "\u001b[1;31mNameError\u001b[0m: name 're' is not defined"
     ]
    }
   ],
   "source": [
    "s = re.sub(\"<img>(?s)(.*)</img>\", \"\", s)\n",
    "s = re.sub(\"<table>(?s)(.*?)</table>\", \"\", s)\n",
    "s"
   ]
  },
  {
   "cell_type": "code",
   "execution_count": null,
   "id": "829bf896",
   "metadata": {},
   "outputs": [],
   "source": [
    "s = \"\"\"<img> id-US20200270285A1_00025.PNG </img>sbfeb fs\n",
    "vWeather & 0.2 & <table>0.2 & 0.2 & 0.4 & 0.3 & 0.4 & 0.2 & 0.2 & 0.2 & 0.4\n",
    "resistance ΔYI &  &  &  &  &  &  &  &  &  & \n",
    "Crack resistance & O & O & O & O & O & O & O & O & O & O\n",
    "Bleed resistance & O & O & O & O & O & O & O & O & O & O\n",
    "</table><table>\n",
    "TABLE 2\n",
    "</header>\n",
    " & Example\n",
    " & 2-11 & 2-12 & 2-13 & 2-14 & 2-15 & 2-16 & 2-17 & 2-18 & 2-19\n",
    "Organic silicon & 11 & 12 & 13 & 14 & 15 & 16 & 17 & 2 & 9\n",
    "compound &  &  &  &  &  &  &  &  & \n",
    "Silicone-based & KR-500 & KR-500 & KR-500 & KR-500 & KR-500 & KR-500 & KR-500 & KR-401 & KR-401\n",
    "resin &  &  &  &  &  &  &  &  & \n",
    "Weather & 0.3 & 0.2 & 0.2 & 0.3 & 0.4 & 0.4 & 0.3 & 0.4 & 0.4\n",
    "resistance ΔYI &  &  &  &  &  &  &  &  & \n",
    "Crack resistance & ◯ & ◯ & ◯ & ◯ & ◯ & ◯ & ◯ & ◯ & ◯\n",
    "Bleed resistance & ◯ & ◯ & ◯ & ◯ & ◯ & ◯ & ◯ & ◯ & ◯\n",
    "</table>\n",
    "<table>\n",
    "<header>\n",
    "TABLE 3\n",
    "</header>\n",
    " & Comparative Example\n",
    " & 2-1 & 2-2 & 2-3 & 2-4\n",
    "Light stabilizer & Formula (42) & Formula (43) & — & —\n",
    "Silicone-based resin & KR-500 & KR-500 & KR-500 & KR-401\n",
    "Weather resistance ΔYI & 1.0 & 1.2 & 1.6 & 2.6\n",
    "Crack resistance & Δ & Δ & X & X\n",
    "Bleed resistance & ◯ & X & ◯ & ◯\n",
    "</table>As shown in Tables 1 to 3,\n",
    "<img> id-US20200270285A1_00025.PNG </img>\n",
    "it can be understood that the cured coating films prepared in Examples 2-1 to 2-19 by using the organic silicon compounds 1 to 17 obtained in Examples 1-1 to 1-17 as light stabilizers were excellent in the weather resistance, the crack resistance, and the bleed resistance as compared with those of a cured coating film prepared in each of Comparative Examples.\n",
    "On the other hand, cu\"\"\""
   ]
  },
  {
   "cell_type": "code",
   "execution_count": null,
   "id": "a2573e90",
   "metadata": {},
   "outputs": [],
   "source": [
    "s = re.sub(\"<img>(?s)(.*?)</img>\", \"\", s)\n",
    "s = re.sub(\"<table>(?s)(.*?)</table>\", \"\", s)\n",
    "s"
   ]
  },
  {
   "cell_type": "code",
   "execution_count": null,
   "id": "deb9ce1d",
   "metadata": {},
   "outputs": [],
   "source": [
    "print(s[:267].count('\\n'))\n",
    "print(s[267:1079].count('\\n'))"
   ]
  },
  {
   "cell_type": "code",
   "execution_count": null,
   "id": "3fe5b7e0",
   "metadata": {},
   "outputs": [],
   "source": [
    "a = np.array([1,2,3,4])\n",
    "b = np.array([True,False,False,True])\n",
    "a[b]"
   ]
  },
  {
   "cell_type": "code",
   "execution_count": null,
   "id": "0daf7a54",
   "metadata": {},
   "outputs": [],
   "source": []
  },
  {
   "cell_type": "code",
   "execution_count": null,
   "id": "ecbb774d",
   "metadata": {},
   "outputs": [],
   "source": []
  },
  {
   "cell_type": "code",
   "execution_count": null,
   "id": "ad4051eb",
   "metadata": {},
   "outputs": [],
   "source": []
  },
  {
   "cell_type": "code",
   "execution_count": null,
   "id": "6441b4a3",
   "metadata": {},
   "outputs": [],
   "source": []
  },
  {
   "cell_type": "code",
   "execution_count": null,
   "id": "13c10233",
   "metadata": {},
   "outputs": [],
   "source": []
  },
  {
   "cell_type": "code",
   "execution_count": null,
   "id": "546662e5",
   "metadata": {},
   "outputs": [],
   "source": []
  },
  {
   "cell_type": "code",
   "execution_count": null,
   "id": "a57c687d",
   "metadata": {},
   "outputs": [],
   "source": []
  },
  {
   "cell_type": "code",
   "execution_count": null,
   "id": "600ac662",
   "metadata": {},
   "outputs": [],
   "source": []
  },
  {
   "cell_type": "code",
   "execution_count": null,
   "id": "b791fb22",
   "metadata": {},
   "outputs": [],
   "source": []
  },
  {
   "cell_type": "code",
   "execution_count": null,
   "id": "3f6e0346",
   "metadata": {},
   "outputs": [],
   "source": []
  },
  {
   "cell_type": "code",
   "execution_count": null,
   "id": "3aad0813",
   "metadata": {},
   "outputs": [],
   "source": []
  },
  {
   "cell_type": "code",
   "execution_count": null,
   "id": "7de8c94c",
   "metadata": {},
   "outputs": [],
   "source": []
  },
  {
   "cell_type": "code",
   "execution_count": null,
   "id": "334802b7",
   "metadata": {},
   "outputs": [],
   "source": []
  },
  {
   "cell_type": "code",
   "execution_count": null,
   "id": "701558b5",
   "metadata": {},
   "outputs": [],
   "source": []
  },
  {
   "cell_type": "code",
   "execution_count": null,
   "id": "800bdf7b",
   "metadata": {},
   "outputs": [],
   "source": []
  },
  {
   "cell_type": "code",
   "execution_count": null,
   "id": "37819d1a",
   "metadata": {},
   "outputs": [],
   "source": []
  },
  {
   "cell_type": "code",
   "execution_count": null,
   "id": "d0e747f5",
   "metadata": {},
   "outputs": [],
   "source": []
  },
  {
   "cell_type": "code",
   "execution_count": null,
   "id": "7e3b0b0c",
   "metadata": {},
   "outputs": [],
   "source": []
  },
  {
   "cell_type": "code",
   "execution_count": null,
   "id": "fe908d6f",
   "metadata": {},
   "outputs": [],
   "source": []
  },
  {
   "cell_type": "code",
   "execution_count": null,
   "id": "0739feeb",
   "metadata": {},
   "outputs": [],
   "source": []
  },
  {
   "cell_type": "code",
   "execution_count": null,
   "id": "0b438d24",
   "metadata": {},
   "outputs": [],
   "source": []
  },
  {
   "cell_type": "code",
   "execution_count": null,
   "id": "f83dcc4d",
   "metadata": {},
   "outputs": [],
   "source": []
  }
 ],
 "metadata": {
  "kernelspec": {
   "display_name": "Python 3 (ipykernel)",
   "language": "python",
   "name": "python3"
  },
  "language_info": {
   "codemirror_mode": {
    "name": "ipython",
    "version": 3
   },
   "file_extension": ".py",
   "mimetype": "text/x-python",
   "name": "python",
   "nbconvert_exporter": "python",
   "pygments_lexer": "ipython3",
   "version": "3.9.12"
  }
 },
 "nbformat": 4,
 "nbformat_minor": 5
}
