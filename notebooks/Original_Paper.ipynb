{
 "cells": [
  {
   "cell_type": "code",
   "execution_count": 27,
   "id": "a235ad3d",
   "metadata": {},
   "outputs": [],
   "source": [
    "import os\n",
    "import os.path as osp\n",
    "import nltk\n",
    "# nltk.download('stopwords')\n",
    "# nltk.download('punkt')\n",
    "from nltk.corpus import stopwords\n",
    "english_stopwords = stopwords.words(\"english\")\n",
    "import numpy as np\n",
    "import re\n",
    "import seaborn as sns\n",
    "sns.set_theme(style=\"whitegrid\")\n",
    "import matplotlib.pyplot as plt\n",
    "import pandas as pd\n",
    "import string\n",
    "\n",
    "import pickle\n",
    "import json\n",
    "  "
   ]
  },
  {
   "cell_type": "code",
   "execution_count": 34,
   "id": "8ba91511",
   "metadata": {},
   "outputs": [],
   "source": [
    "dev_path = \"C:\\\\Users\\\\meais\\\\Documents\\\\CMU\\\\Independent Study\\\\ReactionExtraction\\\\data\\\\json\\\\dev\"\n",
    "train_path = \"C:\\\\Users\\\\meais\\\\Documents\\\\CMU\\\\Independent Study\\\\ReactionExtraction\\\\data\\\\json\\\\train\"\n",
    "\n",
    "dev_label_path = \"C:\\\\Users\\\\meais\\\\Documents\\\\CMU\\\\Independent Study\\\\ReactionExtraction\\\\data\\\\dev_labels.pkl\"\n",
    "train_label_path = \"C:\\\\Users\\\\meais\\\\Documents\\\\CMU\\\\Independent Study\\\\ReactionExtraction\\\\data\\\\train_labels.pkl\"\n",
    "\n",
    "punctuation = set('!\"#$%&\\'()*,./:;<>?@[\\\\]^_`{|}~')"
   ]
  },
  {
   "cell_type": "code",
   "execution_count": 48,
   "id": "908b7b76",
   "metadata": {},
   "outputs": [],
   "source": [
    "def preprocess(path, label_path):\n",
    "    data_x = []\n",
    "    data_y = []\n",
    "    labels_dict = pickle.load(open(label_path, \"rb\"))\n",
    "    for f in os.listdir(path):\n",
    "        with open(osp.join(path, f), encoding=\"utf-8\" ) as fp:\n",
    "            data = json.load(fp)\n",
    "            assert(data['count'] == len(data['paragraphs']))\n",
    "            labels = labels_dict[f[:-5]] #\".json\"\n",
    "            assert(len(labels) == data['count'])\n",
    "\n",
    "            filter_labels = np.full(len(labels), True)\n",
    "            new_data = []\n",
    "            for i, line in enumerate(data['paragraphs']):\n",
    "                line_new = [w for w in [word.lower() for word in line] if w not in english_stopwords and w not in punctuation and w.strip()!='']\n",
    "                if(len(line_new) == 0):\n",
    "                    filter_labels[i] = False\n",
    "                else: \n",
    "                    new_data.append(line_new)\n",
    "    #         print(len(filter_labels[filter_labels == False]))\n",
    "            labels = labels[filter_labels]\n",
    "            \n",
    "            assert(len(new_data)==len(labels))\n",
    "            \n",
    "            data_x.append(new_data)\n",
    "            data_y.append(labels)\n",
    "            \n",
    "    return data_x, data_y\n"
   ]
  },
  {
   "cell_type": "code",
   "execution_count": 50,
   "id": "d2528cd1",
   "metadata": {},
   "outputs": [],
   "source": [
    "train_x, train_y = preprocess(train_path, train_label_path)"
   ]
  },
  {
   "cell_type": "code",
   "execution_count": 51,
   "id": "7d1a2519",
   "metadata": {},
   "outputs": [],
   "source": [
    "dev_x, dev_y = preprocess(dev_path, dev_label_path)"
   ]
  },
  {
   "cell_type": "code",
   "execution_count": 52,
   "id": "547d88c8",
   "metadata": {},
   "outputs": [
    {
     "name": "stdout",
     "output_type": "stream",
     "text": [
      "120\n",
      "30\n"
     ]
    }
   ],
   "source": [
    "print(len(train_x))\n",
    "print(len(dev_x))"
   ]
  },
  {
   "cell_type": "code",
   "execution_count": null,
   "id": "d93a145f",
   "metadata": {},
   "outputs": [],
   "source": []
  },
  {
   "cell_type": "code",
   "execution_count": null,
   "id": "9a6aedd3",
   "metadata": {},
   "outputs": [],
   "source": []
  },
  {
   "cell_type": "code",
   "execution_count": null,
   "id": "a64b8a85",
   "metadata": {},
   "outputs": [],
   "source": []
  },
  {
   "cell_type": "code",
   "execution_count": null,
   "id": "dd18aeb9",
   "metadata": {},
   "outputs": [],
   "source": []
  },
  {
   "cell_type": "code",
   "execution_count": null,
   "id": "eccebdb9",
   "metadata": {},
   "outputs": [],
   "source": []
  },
  {
   "cell_type": "code",
   "execution_count": null,
   "id": "011b07d9",
   "metadata": {},
   "outputs": [],
   "source": []
  },
  {
   "cell_type": "code",
   "execution_count": null,
   "id": "195ef132",
   "metadata": {},
   "outputs": [],
   "source": []
  },
  {
   "cell_type": "code",
   "execution_count": null,
   "id": "0c8f93a1",
   "metadata": {},
   "outputs": [],
   "source": []
  },
  {
   "cell_type": "code",
   "execution_count": null,
   "id": "ed8e3d3b",
   "metadata": {},
   "outputs": [],
   "source": []
  },
  {
   "cell_type": "code",
   "execution_count": null,
   "id": "8450f877",
   "metadata": {},
   "outputs": [],
   "source": []
  },
  {
   "cell_type": "code",
   "execution_count": null,
   "id": "69826f87",
   "metadata": {},
   "outputs": [],
   "source": []
  }
 ],
 "metadata": {
  "kernelspec": {
   "display_name": "Python 3 (ipykernel)",
   "language": "python",
   "name": "python3"
  },
  "language_info": {
   "codemirror_mode": {
    "name": "ipython",
    "version": 3
   },
   "file_extension": ".py",
   "mimetype": "text/x-python",
   "name": "python",
   "nbconvert_exporter": "python",
   "pygments_lexer": "ipython3",
   "version": "3.9.12"
  }
 },
 "nbformat": 4,
 "nbformat_minor": 5
}
