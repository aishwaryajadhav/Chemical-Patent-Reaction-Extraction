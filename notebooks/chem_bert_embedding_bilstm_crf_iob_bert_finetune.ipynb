{
 "cells": [
  {
   "cell_type": "code",
   "execution_count": 16,
   "metadata": {
    "colab": {
     "base_uri": "https://localhost:8080/"
    },
    "id": "2O1OB_Nw-DXo",
    "outputId": "710381bd-f9ab-4808-ab30-f307a3c93dfc"
   },
   "outputs": [
    {
     "name": "stdout",
     "output_type": "stream",
     "text": [
      "Requirement already satisfied: datasets in /home/anjadhav/miniconda3/envs/chemIR/lib/python3.7/site-packages (2.6.1)\n",
      "Requirement already satisfied: transformers in /home/anjadhav/miniconda3/envs/chemIR/lib/python3.7/site-packages (4.23.1)\n",
      "Requirement already satisfied: nltk in /home/anjadhav/miniconda3/envs/chemIR/lib/python3.7/site-packages (3.7)\n",
      "Requirement already satisfied: pytorch-crf in /home/anjadhav/miniconda3/envs/chemIR/lib/python3.7/site-packages (0.7.2)\n",
      "Requirement already satisfied: torch in /home/anjadhav/miniconda3/envs/chemIR/lib/python3.7/site-packages (1.13.0)\n",
      "Requirement already satisfied: seaborn in /home/anjadhav/miniconda3/envs/chemIR/lib/python3.7/site-packages (0.12.1)\n",
      "Requirement already satisfied: sklearn in /home/anjadhav/miniconda3/envs/chemIR/lib/python3.7/site-packages (0.0)\n",
      "Requirement already satisfied: matplotlib in /home/anjadhav/miniconda3/envs/chemIR/lib/python3.7/site-packages (3.5.3)\n",
      "Requirement already satisfied: requests>=2.19.0 in /home/anjadhav/miniconda3/envs/chemIR/lib/python3.7/site-packages (from datasets) (2.28.1)\n",
      "Requirement already satisfied: xxhash in /home/anjadhav/miniconda3/envs/chemIR/lib/python3.7/site-packages (from datasets) (3.1.0)\n",
      "Requirement already satisfied: pyarrow>=6.0.0 in /home/anjadhav/miniconda3/envs/chemIR/lib/python3.7/site-packages (from datasets) (10.0.0)\n",
      "Requirement already satisfied: huggingface-hub<1.0.0,>=0.2.0 in /home/anjadhav/miniconda3/envs/chemIR/lib/python3.7/site-packages (from datasets) (0.10.1)\n",
      "Requirement already satisfied: multiprocess in /home/anjadhav/miniconda3/envs/chemIR/lib/python3.7/site-packages (from datasets) (0.70.13)\n",
      "Requirement already satisfied: aiohttp in /home/anjadhav/miniconda3/envs/chemIR/lib/python3.7/site-packages (from datasets) (3.8.3)\n",
      "Requirement already satisfied: responses<0.19 in /home/anjadhav/miniconda3/envs/chemIR/lib/python3.7/site-packages (from datasets) (0.18.0)\n",
      "Requirement already satisfied: dill<0.3.6 in /home/anjadhav/miniconda3/envs/chemIR/lib/python3.7/site-packages (from datasets) (0.3.5.1)\n",
      "Requirement already satisfied: packaging in /home/anjadhav/miniconda3/envs/chemIR/lib/python3.7/site-packages (from datasets) (21.3)\n",
      "Requirement already satisfied: fsspec[http]>=2021.11.1 in /home/anjadhav/miniconda3/envs/chemIR/lib/python3.7/site-packages (from datasets) (2022.10.0)\n",
      "Requirement already satisfied: tqdm>=4.62.1 in /home/anjadhav/miniconda3/envs/chemIR/lib/python3.7/site-packages (from datasets) (4.64.1)\n",
      "Requirement already satisfied: pyyaml>=5.1 in /home/anjadhav/miniconda3/envs/chemIR/lib/python3.7/site-packages (from datasets) (6.0)\n",
      "Requirement already satisfied: numpy>=1.17 in /home/anjadhav/miniconda3/envs/chemIR/lib/python3.7/site-packages (from datasets) (1.21.6)\n",
      "Requirement already satisfied: pandas in /home/anjadhav/miniconda3/envs/chemIR/lib/python3.7/site-packages (from datasets) (1.3.5)\n",
      "Requirement already satisfied: importlib-metadata in /home/anjadhav/miniconda3/envs/chemIR/lib/python3.7/site-packages (from datasets) (4.11.4)\n",
      "Requirement already satisfied: filelock in /home/anjadhav/miniconda3/envs/chemIR/lib/python3.7/site-packages (from transformers) (3.8.0)\n",
      "Requirement already satisfied: regex!=2019.12.17 in /home/anjadhav/miniconda3/envs/chemIR/lib/python3.7/site-packages (from transformers) (2022.9.13)\n",
      "Requirement already satisfied: tokenizers!=0.11.3,<0.14,>=0.11.1 in /home/anjadhav/miniconda3/envs/chemIR/lib/python3.7/site-packages (from transformers) (0.13.1)\n",
      "Requirement already satisfied: joblib in /home/anjadhav/miniconda3/envs/chemIR/lib/python3.7/site-packages (from nltk) (1.2.0)\n",
      "Requirement already satisfied: click in /home/anjadhav/miniconda3/envs/chemIR/lib/python3.7/site-packages (from nltk) (8.1.3)\n",
      "Requirement already satisfied: nvidia-cuda-runtime-cu11==11.7.99 in /home/anjadhav/miniconda3/envs/chemIR/lib/python3.7/site-packages (from torch) (11.7.99)\n",
      "Requirement already satisfied: typing-extensions in /home/anjadhav/miniconda3/envs/chemIR/lib/python3.7/site-packages (from torch) (4.4.0)\n",
      "Requirement already satisfied: nvidia-cublas-cu11==11.10.3.66 in /home/anjadhav/miniconda3/envs/chemIR/lib/python3.7/site-packages (from torch) (11.10.3.66)\n",
      "Requirement already satisfied: nvidia-cudnn-cu11==8.5.0.96 in /home/anjadhav/miniconda3/envs/chemIR/lib/python3.7/site-packages (from torch) (8.5.0.96)\n",
      "Requirement already satisfied: nvidia-cuda-nvrtc-cu11==11.7.99 in /home/anjadhav/miniconda3/envs/chemIR/lib/python3.7/site-packages (from torch) (11.7.99)\n",
      "Requirement already satisfied: setuptools in /home/anjadhav/miniconda3/envs/chemIR/lib/python3.7/site-packages (from nvidia-cublas-cu11==11.10.3.66->torch) (65.4.0)\n",
      "Requirement already satisfied: wheel in /home/anjadhav/miniconda3/envs/chemIR/lib/python3.7/site-packages (from nvidia-cublas-cu11==11.10.3.66->torch) (0.37.1)\n",
      "Requirement already satisfied: scikit-learn in /home/anjadhav/miniconda3/envs/chemIR/lib/python3.7/site-packages (from sklearn) (1.0.2)\n",
      "Requirement already satisfied: cycler>=0.10 in /home/anjadhav/miniconda3/envs/chemIR/lib/python3.7/site-packages (from matplotlib) (0.11.0)\n",
      "Requirement already satisfied: pillow>=6.2.0 in /home/anjadhav/miniconda3/envs/chemIR/lib/python3.7/site-packages (from matplotlib) (9.2.0)\n",
      "Requirement already satisfied: kiwisolver>=1.0.1 in /home/anjadhav/miniconda3/envs/chemIR/lib/python3.7/site-packages (from matplotlib) (1.4.4)\n",
      "Requirement already satisfied: pyparsing>=2.2.1 in /home/anjadhav/miniconda3/envs/chemIR/lib/python3.7/site-packages (from matplotlib) (3.0.9)\n",
      "Requirement already satisfied: python-dateutil>=2.7 in /home/anjadhav/miniconda3/envs/chemIR/lib/python3.7/site-packages (from matplotlib) (2.8.2)\n",
      "Requirement already satisfied: fonttools>=4.22.0 in /home/anjadhav/miniconda3/envs/chemIR/lib/python3.7/site-packages (from matplotlib) (4.38.0)\n",
      "Requirement already satisfied: attrs>=17.3.0 in /home/anjadhav/miniconda3/envs/chemIR/lib/python3.7/site-packages (from aiohttp->datasets) (22.1.0)\n",
      "Requirement already satisfied: multidict<7.0,>=4.5 in /home/anjadhav/miniconda3/envs/chemIR/lib/python3.7/site-packages (from aiohttp->datasets) (6.0.2)\n",
      "Requirement already satisfied: frozenlist>=1.1.1 in /home/anjadhav/miniconda3/envs/chemIR/lib/python3.7/site-packages (from aiohttp->datasets) (1.3.1)\n",
      "Requirement already satisfied: async-timeout<5.0,>=4.0.0a3 in /home/anjadhav/miniconda3/envs/chemIR/lib/python3.7/site-packages (from aiohttp->datasets) (4.0.2)\n",
      "Requirement already satisfied: yarl<2.0,>=1.0 in /home/anjadhav/miniconda3/envs/chemIR/lib/python3.7/site-packages (from aiohttp->datasets) (1.8.1)\n",
      "Requirement already satisfied: charset-normalizer<3.0,>=2.0 in /home/anjadhav/miniconda3/envs/chemIR/lib/python3.7/site-packages (from aiohttp->datasets) (2.1.1)\n",
      "Requirement already satisfied: asynctest==0.13.0 in /home/anjadhav/miniconda3/envs/chemIR/lib/python3.7/site-packages (from aiohttp->datasets) (0.13.0)\n",
      "Requirement already satisfied: aiosignal>=1.1.2 in /home/anjadhav/miniconda3/envs/chemIR/lib/python3.7/site-packages (from aiohttp->datasets) (1.2.0)\n",
      "Requirement already satisfied: pytz>=2017.3 in /home/anjadhav/miniconda3/envs/chemIR/lib/python3.7/site-packages (from pandas->datasets) (2022.5)\n",
      "Requirement already satisfied: six>=1.5 in /home/anjadhav/miniconda3/envs/chemIR/lib/python3.7/site-packages (from python-dateutil>=2.7->matplotlib) (1.16.0)\n",
      "Requirement already satisfied: idna<4,>=2.5 in /home/anjadhav/miniconda3/envs/chemIR/lib/python3.7/site-packages (from requests>=2.19.0->datasets) (3.4)\n",
      "Requirement already satisfied: certifi>=2017.4.17 in /home/anjadhav/miniconda3/envs/chemIR/lib/python3.7/site-packages (from requests>=2.19.0->datasets) (2022.9.24)\n",
      "Requirement already satisfied: urllib3<1.27,>=1.21.1 in /home/anjadhav/miniconda3/envs/chemIR/lib/python3.7/site-packages (from requests>=2.19.0->datasets) (1.26.11)\n",
      "Requirement already satisfied: zipp>=0.5 in /home/anjadhav/miniconda3/envs/chemIR/lib/python3.7/site-packages (from importlib-metadata->datasets) (3.10.0)\n",
      "Requirement already satisfied: scipy>=1.1.0 in /home/anjadhav/miniconda3/envs/chemIR/lib/python3.7/site-packages (from scikit-learn->sklearn) (1.7.3)\n",
      "Requirement already satisfied: threadpoolctl>=2.0.0 in /home/anjadhav/miniconda3/envs/chemIR/lib/python3.7/site-packages (from scikit-learn->sklearn) (3.1.0)\n"
     ]
    }
   ],
   "source": [
    "!pip install datasets transformers nltk pytorch-crf torch seaborn sklearn matplotlib"
   ]
  },
  {
   "cell_type": "code",
   "execution_count": 17,
   "metadata": {
    "id": "Wb1LntOk-HiL"
   },
   "outputs": [],
   "source": [
    "from torchcrf import CRF\n",
    "import os\n",
    "import os.path as osp\n",
    "import nltk\n",
    "import random\n",
    "# nltk.download('stopwords')\n",
    "# nltk.download('punkt')\n",
    "# from nltk.corpus import stopwords\n",
    "# english_stopwords = stopwords.words(\"english\")\n",
    "import numpy as np\n",
    "import re\n",
    "import seaborn as sns\n",
    "sns.set_theme(style=\"whitegrid\")\n",
    "from sklearn.metrics import precision_recall_fscore_support\n",
    "import matplotlib.pyplot as plt\n",
    "import pandas as pd\n",
    "import string\n",
    "import torch.optim as optim\n",
    "import torch\n",
    "import torch.nn as nn\n",
    "import torch.nn.functional as F\n",
    "import math\n",
    "import datasets\n",
    "from datasets import load_dataset\n",
    "import pickle\n",
    "from transformers import AutoTokenizer, AutoModelForSequenceClassification\n",
    "from transformers import BertTokenizer, BertModel\n",
    "import multiprocessing\n",
    "import time\n",
    "from torch.utils.data import DataLoader, Dataset \n",
    "import sys\n",
    "from tqdm import tqdm\n",
    "\n",
    "import warnings\n",
    "warnings.filterwarnings(\"ignore\")"
   ]
  },
  {
   "cell_type": "code",
   "execution_count": 18,
   "metadata": {
    "id": "XPPwJGc7-rG6"
   },
   "outputs": [],
   "source": [
    "test_file = \"test_data_iob.csv\"\n",
    "val_file = \"val_data_iob.csv\"\n",
    "train_file = \"train_data_iob.csv\""
   ]
  },
  {
   "cell_type": "code",
   "execution_count": 19,
   "metadata": {
    "colab": {
     "base_uri": "https://localhost:8080/"
    },
    "id": "T5WVHoZVR-mO",
    "outputId": "e30f28b3-6493-4874-86e5-4b4341e0ea3a"
   },
   "outputs": [
    {
     "name": "stdout",
     "output_type": "stream",
     "text": [
      "Cuda =  True  with num_workers =  8  system version =  3.7.13 (default, Oct 18 2022, 18:57:03) \n",
      "[GCC 11.2.0]\n"
     ]
    }
   ],
   "source": [
    "pretrained_model = \"recobo/chemical-bert-uncased-pharmaceutical-chemical-classifier\"\n",
    "batch_size = 4\n",
    "max_para_length = 128\n",
    "para_seq_len = 16  #number of paras to be encoded and decoded together (hyperparameter)\n",
    "# Check if cuda is available and set device\n",
    "cuda = torch.cuda.is_available()\n",
    "device = torch.device(\"cuda\" if cuda else \"cpu\")\n",
    "\n",
    "# Make sure you choose suitable num_worker, otherwise it will result in errors\n",
    "num_workers = 8 if cuda else 0\n",
    "\n",
    "print(\"Cuda = \", str(cuda), \" with num_workers = \", str(num_workers),  \" system version = \", sys.version)"
   ]
  },
  {
   "cell_type": "code",
   "execution_count": 20,
   "metadata": {
    "id": "HwFvdeKHZQhW"
   },
   "outputs": [],
   "source": [
    "class CRFEmbeddingDataset(Dataset):\n",
    "    def __init__(self, csv_file, para_seq_len, pretrained_model, stride = 1):\n",
    "      df = pd.read_csv(csv_file)\n",
    "\n",
    "      self.para_seq_len = para_seq_len\n",
    "      self.tokenizer = BertTokenizer.from_pretrained(pretrained_model, do_lower=True)    \n",
    "\n",
    "      # Tokenize the paragraphs\n",
    "      self.df = df[\"para\"].apply(self.preprocess)\n",
    "      self.y = df['label']\n",
    "      # self.test = is_test\n",
    "      self.stride = stride\n",
    "  \n",
    "     \n",
    "    def preprocess(self, examples):\n",
    "      return self.tokenizer(examples, truncation=True, \n",
    "                     padding=\"max_length\", max_length=max_para_length,\n",
    "                     return_token_type_ids=False)['input_ids']\n",
    "\n",
    "    def __len__(self):\n",
    "      # if(self.test):\n",
    "      #   # print(math.ceil(len(self.y)/self.para_seq_len))\n",
    "      #   return math.ceil(len(self.y)/self.para_seq_len)\n",
    "      l = math.ceil((len(self.y) - self.para_seq_len + 1) / self.stride)\n",
    "      # print(len(self.y))  \n",
    "      # print(l)\n",
    "      return l\n",
    "    \n",
    "    def __getitem__(self,index):\n",
    "      return torch.LongTensor(list(self.df[index*self.stride: (index*self.stride + self.para_seq_len)])), torch.LongTensor(self.y[index*self.stride: (index*self.stride + self.para_seq_len)].tolist())\n",
    "      "
   ]
  },
  {
   "cell_type": "code",
   "execution_count": 24,
   "metadata": {
    "colab": {
     "base_uri": "https://localhost:8080/"
    },
    "id": "GeKJeI1DnZSt",
    "outputId": "3154a924-0105-4b60-d9ee-d4256fac5be1"
   },
   "outputs": [],
   "source": [
    "train_data = CRFEmbeddingDataset(train_file, para_seq_len = para_seq_len, pretrained_model = pretrained_model, stride = 2)\n",
    "val_data = CRFEmbeddingDataset(val_file, para_seq_len = para_seq_len, pretrained_model = pretrained_model, stride = para_seq_len)\n",
    "test_data = CRFEmbeddingDataset(test_file, para_seq_len = para_seq_len, pretrained_model = pretrained_model, stride = para_seq_len)\n",
    "\n",
    "train_args = dict(shuffle=True, batch_size=batch_size, num_workers=8, pin_memory=True, drop_last=False) if cuda else dict(shuffle=True, batch_size=batch_size, drop_last=False)\n",
    "train_loader = DataLoader(train_data, **train_args)\n",
    "\n",
    "val_args = dict(shuffle=False, batch_size=batch_size, num_workers=8, pin_memory=True, drop_last=False) if cuda else dict(shuffle=False, batch_size=batch_size, drop_last=False)\n",
    "val_loader = DataLoader(val_data, **val_args)\n",
    "\n",
    "\n",
    "test_args = dict(shuffle=False, batch_size=batch_size, num_workers=8, pin_memory=True, drop_last=False) if cuda else dict(shuffle=False, batch_size=batch_size, drop_last=False)\n",
    "test_loader = DataLoader(test_data, **test_args)"
   ]
  },
  {
   "cell_type": "code",
   "execution_count": 25,
   "metadata": {},
   "outputs": [
    {
     "name": "stdout",
     "output_type": "stream",
     "text": [
      "23002\n",
      "471\n",
      "804\n",
      "5751\n",
      "201\n",
      "118\n"
     ]
    }
   ],
   "source": [
    "print(train_data.__len__())\n",
    "print(val_data.__len__())\n",
    "print(test_data.__len__())\n",
    "print(len(train_loader))\n",
    "print(len(test_loader))\n",
    "print(len(val_loader))"
   ]
  },
  {
   "cell_type": "markdown",
   "metadata": {},
   "source": [
    "## Span level analysis"
   ]
  },
  {
   "cell_type": "code",
   "execution_count": 38,
   "metadata": {},
   "outputs": [],
   "source": [
    "def get_span_perf(test_df, predictions):\n",
    "    # print(len(test_df))\n",
    "    test_df = test_df[:][:len(predictions)]\n",
    "    test_df['predictions'] = predictions\n",
    "    # test_df.to_csv(\"bert_embed_iob_bilstm_crf_pred.csv\")\n",
    "    # print(len(test_df)) \n",
    "    test_df = test_df.reset_index(drop=False)\n",
    "    test_df.columns = ['index', 'para', 'label', 'document', 'predictions']\n",
    "\n",
    "    orig = set()\n",
    "    i = 0\n",
    "    while i < len(test_df):\n",
    "        if(test_df['label'][i] == 2):\n",
    "            st = test_df['index'][i]\n",
    "            i +=1\n",
    "            while(i < len(test_df) and test_df['label'][i] == 1):\n",
    "                i+=1\n",
    "            orig.add((st, i-1))\n",
    "        else:\n",
    "            i+=1\n",
    "\n",
    "    pred = set()\n",
    "    i = 0\n",
    "    while i < len(test_df):\n",
    "        if(test_df['predictions'][i] == 2):\n",
    "            st = test_df['index'][i]\n",
    "            i +=1\n",
    "            while(i < len(test_df) and test_df['predictions'][i] == 1):\n",
    "                i+=1\n",
    "            pred.add((st, i-1))\n",
    "        else:\n",
    "            i+=1\n",
    "            \n",
    "    strict_match_spans = orig.intersection(pred)\n",
    "    fuzzy_cnt = 0\n",
    "    for o in orig:\n",
    "        if ((o in pred) or ((o[0]+1,o[1]) in pred) or ((o[0]+1,o[1]-1) in pred) or ((o[0]+1,o[1]+1) in pred) \n",
    "            or ((o[0]-1,o[1]) in pred) or ((o[0]-1,o[1]+1) in pred) or ((o[0]-1,o[1]-1) in pred) or ((o[0],o[1]+1) in pred)\n",
    "            or ((o[0],o[1]-1) in pred)):\n",
    "            fuzzy_cnt+=1\n",
    "    \n",
    "\n",
    "    miss_start_end = 0\n",
    "    miss_start = 0\n",
    "    miss_end = 0\n",
    "\n",
    "    for o in orig:\n",
    "        if(o in pred):\n",
    "            continue \n",
    "        elif(((o[0]-1,o[1]+1) in pred) or ((o[0]-1,o[1]-1) in pred) or ((o[0]+1,o[1]-1) in pred) or ((o[0]+1,o[1]+1) in pred)):\n",
    "            miss_start_end += 1\n",
    "        elif(((o[0]+1,o[1]) in pred) or ((o[0]-1,o[1]) in pred)):\n",
    "            miss_start += 1\n",
    "        elif(((o[0],o[1]+1) in pred) or ((o[0],o[1]-1) in pred)):\n",
    "            miss_end+=1\n",
    "\n",
    "    print(\"Total original spans: \", len(orig))\n",
    "    print(\"Total predicted spans: \", len(pred))\n",
    "    print(\"Total number of original spans correctly predicted acc to strict match: \", len(strict_match_spans))\n",
    "    print(\"Percent of original spans correctly predicted acc to strict match: \", len(strict_match_spans)/len(orig)*100)\n",
    "\n",
    "    print(\"Total number of original spans correctly predicted acc to fuzzy match: \", fuzzy_cnt)\n",
    "    print(\"Percent of original spans correctly predicted acc to fuzzy match: \", fuzzy_cnt/len(orig)*100)\n",
    "\n",
    "    fuzzy_matched_only = miss_start_end+miss_start+miss_end\n",
    "    assert(fuzzy_matched_only == fuzzy_cnt - len(strict_match_spans))\n",
    "    print(\"Count of fuzzy matched spans: \", miss_start_end+miss_start+miss_end)\n",
    "    print(\"Count of spans with misaligned begin and end: {} ({:.2f}%) \".format(miss_start_end, miss_start_end/fuzzy_matched_only*100))\n",
    "    print(\"Count of spans with misaligned begin: {} ({:.2f}%) \".format(miss_start, miss_start/fuzzy_matched_only*100))\n",
    "    print(\"Count of spans with misaligned end: {} ({:.2f}%) \".format(miss_end, miss_end/fuzzy_matched_only*100))\n",
    "\n",
    "    return test_df"
   ]
  },
  {
   "cell_type": "markdown",
   "metadata": {
    "id": "svcSRucHTZs9"
   },
   "source": [
    "## Fixed Bert word Embeddings, BiLSTM encoder, Triplet Decoder"
   ]
  },
  {
   "cell_type": "code",
   "execution_count": 27,
   "metadata": {
    "id": "6_zxBd--j0vk"
   },
   "outputs": [],
   "source": [
    "class BertEmbedding(nn.Module):\n",
    "    def __init__(self, pretrained_model):\n",
    "        super().__init__()\n",
    "        self.model = BertModel.from_pretrained(pretrained_model, output_hidden_states = True)\n",
    "\n",
    "    def forward(self, x):\n",
    "        # print(\"Input to BertEmbedding: \", x.shape)\n",
    "        outputs = self.model(x)\n",
    "        hidden_states = outputs[2]\n",
    "        embedding = torch.cat((hidden_states[-1],hidden_states[-2],hidden_states[-3],hidden_states[-4]), dim = 2)\n",
    "        # print(\"Output from BertEmbedding: \", embedding.shape)\n",
    "        return embedding\n",
    "\n",
    "class ParaEncoderForContext(nn.Module):\n",
    "    def __init__(self, bilayers = 1, input_dim = 3072, hidden_size = 512):\n",
    "        super().__init__()\n",
    "        self.input_dim = input_dim\n",
    "        self.hidden_dim = hidden_size\n",
    "        self.lstm = nn.LSTM(\n",
    "                input_size=input_dim, hidden_size=hidden_size,\n",
    "                num_layers=1, batch_first=True, bidirectional=True)\n",
    "\n",
    "        for name, param in self.lstm.named_parameters():\n",
    "            if 'bias' in name:\n",
    "                nn.init.constant(param, 0.0)\n",
    "            elif 'weight' in name:\n",
    "                nn.init.kaiming_normal_(param)\n",
    "     \n",
    "\n",
    "    def forward(self, x): # (B*T(T=1+2*context), tokens, input_dim)\n",
    "        # print(\"Input to Encoder: \",x.shape)\n",
    "        outputs, _ = self.lstm(x) # (B*T, tokens, 2*hidden_dim)\n",
    "        # print(\"After LSTM: \", outputs.shape)\n",
    "        first = outputs[:, 0, self.hidden_dim:]\n",
    "        second = outputs[:, -1, :self.hidden_dim]\n",
    "        para_embed = torch.cat((second,first), dim = 1) #(B*T, 2*hidden_dim)\n",
    "\n",
    "        # print(\"Output from Encoder\", para_embed.shape)\n",
    "        return para_embed #(B*T, 2*hidden_dim)\n",
    "\n",
    "\n",
    "\n",
    "class ParaDecoderBiLstmCRF(nn.Module):\n",
    "    def __init__(self, input_dim, hidden_size, bilayers = 1):\n",
    "        super().__init__()\n",
    "        # self.input_dim = input_dim\n",
    "        # self.hidden_dim = hidden_size\n",
    "        self.lstm = nn.LSTM(\n",
    "                input_size=input_dim, hidden_size=hidden_size,\n",
    "                num_layers=1, batch_first=True, bidirectional=True)\n",
    "\n",
    "        self.linear = nn.Linear(2*hidden_size, 3, bias= True)\n",
    "        \n",
    "        for name, param in self.lstm.named_parameters():\n",
    "            if 'bias' in name:\n",
    "                nn.init.constant(param, 0.0)\n",
    "            elif 'weight' in name:\n",
    "                nn.init.kaiming_normal_(param)\n",
    "\n",
    "    \n",
    "    def forward(self, x):  #(B, T, 2*encoder.hidden_dim)\n",
    "    # print(\"Input to decoder: \", x.shape) \n",
    "        outputs, _ = self.lstm(x)   #out = (B, T, 2*decoder.hidden_dim)\n",
    "\n",
    "        s0, s1, s2 = outputs.shape\n",
    "        op = outputs.reshape(s0*s1, s2) # (B*T, 2*decoder.hidden_dim)\n",
    "\n",
    "        op2 = self.linear(op)\n",
    "\n",
    "        op3 = op2.view(s0, s1, -1)\n",
    "\n",
    "        return op3 #(B,T,3) #emissions\n",
    "\n",
    "\n",
    "\n",
    "class EncoderDecoderBiLstmCRF(nn.Module):\n",
    "    def __init__(self, embed_model, num_tags, encoder_bilayers = 1, encoder_input_dim = 3072, encoder_hidden_size = 512, decoder_bilayers = 1, decoder_hidden_size = 512, freeze_bert = True):\n",
    "        super().__init__()\n",
    "        self.para_encoder = ParaEncoderForContext(bilayers = encoder_bilayers, input_dim = encoder_input_dim, hidden_size = encoder_hidden_size)\n",
    "        self.para_decoder = ParaDecoderBiLstmCRF(input_dim = encoder_hidden_size*2, hidden_size = decoder_hidden_size, bilayers = decoder_bilayers)\n",
    "        self.crf_model = CRF(num_tags = num_tags, batch_first = True)\n",
    "        self.embed_model = embed_model\n",
    "        \n",
    "        if(freeze_bert):\n",
    "            for param in self.embed_model.parameters():\n",
    "                param.requires_grad = False\n",
    "\n",
    "    def decode(self, emission):\n",
    "        return self.crf_model.decode(emission)\n",
    "\n",
    "    def forward(self, x, y): # (B, 2*context+1, tokens_per_para)\n",
    "    # print(\"Input to model: \", x.shape)\n",
    "        s0, s1, s2 = x.shape\n",
    "        xv = x.view(s0*s1, s2)\n",
    "        embeds = self.embed_model(xv)\n",
    "        para_vec = self.para_encoder(embeds)\n",
    "        pvv = para_vec.view(s0, s1, -1) #(B, T, 2*hidden_dim)\n",
    "        # print(\"Input to decoder: \", pvv.shape)\n",
    "        emission = self.para_decoder(pvv) #(B,T,3) #emissions\n",
    "        log_likelihood = self.crf_model(emission, y, reduction='mean') \n",
    "        return -log_likelihood, emission"
   ]
  },
  {
   "cell_type": "markdown",
   "metadata": {
    "id": "qxePIGPBZefb"
   },
   "source": [
    "## Train and Validate Functions"
   ]
  },
  {
   "cell_type": "code",
   "execution_count": 41,
   "metadata": {
    "id": "R661ZBw5TJ3v"
   },
   "outputs": [],
   "source": [
    "def train(para_model, data_loader):\n",
    "    para_model.train()\n",
    "    # crf_model.train()\n",
    "\n",
    "    avg_loss = []\n",
    "    start = time.time()\n",
    "    all_predictions = []\n",
    "    all_targets = []\n",
    "    \n",
    "    for i, (x, y) in enumerate(tqdm(data_loader, desc=\"Epoch\", leave=False)):\n",
    "        optimizer.zero_grad()\n",
    "        y  = y.to(device) \n",
    "        x = x.to(device)\n",
    "\n",
    "        loss, emission = para_model(x, y)\n",
    "        del x\n",
    "\n",
    "        avg_loss.extend([loss.item()]*len(y))\n",
    "        \n",
    "        decoded_list = para_model.decode(emission)\n",
    "        for l in decoded_list:\n",
    "            all_predictions.extend(l)\n",
    "\n",
    "\n",
    "        all_targets.extend(torch.flatten(y.detach().cpu()).tolist())\n",
    "        \n",
    "        loss.backward()\n",
    "        optimizer.step()\n",
    "        scheduler.step()\n",
    "\n",
    "        del y\n",
    "        del emission\n",
    "        torch.cuda.empty_cache()\n",
    "  \n",
    "        \n",
    "    \n",
    "    end = time.time()\n",
    "    avg_loss = np.mean(avg_loss)\n",
    "    print('learning_rate: {}'.format(scheduler.get_last_lr()))\n",
    "    print('Training loss: {:.2f}, Time: {}'.format(avg_loss, end-start))\n",
    "\n",
    "    all_predictions = np.array(all_predictions)\n",
    "    all_targets = np.array(all_targets)\n",
    "    scores = precision_recall_fscore_support(all_targets, all_predictions, \n",
    "                                            average=\"weighted\", zero_division=0.)\n",
    "\n",
    "    test_scores={\n",
    "      \"eval_accuracy\": (all_predictions == all_targets).sum() / len(all_predictions),\n",
    "      \"eval_precision\": scores[0],\n",
    "      \"eval_recall\": scores[1],\n",
    "      \"eval_f-1\": scores[2]\n",
    "    }\n",
    "    print(test_scores)"
   ]
  },
  {
   "cell_type": "code",
   "execution_count": 42,
   "metadata": {
    "id": "_y3ZyfMCW6A8"
   },
   "outputs": [],
   "source": [
    "def validate(para_model, data_loader):\n",
    "    para_model.eval()\n",
    "    # crf_model.eval()\n",
    "\n",
    "    avg_loss = []\n",
    "    all_predictions = []\n",
    "    all_targets = []\n",
    "    start = time.time()\n",
    "\n",
    "    for i, (x, y) in enumerate(tqdm(data_loader, desc=\"Epoch\", leave=False)):\n",
    "        y = y.to(device)\n",
    "        x = x.to(device)\n",
    "\n",
    "        with torch.no_grad():\n",
    "            loss, emission = para_model(x, y) \n",
    "            del x\n",
    "            \n",
    "            avg_loss.extend([loss.item()]*len(y))\n",
    "\n",
    "            decoded_list = para_model.decode(emission)\n",
    "            \n",
    "            for l in decoded_list:\n",
    "                all_predictions.extend(l)\n",
    "\n",
    "            all_targets.extend(torch.flatten(y.detach().cpu()).tolist())\n",
    "            del emission\n",
    "            del y\n",
    "            torch.cuda.empty_cache()\n",
    "      \n",
    "    end = time.time()\n",
    "    avg_loss = np.mean(avg_loss)\n",
    "    print('learning_rate: {}'.format(scheduler.get_last_lr()))\n",
    "    print('Validation loss: {:.2f}, Time: {}'.format(avg_loss, end-start))\n",
    "\n",
    "    all_predictions = np.array(all_predictions)\n",
    "    all_targets = np.array(all_targets)\n",
    "    scores = precision_recall_fscore_support(all_targets, all_predictions, \n",
    "                                            average=\"weighted\", zero_division=0.)\n",
    "\n",
    "    test_scores={\n",
    "      \"eval_accuracy\": (all_predictions == all_targets).sum() / len(all_predictions),\n",
    "      \"eval_precision\": scores[0],\n",
    "      \"eval_recall\": scores[1],\n",
    "      \"eval_f-1\": scores[2]\n",
    "    }\n",
    "    print(test_scores)\n",
    "    return test_scores[\"eval_f-1\"], all_predictions\n"
   ]
  },
  {
   "cell_type": "code",
   "execution_count": 43,
   "metadata": {
    "id": "0bgq32FRSK3P"
   },
   "outputs": [],
   "source": [
    "def save(model, acc, best=\"\"):\n",
    "    if not os.path.exists('./chem_bert_iob_bilstm_crf_bert_finetune/'):\n",
    "        os.mkdir('./chem_bert_iob_bilstm_crf_bert_finetune/')\n",
    "\n",
    "    torch.save(model.state_dict(), './chem_bert_iob_bilstm_crf_bert_finetune/'+'/{}model_params_{}.pth'.format(best, acc))\n",
    "\n",
    "def load_pretrained_weights(model, pretrained_path):\n",
    "    pretrained_dict = torch.load(pretrained_path)\n",
    "    pretrained_dict = {k: v for k, v in pretrained_dict.items() if k[:12] != \"embed_model.\"}\n",
    "    # print(pretrained_dict.keys())\n",
    "    model_dict = model.state_dict()\n",
    "    model_dict.update(pretrained_dict) \n",
    "    model.load_state_dict(model_dict)\n",
    "    return model    "
   ]
  },
  {
   "cell_type": "markdown",
   "metadata": {
    "id": "VKb52nsGZllu"
   },
   "source": [
    "## Main"
   ]
  },
  {
   "cell_type": "code",
   "execution_count": 44,
   "metadata": {
    "colab": {
     "base_uri": "https://localhost:8080/"
    },
    "id": "uN6Pfp1_YyVl",
    "outputId": "4d59b235-ca6e-411f-a607-91592b5a7906"
   },
   "outputs": [
    {
     "name": "stderr",
     "output_type": "stream",
     "text": [
      "Some weights of the model checkpoint at recobo/chemical-bert-uncased-pharmaceutical-chemical-classifier were not used when initializing BertModel: ['classifier.weight', 'classifier.bias']\n",
      "- This IS expected if you are initializing BertModel from the checkpoint of a model trained on another task or with another architecture (e.g. initializing a BertForSequenceClassification model from a BertForPreTraining model).\n",
      "- This IS NOT expected if you are initializing BertModel from the checkpoint of a model that you expect to be exactly identical (initializing a BertForSequenceClassification model from a BertForSequenceClassification model).\n"
     ]
    },
    {
     "name": "stdout",
     "output_type": "stream",
     "text": [
      "Total params:  130909458\n",
      "Trainable params:  130909458\n",
      "Non Trainable params:  0\n"
     ]
    }
   ],
   "source": [
    "model = EncoderDecoderBiLstmCRF(embed_model = BertEmbedding(pretrained_model), num_tags = 3, freeze_bert=False)\n",
    "# model.load_state_dict(torch.load('./bert_iob_bilstm_crf/model_model_params_0.9428545098368426.pth'))\n",
    "model = load_pretrained_weights(model, './model_model_params_0.9428545098368426.pth')\n",
    "\n",
    "# if torch.cuda.device_count() > 1:\n",
    "#   print(\"Let's use\", torch.cuda.device_count(), \"GPUs!\")\n",
    "#   model = nn.DataParallel(model)\n",
    "model = model.to(device)\n",
    "\n",
    "total_params = sum(p.numel() for p in model.parameters())\n",
    "trainable_total_params = sum(p.numel() for p in model.parameters() if p.requires_grad)\n",
    "non_trainable_total_params = sum(p.numel() for p in model.parameters() if not p.requires_grad)\n",
    "print(\"Total params: \", total_params)\n",
    "print(\"Trainable params: \", trainable_total_params)\n",
    "print(\"Non Trainable params: \", non_trainable_total_params)\n"
   ]
  },
  {
   "cell_type": "code",
   "execution_count": 45,
   "metadata": {
    "id": "Apmgr6gLTH3X"
   },
   "outputs": [],
   "source": [
    "epochs = 10 #changed from 10\n",
    "lamda = 1e-3  #L2 regularization (prev : 1e-4)\n",
    "learning_rate = 5e-5 #changed from 1e-2   ## Greatly reduces LR for bert finetuning\n",
    "\n",
    "# criterion = nn.CrossEntropyLoss()\n",
    "# criterion = criterion.to(device)\n",
    "\n",
    "optimizer = optim.Adam(model.parameters(), lr=learning_rate, weight_decay=lamda)\n",
    "# optimizer.load_state_dict(torch.load('./bert_base_triplet/optimizer_model_params_0.9409211846833226.pth'))    \n",
    "\n",
    "# scheduler = torch.optim.lr_scheduler.MultiStepLR(optimizer, milestones=[i for i in range(4,20,4)], gamma=0.75)\n",
    "scheduler = torch.optim.lr_scheduler.CosineAnnealingLR(optimizer, T_max=(len(train_loader) * epochs))"
   ]
  },
  {
   "cell_type": "code",
   "execution_count": 46,
   "metadata": {
    "colab": {
     "base_uri": "https://localhost:8080/"
    },
    "id": "ApcG3QO1Vel2",
    "outputId": "b5cd2679-a0cd-4469-c595-341d5b6944ca"
   },
   "outputs": [
    {
     "name": "stdout",
     "output_type": "stream",
     "text": [
      "Epoch #1\n"
     ]
    },
    {
     "name": "stderr",
     "output_type": "stream",
     "text": [
      "                                                            \r"
     ]
    },
    {
     "name": "stdout",
     "output_type": "stream",
     "text": [
      "learning_rate: [4.877641290737887e-05]\n",
      "Training loss: 1.32, Time: 4095.447846889496\n",
      "{'eval_accuracy': 0.9722850186940266, 'eval_precision': 0.9720540062578936, 'eval_recall': 0.9722850186940266, 'eval_f-1': 0.9720996777603389}\n"
     ]
    },
    {
     "name": "stderr",
     "output_type": "stream",
     "text": [
      "                                                        \r"
     ]
    },
    {
     "name": "stdout",
     "output_type": "stream",
     "text": [
      "learning_rate: [4.877641290737887e-05]\n",
      "Validation loss: 3.65, Time: 15.204040050506592\n",
      "{'eval_accuracy': 0.9532908704883227, 'eval_precision': 0.9525908355479169, 'eval_recall': 0.9532908704883227, 'eval_f-1': 0.9525667530577686}\n",
      "Total original spans:  911\n",
      "Total predicted spans:  842\n",
      "Total number of original spans correctly predicted acc to strict match:  699\n",
      "Percent of original spans correctly predicted acc to strict match:  76.72886937431394\n",
      "Total number of original spans correctly predicted acc to fuzzy match:  772\n",
      "Percent of original spans correctly predicted acc to fuzzy match:  84.74204171240395\n",
      "Count of fuzzy matched spans:  73\n",
      "Count of spans with misaligned begin and end: 16 (21.92%) \n",
      "Count of spans with misaligned begin: 28 (38.36%) \n",
      "Count of spans with misaligned end: 29 (39.73%) \n",
      "Epoch #2\n"
     ]
    },
    {
     "name": "stderr",
     "output_type": "stream",
     "text": [
      "                                                          \r"
     ]
    },
    {
     "name": "stdout",
     "output_type": "stream",
     "text": [
      "learning_rate: [4.522542485937361e-05]\n",
      "Training loss: 0.36, Time: 3230.8570413589478\n",
      "{'eval_accuracy': 0.9924517433266673, 'eval_precision': 0.992454440132001, 'eval_recall': 0.9924517433266673, 'eval_f-1': 0.9924527337580042}\n"
     ]
    },
    {
     "name": "stderr",
     "output_type": "stream",
     "text": [
      "                                                        \r"
     ]
    },
    {
     "name": "stdout",
     "output_type": "stream",
     "text": [
      "learning_rate: [4.522542485937361e-05]\n",
      "Validation loss: 2.80, Time: 14.896248817443848\n",
      "{'eval_accuracy': 0.9538216560509554, 'eval_precision': 0.9534230759626194, 'eval_recall': 0.9538216560509554, 'eval_f-1': 0.953476708995007}\n",
      "Total original spans:  911\n",
      "Total predicted spans:  861\n",
      "Total number of original spans correctly predicted acc to strict match:  706\n",
      "Percent of original spans correctly predicted acc to strict match:  77.49725576289791\n",
      "Total number of original spans correctly predicted acc to fuzzy match:  764\n",
      "Percent of original spans correctly predicted acc to fuzzy match:  83.86388583973655\n",
      "Count of fuzzy matched spans:  58\n",
      "Count of spans with misaligned begin and end: 28 (48.28%) \n",
      "Count of spans with misaligned begin: 14 (24.14%) \n",
      "Count of spans with misaligned end: 16 (27.59%) \n",
      "Epoch #3\n"
     ]
    },
    {
     "name": "stderr",
     "output_type": "stream",
     "text": [
      "                                                            \r"
     ]
    },
    {
     "name": "stdout",
     "output_type": "stream",
     "text": [
      "learning_rate: [3.9694631307311735e-05]\n",
      "Training loss: 0.24, Time: 4928.052469968796\n",
      "{'eval_accuracy': 0.9950113033649248, 'eval_precision': 0.9950135157658397, 'eval_recall': 0.9950113033649248, 'eval_f-1': 0.9950122317299185}\n"
     ]
    },
    {
     "name": "stderr",
     "output_type": "stream",
     "text": [
      "                                                        \r"
     ]
    },
    {
     "name": "stdout",
     "output_type": "stream",
     "text": [
      "learning_rate: [3.9694631307311735e-05]\n",
      "Validation loss: 4.23, Time: 49.10485291481018\n",
      "{'eval_accuracy': 0.9211783439490446, 'eval_precision': 0.9200920328688463, 'eval_recall': 0.9211783439490446, 'eval_f-1': 0.9204843779941658}\n",
      "Total original spans:  911\n",
      "Total predicted spans:  876\n",
      "Total number of original spans correctly predicted acc to strict match:  614\n",
      "Percent of original spans correctly predicted acc to strict match:  67.39846322722283\n",
      "Total number of original spans correctly predicted acc to fuzzy match:  688\n",
      "Percent of original spans correctly predicted acc to fuzzy match:  75.52140504939628\n",
      "Count of fuzzy matched spans:  74\n",
      "Count of spans with misaligned begin and end: 20 (27.03%) \n",
      "Count of spans with misaligned begin: 20 (27.03%) \n",
      "Count of spans with misaligned end: 34 (45.95%) \n",
      "Epoch #4\n"
     ]
    },
    {
     "name": "stderr",
     "output_type": "stream",
     "text": [
      "Epoch:  20%|█▉        | 1145/5751 [26:03<1:39:13,  1.29s/it]"
     ]
    }
   ],
   "source": [
    "torch.cuda.empty_cache()\n",
    "best_val_f1 = 0\n",
    "val_df = pd.read_csv(val_file)\n",
    "\n",
    "for epoch in range(epochs):\n",
    "    print('Epoch #{}'.format(epoch+1))\n",
    "\n",
    "    train(model, train_loader)\n",
    "    val_f1, val_preds = validate(model, val_loader)\n",
    "    try:\n",
    "        get_span_perf(val_df, val_preds)\n",
    "        save(model, val_f1, best = \"model_\")\n",
    "        save(optimizer, val_f1, best = \"optimizer_\")\n",
    "    except Exception as error:\n",
    "        print(error)\n"
   ]
  },
  {
   "cell_type": "code",
   "execution_count": null,
   "metadata": {
    "id": "ymyNg6tRaCEi"
   },
   "outputs": [],
   "source": [
    "# Test on Test Set"
   ]
  },
  {
   "cell_type": "code",
   "execution_count": null,
   "metadata": {},
   "outputs": [],
   "source": [
    "_, predictions = validate(model, test_loader)"
   ]
  },
  {
   "cell_type": "code",
   "execution_count": null,
   "metadata": {},
   "outputs": [],
   "source": [
    "# Store predictions"
   ]
  },
  {
   "cell_type": "code",
   "execution_count": null,
   "metadata": {},
   "outputs": [],
   "source": [
    "test_df = pd.read_csv(test_file, predictions)\n",
    "print(len(test_df))\n",
    "test_df = get_span_perf(test_df)\n",
    "print(len(test_df))\n",
    "test_df.to_csv(\"chem_bert_embed_iob_bilstm_crf_pred.csv\")"
   ]
  },
  {
   "cell_type": "code",
   "execution_count": null,
   "metadata": {},
   "outputs": [],
   "source": [
    "# Store error cases"
   ]
  },
  {
   "cell_type": "code",
   "execution_count": null,
   "metadata": {},
   "outputs": [],
   "source": [
    "error = test_df[test_df['label'] != test_df['predictions']]\n",
    "print((len(test_df)- len(error)) / len(test_df))\n",
    "print(len(error))\n",
    "error.to_csv(\"errors_bert_embed_iob_bilstm_crf.csv\")"
   ]
  },
  {
   "cell_type": "code",
   "execution_count": null,
   "metadata": {},
   "outputs": [],
   "source": []
  }
 ],
 "metadata": {
  "accelerator": "GPU",
  "colab": {
   "collapsed_sections": [],
   "provenance": []
  },
  "kernelspec": {
   "display_name": "Python 3 (ipykernel)",
   "language": "python",
   "name": "python3"
  },
  "language_info": {
   "codemirror_mode": {
    "name": "ipython",
    "version": 3
   },
   "file_extension": ".py",
   "mimetype": "text/x-python",
   "name": "python",
   "nbconvert_exporter": "python",
   "pygments_lexer": "ipython3",
   "version": "3.7.13"
  },
  "vscode": {
   "interpreter": {
    "hash": "bca01836d6106e973a10514ba84a22def982a0caf4526f342e9e0f31ef9581b1"
   }
  }
 },
 "nbformat": 4,
 "nbformat_minor": 4
}
