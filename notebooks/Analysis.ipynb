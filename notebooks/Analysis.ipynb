{
 "cells": [
  {
   "cell_type": "code",
   "execution_count": 1,
   "id": "09813be6-9e5a-4f62-a47a-54b1ba5e4ec3",
   "metadata": {},
   "outputs": [
    {
     "data": {
      "text/plain": [
       "0"
      ]
     },
     "execution_count": 1,
     "metadata": {},
     "output_type": "execute_result"
    }
   ],
   "source": [
    "import os\n",
    "os.system(\"nvidia-smi\")"
   ]
  },
  {
   "cell_type": "code",
   "execution_count": 6,
   "id": "ffb55ed0",
   "metadata": {},
   "outputs": [],
   "source": [
    "import os\n",
    "import os.path as osp\n",
    "import nltk\n",
    "# nltk.download('stopwords')\n",
    "# nltk.download('punkt')\n",
    "from nltk.corpus import stopwords\n",
    "english_stopwords = stopwords.words(\"english\")\n",
    "import numpy as np\n",
    "import re\n",
    "import seaborn as sns\n",
    "sns.set_theme(style=\"whitegrid\")\n",
    "import matplotlib.pyplot as plt\n",
    "import pandas as pd\n",
    "import string\n",
    "\n",
    "import pickle\n",
    "import random\n",
    "import collections"
   ]
  },
  {
   "cell_type": "code",
   "execution_count": 220,
   "id": "a109b591",
   "metadata": {},
   "outputs": [],
   "source": [
    "cv_path = \"C:\\\\Users\\\\meais\\\\Documents\\\\CMU\\\\Independent Study\\\\Chemu Data\\\\task2a-reaction-ref-train-dev\\\\dev-vis\\\\spans\\\\\"\n",
    "train_path = \"C:\\\\Users\\\\meais\\\\Documents\\\\CMU\\\\Independent Study\\\\Chemu Data\\\\task2a-reaction-ref-train-dev\\\\train-vis\\\\spans\\\\\""
   ]
  },
  {
   "cell_type": "code",
   "execution_count": 38,
   "id": "2ce77e7f",
   "metadata": {},
   "outputs": [
    {
     "data": {
      "text/plain": [
       "11"
      ]
     },
     "execution_count": 38,
     "metadata": {},
     "output_type": "execute_result"
    }
   ],
   "source": [
    "text = \"\"\"sample text\"\"\"\n",
    "len(text)"
   ]
  },
  {
   "cell_type": "code",
   "execution_count": 36,
   "id": "bc227d9c",
   "metadata": {},
   "outputs": [
    {
     "data": {
      "text/plain": [
       "True"
      ]
     },
     "execution_count": 36,
     "metadata": {},
     "output_type": "execute_result"
    }
   ],
   "source": [
    "text[75738:76112] == \"Example 35 The preparation of N-(3,4-difluorophenyl)-2-fluoro-5-((2-methylthiazol-4-yl) ethynyl) benzamide (ZD066)\\n2-ethynylpyridine was replaced by 4-ethynyl-2-methylthiazole, 4-fluoroaniline was replaced by 3,4-difluoroaniline, while the remaining raw materials, reagents and the preparation method were the same as those in Example 1 to give the product ZD066, yield 80%.\""
   ]
  },
  {
   "cell_type": "code",
   "execution_count": null,
   "id": "8beb39a6",
   "metadata": {},
   "outputs": [],
   "source": [
    "# train vs dev/cv distributions\n",
    "# Calculate distribution of number of paragraphs in the patents\n",
    "# Calculate distribtion of number of words in the patents"
   ]
  },
  {
   "cell_type": "code",
   "execution_count": 162,
   "id": "d1040e5a",
   "metadata": {},
   "outputs": [],
   "source": [
    "def getFiles(path):\n",
    "    all_files = os.listdir(path)\n",
    "    text_files = [f for f in all_files if f[-3:]=='txt']\n",
    "    ann_files = [f for f in all_files if f[-3:]=='ann']\n",
    "    print(\"Numer of ann files: \", len(ann_files))\n",
    "    print(\"Numer of text files: \", len(text_files))\n",
    "    return text_files, ann_files\n",
    "    \n",
    "def getTextFileStats(path, text_files):\n",
    "    # para == line\n",
    "    words_per_para = [] #para length\n",
    "    paras_per_document = []\n",
    "    words_per_document = []\n",
    "    \n",
    "    punctuation = '!\"#$%&\\'()*,./:;<>?@[\\\\]^_`{|}~'\n",
    "\n",
    "    for f in text_files:\n",
    "        wpp = []\n",
    "        ppd = 0\n",
    "\n",
    "        with open(osp.join(path, f), encoding=\"utf-8\" ) as fp:\n",
    "            lines = fp.readlines()\n",
    "            for line in lines:\n",
    "                ppd += 1 \n",
    "                \n",
    "                line = line.lower().translate(str.maketrans('', '', punctuation))\n",
    "                wpp.append(sum([1 for word in nltk.word_tokenize(line) if word not in english_stopwords]))\n",
    "        \n",
    "        words_per_para.extend(wpp)\n",
    "        paras_per_document.append(ppd)\n",
    "        words_per_document.append(sum(wpp))\n",
    " \n",
    "            \n",
    "    return words_per_para, paras_per_document, words_per_document\n",
    "\n",
    "def analyze(path, text_files, words_per_para, paras_per_document, words_per_document):\n",
    "    print(\"Analyzing corpus at: \",  path)\n",
    "    print(\"Numer of text files: \", len(text_files))\n",
    "    print(\"Total words in the corpus: \", np.sum(words_per_document))\n",
    "    print(\"Total paras in the corpus: \", np.sum(paras_per_document))\n",
    "    print(\"Average number of tokens per para: \", np.mean(words_per_para))\n",
    "    print(\"Average number of paras per document: \", np.mean(paras_per_document))\n",
    "\n",
    "def visualize(values, max_val = 512, bins = 100):#512 is bert token limit\n",
    "    print(max(values))\n",
    "    fig, (ax1, ax2) = plt.subplots(1,2, figsize=(15,4))\n",
    "    _,_,_ = ax1.hist([min(w, 512) for w in values],bins = bins)\n",
    "    _,_,_ = ax2.hist([w for w in values],bins = bins)  "
   ]
  },
  {
   "cell_type": "code",
   "execution_count": 163,
   "id": "25b5a8d2",
   "metadata": {},
   "outputs": [
    {
     "name": "stdout",
     "output_type": "stream",
     "text": [
      "Numer of ann files:  30\n",
      "Numer of text files:  30\n"
     ]
    }
   ],
   "source": [
    "text_files, ann_files = getFiles(cv_path)"
   ]
  },
  {
   "cell_type": "code",
   "execution_count": 164,
   "id": "ace7cbad",
   "metadata": {},
   "outputs": [],
   "source": [
    "words_per_para, paras_per_document, words_per_document = getTextFileStats(cv_path, text_files)"
   ]
  },
  {
   "cell_type": "code",
   "execution_count": 165,
   "id": "9abb1150",
   "metadata": {},
   "outputs": [
    {
     "name": "stdout",
     "output_type": "stream",
     "text": [
      "Analyzing corpus at:  C:\\Users\\meais\\Documents\\CMU\\Independent Study\\Chemu Data\\task2a-reaction-ref-train-dev\\dev-vis\\spans\\\n",
      "Numer of text files:  30\n",
      "Total words in the corpus:  294931\n",
      "Total paras in the corpus:  12871\n",
      "Average number of tokens per para:  22.914381166964493\n",
      "Average number of paras per document:  429.03333333333336\n"
     ]
    }
   ],
   "source": [
    "analyze(cv_path, text_files, words_per_para, paras_per_document, words_per_document)"
   ]
  },
  {
   "cell_type": "code",
   "execution_count": 166,
   "id": "c0a848de",
   "metadata": {},
   "outputs": [
    {
     "name": "stdout",
     "output_type": "stream",
     "text": [
      "Numer of ann files:  120\n",
      "Numer of text files:  120\n"
     ]
    }
   ],
   "source": [
    "train_text_files, train_ann_files = getFiles(train_path)\n",
    "train_words_per_para, train_paras_per_document, train_words_per_document = getTextFileStats(train_path, train_text_files)"
   ]
  },
  {
   "cell_type": "code",
   "execution_count": 167,
   "id": "3d03b70d",
   "metadata": {},
   "outputs": [
    {
     "name": "stdout",
     "output_type": "stream",
     "text": [
      "Analyzing corpus at:  C:\\Users\\meais\\Documents\\CMU\\Independent Study\\Chemu Data\\task2a-reaction-ref-train-dev\\train-vis\\spans\\\n",
      "Numer of text files:  120\n",
      "Total words in the corpus:  1186263\n",
      "Total paras in the corpus:  53563\n",
      "Average number of tokens per para:  22.147060470847414\n",
      "Average number of paras per document:  446.35833333333335\n"
     ]
    }
   ],
   "source": [
    "analyze(train_path, train_text_files, train_words_per_para, train_paras_per_document, train_words_per_document)"
   ]
  },
  {
   "cell_type": "code",
   "execution_count": 168,
   "id": "7a6173bd",
   "metadata": {},
   "outputs": [
    {
     "name": "stdout",
     "output_type": "stream",
     "text": [
      "1808\n"
     ]
    },
    {
     "data": {
      "image/png": "[encoded data removed]",
      "text/plain": [
       "<Figure size 1080x288 with 2 Axes>"
      ]
     },
     "metadata": {},
     "output_type": "display_data"
    }
   ],
   "source": [
    "visualize(words_per_para)"
   ]
  },
  {
   "cell_type": "code",
   "execution_count": 169,
   "id": "696d9c60",
   "metadata": {},
   "outputs": [
    {
     "name": "stdout",
     "output_type": "stream",
     "text": [
      "3793\n"
     ]
    },
    {
     "data": {
      "image/png": "[encoded data removed]",
      "text/plain": [
       "<Figure size 1080x288 with 2 Axes>"
      ]
     },
     "metadata": {},
     "output_type": "display_data"
    }
   ],
   "source": [
    "visualize(train_words_per_para)"
   ]
  },
  {
   "cell_type": "code",
   "execution_count": 170,
   "id": "71a19c71",
   "metadata": {},
   "outputs": [
    {
     "name": "stdout",
     "output_type": "stream",
     "text": [
      "955\n"
     ]
    },
    {
     "data": {
      "image/png": "[encoded data removed]",
      "text/plain": [
       "<Figure size 1080x288 with 2 Axes>"
      ]
     },
     "metadata": {},
     "output_type": "display_data"
    }
   ],
   "source": [
    "visualize(paras_per_document, bins = 'auto')"
   ]
  },
  {
   "cell_type": "code",
   "execution_count": 171,
   "id": "dae38eab",
   "metadata": {},
   "outputs": [
    {
     "name": "stdout",
     "output_type": "stream",
     "text": [
      "2677\n"
     ]
    },
    {
     "data": {
      "image/png": "[encoded data removed]",
      "text/plain": [
       "<Figure size 1080x288 with 2 Axes>"
      ]
     },
     "metadata": {},
     "output_type": "display_data"
    }
   ],
   "source": [
    "visualize(train_paras_per_document, bins = 'auto')"
   ]
  },
  {
   "cell_type": "code",
   "execution_count": 172,
   "id": "256ac776",
   "metadata": {},
   "outputs": [
    {
     "name": "stdout",
     "output_type": "stream",
     "text": [
      "18619\n"
     ]
    },
    {
     "data": {
      "image/png": "[encoded data removed]",
      "text/plain": [
       "<Figure size 1080x288 with 2 Axes>"
      ]
     },
     "metadata": {},
     "output_type": "display_data"
    }
   ],
   "source": [
    "visualize(words_per_document, bins = 'auto')"
   ]
  },
  {
   "cell_type": "code",
   "execution_count": 173,
   "id": "e77a3905",
   "metadata": {},
   "outputs": [
    {
     "name": "stdout",
     "output_type": "stream",
     "text": [
      "24813\n"
     ]
    },
    {
     "data": {
      "image/png": "[encoded data removed]",
      "text/plain": [
       "<Figure size 1080x288 with 2 Axes>"
      ]
     },
     "metadata": {},
     "output_type": "display_data"
    }
   ],
   "source": [
    "visualize(train_words_per_document, bins = 'auto')"
   ]
  },
  {
   "cell_type": "code",
   "execution_count": 228,
   "id": "7e84fef2",
   "metadata": {},
   "outputs": [],
   "source": [
    "   \n",
    "def labelReactions(path, ann_files, text_files):\n",
    "    reactions_per_document = []\n",
    "    labels = {}\n",
    "    ann_files.sort()\n",
    "    text_files.sort()\n",
    "    \n",
    "    for af, tf in zip(ann_files, text_files):\n",
    "        with open(osp.join(path, tf), 'r',encoding=\"utf-8\" ) as fp:\n",
    "            with open(osp.join(path, af), 'r', encoding=\"utf-8\" ) as ap:\n",
    "                data = fp.read().rstrip()\n",
    "                \n",
    "                paras = data.count('\\n')+1\n",
    "              \n",
    "                para_labels = np.zeros(paras)\n",
    "\n",
    "                rpd = 0\n",
    "\n",
    "                lines = ap.readlines()\n",
    "                for line in lines:\n",
    "\n",
    "                    ts = line.split()\n",
    "                    if(ts[1] == \"REACTION_SPAN\"):\n",
    "                        rpd +=1\n",
    "                        st = data[:int(ts[2])].count('\\n')\n",
    "                        cnts = data[int(ts[2]):int(ts[3])].count('\\n')+1\n",
    "                        for i in range(st, st+cnts):\n",
    "                            para_labels[i]=1;\n",
    "                \n",
    "#                 filter_mask = [True for i in paras]\n",
    "                \n",
    "#                 for m in re.finditer(\"<img>(?s)(.*?)</img>(\\n)?\", data):\n",
    "#                     s, e = m.span()\n",
    "#                     st = data[:s].count('\\n')\n",
    "#                     cnts = data[s:e].count('\\n')\n",
    "#                     for i in range(st, st+cnts):\n",
    "#                         filter_mask[i]=False;\n",
    "#                     if(data[e]!='\\n'):\n",
    "#                         filter_mask[st+cnts]=False;\n",
    "                        \n",
    "#                 for m in re.finditer(\"<table>(?s)(.*?)</table>(\\n)?\", data):\n",
    "#                     s, e = m.span()\n",
    "#                     st = data[:s].count('\\n')\n",
    "#                     cnts = data[s:e].count('\\n')\n",
    "#                     for i in range(st, st+cnts):\n",
    "#                         filter_mask[i]=False;\n",
    "#                     if(data[e]!='\\n'):\n",
    "#                         filter_mask[st+cnts]=False;     \n",
    "                            \n",
    "#                 para_labels = para_labels[filter_mask]\n",
    "\n",
    "                \n",
    "#                 data = re.sub(\"<img>(?s)(.*)</img>\", \"\", s)\n",
    "#                 data = re.sub(\"<table>(?s)(.*?)</table>\", \"\", s)\n",
    "\n",
    "                labels[tf[:-4]] = para_labels\n",
    "                reactions_per_document.append(rpd)\n",
    "    \n",
    "    return labels, reactions_per_document"
   ]
  },
  {
   "cell_type": "code",
   "execution_count": 232,
   "id": "3d6988c0",
   "metadata": {},
   "outputs": [],
   "source": [
    "labels, reactions_per_document = labelReactions(cv_path, ann_files, text_files)\n",
    "with open('dev_labels.pkl', 'wb') as f:\n",
    "    pickle.dump(labels, f)"
   ]
  },
  {
   "cell_type": "code",
   "execution_count": 236,
   "id": "a5694e0f",
   "metadata": {},
   "outputs": [
    {
     "name": "stdout",
     "output_type": "stream",
     "text": [
      "Total dev reactions:  1244\n"
     ]
    }
   ],
   "source": [
    "print(\"Total dev reactions: \", sum(reactions_per_document))"
   ]
  },
  {
   "cell_type": "code",
   "execution_count": 233,
   "id": "3c3f0db0",
   "metadata": {},
   "outputs": [
    {
     "name": "stdout",
     "output_type": "stream",
     "text": [
      "129\n"
     ]
    },
    {
     "data": {
      "image/png": "[encoded data removed]",
      "text/plain": [
       "<Figure size 1080x288 with 2 Axes>"
      ]
     },
     "metadata": {},
     "output_type": "display_data"
    }
   ],
   "source": [
    "visualize(reactions_per_document, bins = 'auto')"
   ]
  },
  {
   "cell_type": "code",
   "execution_count": 234,
   "id": "5adf2a71",
   "metadata": {},
   "outputs": [],
   "source": [
    "train_labels, train_reactions_per_document = labelReactions(train_path, train_ann_files, train_text_files)\n",
    "with open('train_labels.pkl', 'wb') as f:\n",
    "    pickle.dump(train_labels, f)"
   ]
  },
  {
   "cell_type": "code",
   "execution_count": 235,
   "id": "a11d8e38",
   "metadata": {},
   "outputs": [
    {
     "name": "stdout",
     "output_type": "stream",
     "text": [
      "820\n"
     ]
    },
    {
     "data": {
      "image/png": "[encoded data removed]",
      "text/plain": [
       "<Figure size 1080x288 with 2 Axes>"
      ]
     },
     "metadata": {},
     "output_type": "display_data"
    }
   ],
   "source": [
    "visualize(train_reactions_per_document, bins = 'auto')"
   ]
  },
  {
   "cell_type": "code",
   "execution_count": 51,
   "id": "6db59c43",
   "metadata": {},
   "outputs": [],
   "source": []
  },
  {
   "cell_type": "code",
   "execution_count": 52,
   "id": "9adb6074",
   "metadata": {},
   "outputs": [],
   "source": [
    "# Analysis: Character level — start and end paras might not contain the reaction span from the 1st char or \n",
    "# until the last char —> find the stats for such paras —> how many chars in the paras are in the reaction spans"
   ]
  },
  {
   "cell_type": "code",
   "execution_count": 53,
   "id": "8353f7db",
   "metadata": {},
   "outputs": [],
   "source": [
    "def getFiles(path):\n",
    "    all_files = os.listdir(path)\n",
    "    text_files = [f for f in all_files if f[-3:]=='txt']\n",
    "    ann_files = [f for f in all_files if f[-3:]=='ann']\n",
    "    print(\"Numer of ann files: \", len(ann_files))\n",
    "    print(\"Numer of text files: \", len(text_files))\n",
    "    return text_files, ann_files"
   ]
  },
  {
   "cell_type": "code",
   "execution_count": 54,
   "id": "ae72f53d",
   "metadata": {},
   "outputs": [],
   "source": [
    "cv_path = \"C:\\\\Users\\\\meais\\\\Documents\\\\CMU\\\\Independent Study\\\\ReactionExtraction\\\\data\\\\dev\\\\\"\n",
    "train_path = \"C:\\\\Users\\\\meais\\\\Documents\\\\CMU\\\\Independent Study\\\\ReactionExtraction\\\\data\\\\train\\\\\""
   ]
  },
  {
   "cell_type": "code",
   "execution_count": 55,
   "id": "6178a26b",
   "metadata": {},
   "outputs": [
    {
     "name": "stdout",
     "output_type": "stream",
     "text": [
      "Numer of ann files:  120\n",
      "Numer of text files:  120\n",
      "Numer of ann files:  30\n",
      "Numer of text files:  30\n"
     ]
    }
   ],
   "source": [
    "train_text_files, train_ann_files = getFiles(train_path)\n",
    "dev_text_files, dev_ann_files = getFiles(cv_path)"
   ]
  },
  {
   "cell_type": "code",
   "execution_count": 136,
   "id": "de9bc8bd",
   "metadata": {},
   "outputs": [],
   "source": [
    "def get_half_para_stats(path, text_files, ann_files):\n",
    "    half_para_char_cnt = []\n",
    "    non_reaction_char_cnt = []\n",
    "    reaction_char_count = []\n",
    "\n",
    "    half_paras_per_doc = []\n",
    "\n",
    "    ann_files.sort()\n",
    "    text_files.sort()\n",
    "    # 0: O (Outside) ; 1: I (Inside) ; 2: B (Beginning)\n",
    "    for af, tf in zip(ann_files, text_files):\n",
    "        with open(osp.join(path, tf), 'r',encoding=\"utf-8\" ) as fp:\n",
    "            with open(osp.join(path, af), 'r', encoding=\"utf-8\" ) as ap:\n",
    "                data = fp.read().rstrip()\n",
    "                orig_paras = data.split('\\n')\n",
    "                paras = data.count('\\n')+1\n",
    "                para_char_cumm_cnt = np.zeros(paras)\n",
    "\n",
    "                csum = 0\n",
    "                for i, opara in enumerate(orig_paras):\n",
    "                    csum += len(opara)+1\n",
    "                    para_char_cumm_cnt[i] = csum\n",
    "\n",
    "\n",
    "                half_paras = 0\n",
    "\n",
    "                lines = ap.readlines()\n",
    "                for line in lines:\n",
    "\n",
    "                    ts = line.split()\n",
    "                    if(ts[1] == \"REACTION_SPAN\"):\n",
    "                        if(data[int(ts[2])-1]!='\\n'):\n",
    "                            half_paras += 1\n",
    "                            st = data[:int(ts[2])].count('\\n')\n",
    "                            half_para_char_cnt.append(len(orig_paras[st]))\n",
    "                            non_r = int(ts[2]) - para_char_cumm_cnt[st-1] - 1\n",
    "                            \n",
    "                            non_reaction_char_cnt.append(non_r)\n",
    "                            r = para_char_cumm_cnt[st] - int(ts[2])\n",
    "                            reaction_char_count.append(r)\n",
    "                            \n",
    "                            \n",
    "                            if(data[int(ts[3])+1]!='\\n'):\n",
    "                                \n",
    "                                ed = data[:int(ts[3])].count('\\n')\n",
    "                                if(st == ed):\n",
    "                                    non_r = para_char_cumm_cnt[ed] - int(ts[3]) \n",
    "                                    non_reaction_char_cnt[-1] = non_reaction_char_cnt[-1] + non_r\n",
    "                                    reaction_char_count[-1] = reaction_char_count[-1] - non_r\n",
    "                                    \n",
    "                                else:\n",
    "                                    half_paras += 1\n",
    "                                    half_para_char_cnt.append(len(orig_paras[ed]))\n",
    "\n",
    "                                    non_r = para_char_cumm_cnt[ed] - int(ts[3]) \n",
    "                                    non_reaction_char_cnt.append(non_r)\n",
    "\n",
    "                                    r = int(ts[3]) - para_char_cumm_cnt[ed-1] - 1\n",
    "                                    reaction_char_count.append(r)\n",
    "                                    \n",
    "                                  \n",
    "                half_paras_per_doc.append(half_paras)\n",
    "\n",
    "    return half_para_char_cnt, non_reaction_char_cnt, reaction_char_count, half_paras_per_doc"
   ]
  },
  {
   "cell_type": "code",
   "execution_count": 137,
   "id": "7a4ed078",
   "metadata": {},
   "outputs": [],
   "source": [
    "half_para_char_cnt, non_reaction_char_cnt, reaction_char_count, half_paras_per_doc = get_half_para_stats(train_path, train_text_files, train_ann_files)"
   ]
  },
  {
   "cell_type": "code",
   "execution_count": 142,
   "id": "effe02dd",
   "metadata": {},
   "outputs": [
    {
     "name": "stdout",
     "output_type": "stream",
     "text": [
      "420\n"
     ]
    },
    {
     "data": {
      "image/png": "[encoded data removed]",
      "text/plain": [
       "<Figure size 432x288 with 1 Axes>"
      ]
     },
     "metadata": {},
     "output_type": "display_data"
    }
   ],
   "source": [
    "# Number of partial raction paras per document\n",
    "print(max(half_paras_per_doc))\n",
    "_,_,_ = plt.hist([v for v in half_paras_per_doc if v > 0],bins = 'auto')"
   ]
  },
  {
   "cell_type": "code",
   "execution_count": 156,
   "id": "f601d276",
   "metadata": {},
   "outputs": [
    {
     "data": {
      "image/png": "[encoded data removed]",
      "text/plain": [
       "<Figure size 432x288 with 1 Axes>"
      ]
     },
     "metadata": {},
     "output_type": "display_data"
    }
   ],
   "source": [
    "# Percentage of reaction chars in partial reaction para\n",
    "_,_,_ = plt.hist([n/d * 100 for n, d in zip(reaction_char_count,half_para_char_cnt) ], bins = 100)"
   ]
  },
  {
   "cell_type": "code",
   "execution_count": 157,
   "id": "9ec729f1",
   "metadata": {},
   "outputs": [
    {
     "data": {
      "image/png": "[encoded data removed]",
      "text/plain": [
       "<Figure size 432x288 with 1 Axes>"
      ]
     },
     "metadata": {},
     "output_type": "display_data"
    }
   ],
   "source": [
    "# Percentage of  non - reaction chars in partial reaction para\n",
    "_,_,_ = plt.hist([n/d * 100 for n, d in zip(non_reaction_char_cnt,half_para_char_cnt)], bins = 100)"
   ]
  },
  {
   "cell_type": "code",
   "execution_count": 152,
   "id": "73bf5ce3",
   "metadata": {},
   "outputs": [
    {
     "name": "stdout",
     "output_type": "stream",
     "text": [
      "1328.0\n"
     ]
    },
    {
     "data": {
      "image/png": "[encoded data removed]",
      "text/plain": [
       "<Figure size 432x288 with 1 Axes>"
      ]
     },
     "metadata": {},
     "output_type": "display_data"
    }
   ],
   "source": [
    "# Distribution of reaction chars in partial reaction para\n",
    "print(max(reaction_char_count))\n",
    "_,_,_ = plt.hist([min(r, 512) for r in reaction_char_count], bins = 'auto')"
   ]
  },
  {
   "cell_type": "code",
   "execution_count": 154,
   "id": "53e53e96",
   "metadata": {},
   "outputs": [
    {
     "name": "stdout",
     "output_type": "stream",
     "text": [
      "20348.0\n"
     ]
    },
    {
     "data": {
      "image/png": "[encoded data removed]",
      "text/plain": [
       "<Figure size 432x288 with 1 Axes>"
      ]
     },
     "metadata": {},
     "output_type": "display_data"
    }
   ],
   "source": [
    "# Distribution of non-reaction chars in partial reaction para\n",
    "print(max(non_reaction_char_cnt))\n",
    "_,_,_ = plt.hist([r for r in non_reaction_char_cnt], bins = 'auto')"
   ]
  },
  {
   "cell_type": "code",
   "execution_count": null,
   "id": "9d5ff0c6",
   "metadata": {},
   "outputs": [],
   "source": []
  }
 ],
 "metadata": {
  "kernelspec": {
   "display_name": "Python 3",
   "language": "python",
   "name": "python3"
  },
  "language_info": {
   "codemirror_mode": {
    "name": "ipython",
    "version": 3
   },
   "file_extension": ".py",
   "mimetype": "text/x-python",
   "name": "python",
   "nbconvert_exporter": "python",
   "pygments_lexer": "ipython3",
   "version": "3.7.13"
  }
 },
 "nbformat": 4,
 "nbformat_minor": 5
}
