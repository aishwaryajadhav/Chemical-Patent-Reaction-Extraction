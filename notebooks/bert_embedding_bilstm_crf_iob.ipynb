{
 "cells": [
  {
   "cell_type": "code",
   "execution_count": 9,
   "metadata": {
    "colab": {
     "base_uri": "https://localhost:8080/"
    },
    "id": "2O1OB_Nw-DXo",
    "outputId": "710381bd-f9ab-4808-ab30-f307a3c93dfc"
   },
   "outputs": [
    {
     "name": "stdout",
     "output_type": "stream",
     "text": [
      "Requirement already satisfied: datasets in /home/anjadhav/miniconda3/envs/chemIR/lib/python3.7/site-packages (2.6.1)\n",
      "Requirement already satisfied: transformers in /home/anjadhav/miniconda3/envs/chemIR/lib/python3.7/site-packages (4.23.1)\n",
      "Requirement already satisfied: nltk in /home/anjadhav/miniconda3/envs/chemIR/lib/python3.7/site-packages (3.7)\n",
      "Requirement already satisfied: pytorch-crf in /home/anjadhav/miniconda3/envs/chemIR/lib/python3.7/site-packages (0.7.2)\n",
      "Requirement already satisfied: torch in /home/anjadhav/miniconda3/envs/chemIR/lib/python3.7/site-packages (1.13.0)\n",
      "Requirement already satisfied: seaborn in /home/anjadhav/miniconda3/envs/chemIR/lib/python3.7/site-packages (0.12.1)\n",
      "Collecting sklearn\n",
      "  Downloading sklearn-0.0.tar.gz (1.1 kB)\n",
      "  Preparing metadata (setup.py) ... \u001b[?25ldone\n",
      "\u001b[?25hRequirement already satisfied: matplotlib in /home/anjadhav/miniconda3/envs/chemIR/lib/python3.7/site-packages (3.5.3)\n",
      "Requirement already satisfied: huggingface-hub<1.0.0,>=0.2.0 in /home/anjadhav/miniconda3/envs/chemIR/lib/python3.7/site-packages (from datasets) (0.10.1)\n",
      "Requirement already satisfied: packaging in /home/anjadhav/miniconda3/envs/chemIR/lib/python3.7/site-packages (from datasets) (21.3)\n",
      "Requirement already satisfied: requests>=2.19.0 in /home/anjadhav/miniconda3/envs/chemIR/lib/python3.7/site-packages (from datasets) (2.28.1)\n",
      "Requirement already satisfied: tqdm>=4.62.1 in /home/anjadhav/miniconda3/envs/chemIR/lib/python3.7/site-packages (from datasets) (4.64.1)\n",
      "Requirement already satisfied: numpy>=1.17 in /home/anjadhav/miniconda3/envs/chemIR/lib/python3.7/site-packages (from datasets) (1.21.6)\n",
      "Requirement already satisfied: fsspec[http]>=2021.11.1 in /home/anjadhav/miniconda3/envs/chemIR/lib/python3.7/site-packages (from datasets) (2022.10.0)\n",
      "Requirement already satisfied: pyyaml>=5.1 in /home/anjadhav/miniconda3/envs/chemIR/lib/python3.7/site-packages (from datasets) (6.0)\n",
      "Requirement already satisfied: importlib-metadata in /home/anjadhav/miniconda3/envs/chemIR/lib/python3.7/site-packages (from datasets) (4.11.4)\n",
      "Requirement already satisfied: responses<0.19 in /home/anjadhav/miniconda3/envs/chemIR/lib/python3.7/site-packages (from datasets) (0.18.0)\n",
      "Requirement already satisfied: pandas in /home/anjadhav/miniconda3/envs/chemIR/lib/python3.7/site-packages (from datasets) (1.3.5)\n",
      "Requirement already satisfied: multiprocess in /home/anjadhav/miniconda3/envs/chemIR/lib/python3.7/site-packages (from datasets) (0.70.13)\n",
      "Requirement already satisfied: dill<0.3.6 in /home/anjadhav/miniconda3/envs/chemIR/lib/python3.7/site-packages (from datasets) (0.3.5.1)\n",
      "Requirement already satisfied: aiohttp in /home/anjadhav/miniconda3/envs/chemIR/lib/python3.7/site-packages (from datasets) (3.8.3)\n",
      "Requirement already satisfied: xxhash in /home/anjadhav/miniconda3/envs/chemIR/lib/python3.7/site-packages (from datasets) (3.1.0)\n",
      "Requirement already satisfied: pyarrow>=6.0.0 in /home/anjadhav/miniconda3/envs/chemIR/lib/python3.7/site-packages (from datasets) (10.0.0)\n",
      "Requirement already satisfied: filelock in /home/anjadhav/miniconda3/envs/chemIR/lib/python3.7/site-packages (from transformers) (3.8.0)\n",
      "Requirement already satisfied: tokenizers!=0.11.3,<0.14,>=0.11.1 in /home/anjadhav/miniconda3/envs/chemIR/lib/python3.7/site-packages (from transformers) (0.13.1)\n",
      "Requirement already satisfied: regex!=2019.12.17 in /home/anjadhav/miniconda3/envs/chemIR/lib/python3.7/site-packages (from transformers) (2022.9.13)\n",
      "Requirement already satisfied: click in /home/anjadhav/miniconda3/envs/chemIR/lib/python3.7/site-packages (from nltk) (8.1.3)\n",
      "Requirement already satisfied: joblib in /home/anjadhav/miniconda3/envs/chemIR/lib/python3.7/site-packages (from nltk) (1.2.0)\n",
      "Requirement already satisfied: nvidia-cudnn-cu11==8.5.0.96 in /home/anjadhav/miniconda3/envs/chemIR/lib/python3.7/site-packages (from torch) (8.5.0.96)\n",
      "Requirement already satisfied: nvidia-cuda-nvrtc-cu11==11.7.99 in /home/anjadhav/miniconda3/envs/chemIR/lib/python3.7/site-packages (from torch) (11.7.99)\n",
      "Requirement already satisfied: typing-extensions in /home/anjadhav/miniconda3/envs/chemIR/lib/python3.7/site-packages (from torch) (4.4.0)\n",
      "Requirement already satisfied: nvidia-cuda-runtime-cu11==11.7.99 in /home/anjadhav/miniconda3/envs/chemIR/lib/python3.7/site-packages (from torch) (11.7.99)\n",
      "Requirement already satisfied: nvidia-cublas-cu11==11.10.3.66 in /home/anjadhav/miniconda3/envs/chemIR/lib/python3.7/site-packages (from torch) (11.10.3.66)\n",
      "Requirement already satisfied: setuptools in /home/anjadhav/miniconda3/envs/chemIR/lib/python3.7/site-packages (from nvidia-cublas-cu11==11.10.3.66->torch) (65.4.0)\n",
      "Requirement already satisfied: wheel in /home/anjadhav/miniconda3/envs/chemIR/lib/python3.7/site-packages (from nvidia-cublas-cu11==11.10.3.66->torch) (0.37.1)\n",
      "Collecting scikit-learn\n",
      "  Downloading scikit_learn-1.0.2-cp37-cp37m-manylinux_2_17_x86_64.manylinux2014_x86_64.whl (24.8 MB)\n",
      "\u001b[2K     \u001b[38;2;114;156;31m━━━━━━━━━━━━━━━━━━━━━━━━━━━━━━━━━━━━━━━━\u001b[0m \u001b[32m24.8/24.8 MB\u001b[0m \u001b[31m40.0 MB/s\u001b[0m eta \u001b[36m0:00:00\u001b[0mm eta \u001b[36m0:00:01\u001b[0m0:01\u001b[0m:01\u001b[0m\n",
      "\u001b[?25hRequirement already satisfied: cycler>=0.10 in /home/anjadhav/miniconda3/envs/chemIR/lib/python3.7/site-packages (from matplotlib) (0.11.0)\n",
      "Requirement already satisfied: pyparsing>=2.2.1 in /home/anjadhav/miniconda3/envs/chemIR/lib/python3.7/site-packages (from matplotlib) (3.0.9)\n",
      "Requirement already satisfied: fonttools>=4.22.0 in /home/anjadhav/miniconda3/envs/chemIR/lib/python3.7/site-packages (from matplotlib) (4.38.0)\n",
      "Requirement already satisfied: kiwisolver>=1.0.1 in /home/anjadhav/miniconda3/envs/chemIR/lib/python3.7/site-packages (from matplotlib) (1.4.4)\n",
      "Requirement already satisfied: python-dateutil>=2.7 in /home/anjadhav/miniconda3/envs/chemIR/lib/python3.7/site-packages (from matplotlib) (2.8.2)\n",
      "Requirement already satisfied: pillow>=6.2.0 in /home/anjadhav/miniconda3/envs/chemIR/lib/python3.7/site-packages (from matplotlib) (9.2.0)\n",
      "Requirement already satisfied: attrs>=17.3.0 in /home/anjadhav/miniconda3/envs/chemIR/lib/python3.7/site-packages (from aiohttp->datasets) (22.1.0)\n",
      "Requirement already satisfied: frozenlist>=1.1.1 in /home/anjadhav/miniconda3/envs/chemIR/lib/python3.7/site-packages (from aiohttp->datasets) (1.3.1)\n",
      "Requirement already satisfied: aiosignal>=1.1.2 in /home/anjadhav/miniconda3/envs/chemIR/lib/python3.7/site-packages (from aiohttp->datasets) (1.2.0)\n",
      "Requirement already satisfied: multidict<7.0,>=4.5 in /home/anjadhav/miniconda3/envs/chemIR/lib/python3.7/site-packages (from aiohttp->datasets) (6.0.2)\n",
      "Requirement already satisfied: charset-normalizer<3.0,>=2.0 in /home/anjadhav/miniconda3/envs/chemIR/lib/python3.7/site-packages (from aiohttp->datasets) (2.1.1)\n",
      "Requirement already satisfied: async-timeout<5.0,>=4.0.0a3 in /home/anjadhav/miniconda3/envs/chemIR/lib/python3.7/site-packages (from aiohttp->datasets) (4.0.2)\n",
      "Requirement already satisfied: asynctest==0.13.0 in /home/anjadhav/miniconda3/envs/chemIR/lib/python3.7/site-packages (from aiohttp->datasets) (0.13.0)\n",
      "Requirement already satisfied: yarl<2.0,>=1.0 in /home/anjadhav/miniconda3/envs/chemIR/lib/python3.7/site-packages (from aiohttp->datasets) (1.8.1)\n",
      "Requirement already satisfied: pytz>=2017.3 in /home/anjadhav/miniconda3/envs/chemIR/lib/python3.7/site-packages (from pandas->datasets) (2022.5)\n",
      "Requirement already satisfied: six>=1.5 in /home/anjadhav/miniconda3/envs/chemIR/lib/python3.7/site-packages (from python-dateutil>=2.7->matplotlib) (1.16.0)\n",
      "Requirement already satisfied: certifi>=2017.4.17 in /home/anjadhav/miniconda3/envs/chemIR/lib/python3.7/site-packages (from requests>=2.19.0->datasets) (2022.9.24)\n",
      "Requirement already satisfied: urllib3<1.27,>=1.21.1 in /home/anjadhav/miniconda3/envs/chemIR/lib/python3.7/site-packages (from requests>=2.19.0->datasets) (1.26.11)\n",
      "Requirement already satisfied: idna<4,>=2.5 in /home/anjadhav/miniconda3/envs/chemIR/lib/python3.7/site-packages (from requests>=2.19.0->datasets) (3.4)\n",
      "Requirement already satisfied: zipp>=0.5 in /home/anjadhav/miniconda3/envs/chemIR/lib/python3.7/site-packages (from importlib-metadata->datasets) (3.10.0)\n",
      "Collecting scipy>=1.1.0\n",
      "  Downloading scipy-1.7.3-cp37-cp37m-manylinux_2_12_x86_64.manylinux2010_x86_64.whl (38.1 MB)\n",
      "\u001b[2K     \u001b[38;2;114;156;31m━━━━━━━━━━━━━━━━━━━━━━━━━━━━━━━━━━━━━━━━\u001b[0m \u001b[32m38.1/38.1 MB\u001b[0m \u001b[31m33.5 MB/s\u001b[0m eta \u001b[36m0:00:00\u001b[0mm eta \u001b[36m0:00:01\u001b[0m0:01\u001b[0m:01\u001b[0m\n",
      "\u001b[?25hCollecting threadpoolctl>=2.0.0\n",
      "  Downloading threadpoolctl-3.1.0-py3-none-any.whl (14 kB)\n",
      "Building wheels for collected packages: sklearn\n",
      "  Building wheel for sklearn (setup.py) ... \u001b[?25ldone\n",
      "\u001b[?25h  Created wheel for sklearn: filename=sklearn-0.0-py2.py3-none-any.whl size=1304 sha256=1d50e2a04a051233330b47e8a83f8e9d78baeb353e89920d6873141f94aa0825\n",
      "  Stored in directory: /home/anjadhav/.cache/pip/wheels/46/ef/c3/157e41f5ee1372d1be90b09f74f82b10e391eaacca8f22d33e\n",
      "Successfully built sklearn\n",
      "Installing collected packages: threadpoolctl, scipy, scikit-learn, sklearn\n",
      "Successfully installed scikit-learn-1.0.2 scipy-1.7.3 sklearn-0.0 threadpoolctl-3.1.0\n"
     ]
    }
   ],
   "source": [
    "!pip install datasets transformers nltk pytorch-crf torch seaborn sklearn matplotlib"
   ]
  },
  {
   "cell_type": "code",
   "execution_count": 10,
   "metadata": {
    "id": "Wb1LntOk-HiL"
   },
   "outputs": [],
   "source": [
    "from torchcrf import CRF\n",
    "import os\n",
    "import os.path as osp\n",
    "import nltk\n",
    "import random\n",
    "# nltk.download('stopwords')\n",
    "# nltk.download('punkt')\n",
    "# from nltk.corpus import stopwords\n",
    "# english_stopwords = stopwords.words(\"english\")\n",
    "import numpy as np\n",
    "import re\n",
    "import seaborn as sns\n",
    "sns.set_theme(style=\"whitegrid\")\n",
    "from sklearn.metrics import precision_recall_fscore_support\n",
    "import matplotlib.pyplot as plt\n",
    "import pandas as pd\n",
    "import string\n",
    "import torch.optim as optim\n",
    "import torch\n",
    "import torch.nn as nn\n",
    "import torch.nn.functional as F\n",
    "import math\n",
    "import datasets\n",
    "from datasets import load_dataset\n",
    "import pickle\n",
    "from transformers import AutoTokenizer, AutoModelForSequenceClassification\n",
    "from transformers import BertTokenizer, BertModel\n",
    "import multiprocessing\n",
    "import time\n",
    "from torch.utils.data import DataLoader, Dataset \n",
    "import sys\n",
    "from tqdm import tqdm\n",
    "\n",
    "import warnings\n",
    "warnings.filterwarnings(\"ignore\")"
   ]
  },
  {
   "cell_type": "code",
   "execution_count": null,
   "metadata": {
    "id": "XPPwJGc7-rG6"
   },
   "outputs": [],
   "source": [
    "test_file = \"test_data_iob.csv\"\n",
    "val_file = \"val_data_iob.csv\"\n",
    "train_file = \"train_data_iob.csv\""
   ]
  },
  {
   "cell_type": "code",
   "execution_count": 18,
   "metadata": {
    "colab": {
     "base_uri": "https://localhost:8080/"
    },
    "id": "T5WVHoZVR-mO",
    "outputId": "e30f28b3-6493-4874-86e5-4b4341e0ea3a"
   },
   "outputs": [
    {
     "name": "stdout",
     "output_type": "stream",
     "text": [
      "Cuda =  True  with num_workers =  8  system version =  3.9.13 | packaged by conda-forge | (main, May 27 2022, 16:56:21) \n",
      "[GCC 10.3.0]\n"
     ]
    }
   ],
   "source": [
    "pretrained_model = \"bert-base-uncased\"\n",
    "batch_size = 32\n",
    "max_para_length = 128\n",
    "para_seq_len = 16  #number of paras to be encoded and decoded together (hyperparameter)\n",
    "# Check if cuda is available and set device\n",
    "cuda = torch.cuda.is_available()\n",
    "device = torch.device(\"cuda\" if cuda else \"cpu\")\n",
    "\n",
    "# Make sure you choose suitable num_worker, otherwise it will result in errors\n",
    "num_workers = 8 if cuda else 0\n",
    "\n",
    "print(\"Cuda = \", str(cuda), \" with num_workers = \", str(num_workers),  \" system version = \", sys.version)"
   ]
  },
  {
   "cell_type": "code",
   "execution_count": 47,
   "metadata": {
    "id": "HwFvdeKHZQhW"
   },
   "outputs": [],
   "source": [
    "class CRFEmbeddingDataset(Dataset):\n",
    "    def __init__(self, csv_file, para_seq_len, pretrained_model, is_test=False):\n",
    "      df = pd.read_csv(csv_file)\n",
    "\n",
    "      self.para_seq_len = para_seq_len\n",
    "      self.tokenizer = BertTokenizer.from_pretrained(pretrained_model, do_lower=True)    \n",
    "\n",
    "      # Tokenize the paragraphs\n",
    "      self.df = df[\"para\"].apply(self.preprocess)\n",
    "      self.y = df['label']\n",
    "      # self.test = is_test\n",
    "      if(is_test):\n",
    "        self.stride = self.para_seq_len\n",
    "      else:\n",
    "        self.stride = self.para_seq_len//2\n",
    "  \n",
    "     \n",
    "    def preprocess(self, examples):\n",
    "      return self.tokenizer(examples, truncation=True, \n",
    "                     padding=\"max_length\", max_length=max_para_length,\n",
    "                     return_token_type_ids=False)['input_ids']\n",
    "\n",
    "    def __len__(self):\n",
    "      # if(self.test):\n",
    "      #   # print(math.ceil(len(self.y)/self.para_seq_len))\n",
    "      #   return math.ceil(len(self.y)/self.para_seq_len)\n",
    "      l = math.ceil((len(self.y) - self.para_seq_len + 1) / self.stride)\n",
    "      # print(len(self.y))  \n",
    "      # print(l)\n",
    "      return l\n",
    "    \n",
    "    def __getitem__(self,index):\n",
    "      return torch.LongTensor(list(self.df[index*self.stride: (index*self.stride + self.para_seq_len)])), torch.LongTensor(self.y[index*self.stride: (index*self.stride + self.para_seq_len)].tolist())\n",
    "      "
   ]
  },
  {
   "cell_type": "code",
   "execution_count": 48,
   "metadata": {
    "colab": {
     "base_uri": "https://localhost:8080/"
    },
    "id": "GeKJeI1DnZSt",
    "outputId": "3154a924-0105-4b60-d9ee-d4256fac5be1"
   },
   "outputs": [],
   "source": [
    "train_data = CRFEmbeddingDataset(train_file, para_seq_len = para_seq_len, pretrained_model = pretrained_model)\n",
    "val_data = CRFEmbeddingDataset(val_file, para_seq_len = para_seq_len, pretrained_model = pretrained_model, is_test= True)\n",
    "test_data = CRFEmbeddingDataset(test_file, para_seq_len = para_seq_len, pretrained_model = pretrained_model, is_test= True)\n",
    "\n",
    "train_args = dict(shuffle=True, batch_size=batch_size, num_workers=8, pin_memory=True, drop_last=False) if cuda else dict(shuffle=True, batch_size=batch_size, drop_last=False)\n",
    "train_loader = DataLoader(train_data, **train_args)\n",
    "\n",
    "val_args = dict(shuffle=False, batch_size=batch_size, num_workers=8, pin_memory=True, drop_last=False) if cuda else dict(shuffle=False, batch_size=batch_size, drop_last=False)\n",
    "val_loader = DataLoader(val_data, **val_args)\n",
    "\n",
    "\n",
    "test_args = dict(shuffle=False, batch_size=batch_size, num_workers=8, pin_memory=True, drop_last=False) if cuda else dict(shuffle=False, batch_size=batch_size, drop_last=False)\n",
    "test_loader = DataLoader(test_data, **test_args)"
   ]
  },
  {
   "cell_type": "code",
   "execution_count": 49,
   "metadata": {},
   "outputs": [
    {
     "data": {
      "text/plain": [
       "804"
      ]
     },
     "execution_count": 49,
     "metadata": {},
     "output_type": "execute_result"
    }
   ],
   "source": [
    "train_data.__len__()\n",
    "val_data.__len__()\n",
    "test_data.__len__()"
   ]
  },
  {
   "cell_type": "markdown",
   "metadata": {
    "id": "svcSRucHTZs9"
   },
   "source": [
    "## Fixed Bert word Embeddings, BiLSTM encoder, Triplet Decoder"
   ]
  },
  {
   "cell_type": "code",
   "execution_count": 50,
   "metadata": {
    "id": "6_zxBd--j0vk"
   },
   "outputs": [],
   "source": [
    "class BertEmbedding(nn.Module):\n",
    "  def __init__(self, pretrained_model):\n",
    "    super().__init__()\n",
    "    self.model = BertModel.from_pretrained(pretrained_model, output_hidden_states = True)\n",
    "\n",
    "  def forward(self, x):\n",
    "    # print(\"Input to BertEmbedding: \", x.shape)\n",
    "    outputs = self.model(x)\n",
    "    hidden_states = outputs[2]\n",
    "    embedding = torch.cat((hidden_states[-1],hidden_states[-2],hidden_states[-3],hidden_states[-4]), dim = 2)\n",
    "    # print(\"Output from BertEmbedding: \", embedding.shape)\n",
    "    return embedding\n",
    "\n",
    "class ParaEncoderForContext(nn.Module):\n",
    "  def __init__(self, bilayers = 1, input_dim = 3072, hidden_size = 512):\n",
    "    super().__init__()\n",
    "    self.input_dim = input_dim\n",
    "    self.hidden_dim = hidden_size\n",
    "    self.lstm = nn.LSTM(\n",
    "            input_size=input_dim, hidden_size=hidden_size,\n",
    "            num_layers=1, batch_first=True, bidirectional=True)\n",
    "    \n",
    "    for name, param in self.lstm.named_parameters():\n",
    "      if 'bias' in name:\n",
    "        nn.init.constant(param, 0.0)\n",
    "      elif 'weight' in name:\n",
    "        nn.init.orthogonal(param)\n",
    "     \n",
    "\n",
    "  def forward(self, x): # (B*T(T=1+2*context), tokens, input_dim)\n",
    "    # print(\"Input to Encoder: \",x.shape)\n",
    "    outputs, _ = self.lstm(x) # (B*T, tokens, 2*hidden_dim)\n",
    "    # print(\"After LSTM: \", outputs.shape)\n",
    "    first = outputs[:, 0, self.hidden_dim:]\n",
    "    second = outputs[:, -1, :self.hidden_dim]\n",
    "    para_embed = torch.cat((second,first), dim = 1) #(B*T, 2*hidden_dim)\n",
    "\n",
    "    # print(\"Output from Encoder\", para_embed.shape)\n",
    "    return para_embed #(B*T, 2*hidden_dim)\n",
    "\n",
    "\n",
    "\n",
    "class ParaDecoderBiLstmCRF(nn.Module):\n",
    "  def __init__(self, input_dim, hidden_size, bilayers = 1):\n",
    "    super().__init__()\n",
    "    # self.input_dim = input_dim\n",
    "    # self.hidden_dim = hidden_size\n",
    "    self.lstm = nn.LSTM(\n",
    "            input_size=input_dim, hidden_size=hidden_size,\n",
    "            num_layers=1, batch_first=True, bidirectional=True)\n",
    "    \n",
    "    for name, param in self.lstm.named_parameters():\n",
    "      if 'bias' in name:\n",
    "        nn.init.constant(param, 0.0)\n",
    "      elif 'weight' in name:\n",
    "        nn.init.orthogonal(param)\n",
    "     \n",
    "    self.linear = nn.Linear(2*hidden_size, 3, bias= True)\n",
    "    \n",
    "    \n",
    "  def forward(self, x):  #(B, T, 2*encoder.hidden_dim)\n",
    "    # print(\"Input to decoder: \", x.shape) \n",
    "    outputs, _ = self.lstm(x)   #out = (B, T, 2*decoder.hidden_dim)\n",
    "    \n",
    "    s0, s1, s2 = outputs.shape\n",
    "    op = outputs.reshape(s0*s1, s2) # (B*T, 2*decoder.hidden_dim)\n",
    "    \n",
    "    op2 = self.linear(op)\n",
    "    \n",
    "    op3 = op2.view(s0, s1, -1)\n",
    "    \n",
    "    return op3 #(B,T,3) #emissions\n",
    "\n",
    "\n",
    "\n",
    "class EncoderDecoderBiLstmCRF(nn.Module):\n",
    "  def __init__(self, embed_model, crf_model, encoder_bilayers = 1, encoder_input_dim = 3072, encoder_hidden_size = 512, decoder_bilayers = 1, decoder_hidden_size = 512):\n",
    "    super().__init__()\n",
    "    self.para_encoder = ParaEncoderForContext(bilayers = encoder_bilayers, input_dim = encoder_input_dim, hidden_size = encoder_hidden_size)\n",
    "    self.para_decoder = ParaDecoderBiLstmCRF(input_dim = encoder_hidden_size*2, hidden_size = decoder_hidden_size, bilayers = decoder_bilayers)\n",
    "    self.crf_model = crf_model\n",
    "    self.embed_model = embed_model\n",
    "    #freeze bert embedding layer\n",
    "    for param in self.embed_model.parameters():\n",
    "      param.requires_grad = False\n",
    "\n",
    "  def decode(self, emissions):\n",
    "    return self.crf_model.decode(emissions)\n",
    "\n",
    "  def forward(self, x, y): # (B, 2*context+1, tokens_per_para)\n",
    "    # print(\"Input to model: \", x.shape)\n",
    "    s0, s1, s2 = x.shape\n",
    "    xv = x.view(s0*s1, s2)\n",
    "    embeds = self.embed_model(xv)\n",
    "    para_vec = self.para_encoder(embeds)\n",
    "    pvv = para_vec.view(s0, s1, -1) #(B, T, 2*hidden_dim)\n",
    "    # print(\"Input to decoder: \", pvv.shape)\n",
    "    decoder_result = self.para_decoder(pvv) #(B,T,3) #emissions\n",
    "    log_likelihood = self.crf_model(decoder_result, y, reduction='mean') \n",
    "    return -log_likelihood, decoder_result"
   ]
  },
  {
   "cell_type": "markdown",
   "metadata": {
    "id": "qxePIGPBZefb"
   },
   "source": [
    "## Train and Validate Functions"
   ]
  },
  {
   "cell_type": "code",
   "execution_count": 51,
   "metadata": {
    "id": "R661ZBw5TJ3v"
   },
   "outputs": [],
   "source": [
    "def train(para_model, data_loader):\n",
    "  para_model.train()\n",
    "  # crf_model.train()\n",
    "    \n",
    "  avg_loss = []\n",
    "  # all_predictions = []\n",
    "  # all_targets = []\n",
    "  start = time.time()\n",
    "\n",
    "  for i, (x, y) in enumerate(tqdm(data_loader, desc=\"Epoch\", leave=False)):\n",
    "    optimizer.zero_grad()\n",
    "    y  = y.to(device) \n",
    "    x = x.to(device)\n",
    " \n",
    "    loss, _ = para_model(x, y) \n",
    "\n",
    "    \n",
    "    # print(\"Output from model: \", output.shape)  \n",
    "\n",
    "#     log_likelihood = crf_model(output, y)  #think of crf as softmax_cross_entropy_loss (activation + loss)\n",
    "#     loss = -log_likelihood\n",
    "    \n",
    "    avg_loss.extend([loss.item()]*len(y))\n",
    "\n",
    "    # output = nn.Sigmoid()(output)\n",
    "\n",
    "    loss.backward()\n",
    "    optimizer.step()\n",
    "    scheduler.step()\n",
    "    \n",
    "    #do not decode during training to save time\n",
    "#     decoded_list = crf_model.decode(output)\n",
    "#     for l in decoded_list:\n",
    "#         all_predictions.extend(l)\n",
    "        \n",
    "#     all_targets.extend(torch.flatten(y).cpu().tolist())\n",
    "    \n",
    "    \n",
    "    \n",
    "  end = time.time()\n",
    "  avg_loss = np.mean(avg_loss)\n",
    "  print('learning_rate: {}'.format(scheduler.get_last_lr()))\n",
    "  print('Training loss: {:.2f}, Time: {}'.format(avg_loss, end-start))\n",
    "  \n",
    "#   all_predictions = np.array(all_predictions)\n",
    "#   # print(all_predictions.shape)\n",
    "#   all_targets = np.array(all_targets)\n",
    "#   scores = precision_recall_fscore_support(all_targets, all_predictions, \n",
    "#                                             average=\"weighted\", zero_division=0.)\n",
    "  \n",
    "#   test_scores={\n",
    "#       \"eval_accuracy\": (all_predictions == all_targets).sum() / len(all_predictions),\n",
    "#       \"eval_precision\": scores[0],\n",
    "#       \"eval_recall\": scores[1],\n",
    "#       \"eval_f-1\": scores[2]\n",
    "#   }\n",
    "#   print(test_scores)\n",
    "#   return test_scores[\"eval_f-1\"]\n"
   ]
  },
  {
   "cell_type": "code",
   "execution_count": 52,
   "metadata": {
    "id": "_y3ZyfMCW6A8"
   },
   "outputs": [],
   "source": [
    "def validate(para_model, data_loader):\n",
    "  para_model.eval()\n",
    "  # crf_model.eval()\n",
    "  \n",
    "  avg_loss = []\n",
    "  all_predictions = []\n",
    "  all_targets = []\n",
    "  start = time.time()\n",
    "\n",
    "  for i, (x, y) in enumerate(tqdm(data_loader, desc=\"Epoch\", leave=False)):\n",
    "    # optimizer.zero_grad()\n",
    "\n",
    "    y = y.to(device)\n",
    "    x = x.to(device)\n",
    "\n",
    "    with torch.no_grad():\n",
    "      loss, emissions = para_model(x, y)\n",
    "\n",
    "      # loss = crf_model(output, y)  #think of crf as softmax_cross_entropy_loss (activation + loss)\n",
    "      # loss = -log_likelihood\n",
    "      avg_loss.extend([loss.item()]*len(y))\n",
    "\n",
    "      # output = nn.Sigmoid()(output)\n",
    "\n",
    "      decoded_list = para_model.decode(emissions)\n",
    "      for l in decoded_list:\n",
    "        all_predictions.extend(l)\n",
    "      \n",
    "      all_targets.extend(torch.flatten(y).cpu().tolist())\n",
    "    \n",
    "\n",
    "    \n",
    "  end = time.time()\n",
    "  avg_loss = np.mean(avg_loss)\n",
    "  print('learning_rate: {}'.format(scheduler.get_last_lr()))\n",
    "  print('Validation loss: {:.2f}, Time: {}'.format(avg_loss, end-start))\n",
    "  \n",
    "  all_predictions = np.array(all_predictions)\n",
    "  all_targets = np.array(all_targets)\n",
    "  scores = precision_recall_fscore_support(all_targets, all_predictions, \n",
    "                                            average=\"weighted\", zero_division=0.)\n",
    "  \n",
    "  test_scores={\n",
    "      \"eval_accuracy\": (all_predictions == all_targets).sum() / len(all_predictions),\n",
    "      \"eval_precision\": scores[0],\n",
    "      \"eval_recall\": scores[1],\n",
    "      \"eval_f-1\": scores[2]\n",
    "  }\n",
    "  print(test_scores)\n",
    "  return test_scores[\"eval_f-1\"], all_predictions\n"
   ]
  },
  {
   "cell_type": "code",
   "execution_count": 53,
   "metadata": {
    "id": "0bgq32FRSK3P"
   },
   "outputs": [],
   "source": [
    "def save(model, acc, best=\"\"):\n",
    "    if not os.path.exists('./bert_iob_bilstm_crf_2/'):\n",
    "        os.mkdir('./bert_iob_bilstm_crf_2/')\n",
    "\n",
    "    torch.save(model.state_dict(), './bert_iob_bilstm_crf_2/'+'/{}model_params_{}.pth'.format(best, acc))\n",
    "\n",
    "def load_pretrained_weights(model, pretrained_path):\n",
    "    pretrained_dict = torch.load(pretrained_path)\n",
    "#     pretrained_dict = {k: v for k, v in pretrained_dict.items() if k[:13] == \"para_encoder.\"}\n",
    "    \n",
    "    model_dict = model.state_dict()\n",
    "    model_dict.update(pretrained_dict) \n",
    "    model.load_state_dict(model_dict)\n",
    "    return model    "
   ]
  },
  {
   "cell_type": "markdown",
   "metadata": {
    "id": "VKb52nsGZllu"
   },
   "source": [
    "## Main"
   ]
  },
  {
   "cell_type": "code",
   "execution_count": 71,
   "metadata": {
    "colab": {
     "base_uri": "https://localhost:8080/"
    },
    "id": "uN6Pfp1_YyVl",
    "outputId": "4d59b235-ca6e-411f-a607-91592b5a7906"
   },
   "outputs": [
    {
     "name": "stderr",
     "output_type": "stream",
     "text": [
      "Some weights of the model checkpoint at bert-base-uncased were not used when initializing BertModel: ['cls.predictions.transform.dense.bias', 'cls.predictions.transform.LayerNorm.bias', 'cls.predictions.bias', 'cls.seq_relationship.weight', 'cls.seq_relationship.bias', 'cls.predictions.transform.LayerNorm.weight', 'cls.predictions.decoder.weight', 'cls.predictions.transform.dense.weight']\n",
      "- This IS expected if you are initializing BertModel from the checkpoint of a model trained on another task or with another architecture (e.g. initializing a BertForSequenceClassification model from a BertForPreTraining model).\n",
      "- This IS NOT expected if you are initializing BertModel from the checkpoint of a model that you expect to be exactly identical (initializing a BertForSequenceClassification model from a BertForSequenceClassification model).\n"
     ]
    },
    {
     "name": "stdout",
     "output_type": "stream",
     "text": [
      "Total params:  130473234\n",
      "Trainable params:  20990994\n",
      "Non Trainable params:  109482240\n"
     ]
    }
   ],
   "source": [
    "model = EncoderDecoderBiLstmCRF(embed_model = BertEmbedding(pretrained_model), crf_model = CRF(num_tags = 3, batch_first = True))\n",
    "# model.load_state_dict(torch.load('./bert_iob_bilstm_crf/model_model_params_0.9428545098368426.pth'))\n",
    "model = load_pretrained_weights(model, './bert_iob_bilstm_crf/model_model_params_0.9428545098368426.pth')\n",
    "model = model.to(device)\n",
    "\n",
    "total_params = sum(p.numel() for p in model.parameters())\n",
    "trainable_total_params = sum(p.numel() for p in model.parameters() if p.requires_grad)\n",
    "non_trainable_total_params = sum(p.numel() for p in model.parameters() if not p.requires_grad)\n",
    "print(\"Total params: \", total_params)\n",
    "print(\"Trainable params: \", trainable_total_params)\n",
    "print(\"Non Trainable params: \", non_trainable_total_params)\n"
   ]
  },
  {
   "cell_type": "code",
   "execution_count": 72,
   "metadata": {
    "id": "Apmgr6gLTH3X"
   },
   "outputs": [],
   "source": [
    "epochs = 20 #changed from 10\n",
    "lamda = 1e-2  #L2 regularization (prev : 1e-4)\n",
    "learning_rate = 0.008 #changed from 1e-2 \n",
    "\n",
    "# criterion = nn.CrossEntropyLoss()\n",
    "# criterion = criterion.to(device)\n",
    "\n",
    "optimizer = optim.Adam(model.parameters(), lr=learning_rate, weight_decay=lamda)\n",
    "# optimizer.load_state_dict(torch.load('./bert_base_triplet/optimizer_model_params_0.9409211846833226.pth'))    \n",
    "\n",
    "# scheduler = torch.optim.lr_scheduler.MultiStepLR(optimizer, milestones=[i for i in range(4,20,4)], gamma=0.75)\n",
    "scheduler = torch.optim.lr_scheduler.CosineAnnealingLR(optimizer, T_max=(len(train_loader) * epochs))"
   ]
  },
  {
   "cell_type": "code",
   "execution_count": null,
   "metadata": {
    "colab": {
     "base_uri": "https://localhost:8080/"
    },
    "id": "ApcG3QO1Vel2",
    "outputId": "b5cd2679-a0cd-4469-c595-341d5b6944ca"
   },
   "outputs": [
    {
     "name": "stdout",
     "output_type": "stream",
     "text": [
      "Epoch #1\n"
     ]
    },
    {
     "name": "stderr",
     "output_type": "stream",
     "text": [
      "                                                                                                                \r"
     ]
    },
    {
     "name": "stdout",
     "output_type": "stream",
     "text": [
      "learning_rate: [0.007950753362380563]\n",
      "Training loss: 5.96, Time: 997.4662582874298\n"
     ]
    },
    {
     "name": "stderr",
     "output_type": "stream",
     "text": [
      "                                                                                                                \r"
     ]
    },
    {
     "name": "stdout",
     "output_type": "stream",
     "text": [
      "learning_rate: [0.007950753362380563]\n",
      "Validation loss: 3.02, Time: 65.41231179237366\n",
      "{'eval_accuracy': 0.8865445859872612, 'eval_precision': 0.8842304301286936, 'eval_recall': 0.8865445859872612, 'eval_f-1': 0.8779978679657107}\n",
      "Epoch #2\n"
     ]
    },
    {
     "name": "stderr",
     "output_type": "stream",
     "text": [
      "                                                                                                                \r"
     ]
    },
    {
     "name": "stdout",
     "output_type": "stream",
     "text": [
      "learning_rate: [0.007804226065180622]\n",
      "Training loss: 2.32, Time: 1036.7858710289001\n"
     ]
    },
    {
     "name": "stderr",
     "output_type": "stream",
     "text": [
      "                                                                                                                \r"
     ]
    },
    {
     "name": "stdout",
     "output_type": "stream",
     "text": [
      "learning_rate: [0.007804226065180622]\n",
      "Validation loss: 4.90, Time: 64.55346775054932\n",
      "{'eval_accuracy': 0.8117038216560509, 'eval_precision': 0.8323245056628016, 'eval_recall': 0.8117038216560509, 'eval_f-1': 0.7745975281162273}\n",
      "Epoch #3\n"
     ]
    },
    {
     "name": "stderr",
     "output_type": "stream",
     "text": [
      "                                                                                                                \r"
     ]
    },
    {
     "name": "stdout",
     "output_type": "stream",
     "text": [
      "learning_rate: [0.007564026096753482]\n",
      "Training loss: 2.18, Time: 1027.541660785675\n"
     ]
    },
    {
     "name": "stderr",
     "output_type": "stream",
     "text": [
      "                                                                                                                \r"
     ]
    },
    {
     "name": "stdout",
     "output_type": "stream",
     "text": [
      "learning_rate: [0.007564026096753482]\n",
      "Validation loss: 2.93, Time: 64.68284487724304\n",
      "{'eval_accuracy': 0.9055201698513801, 'eval_precision': 0.9033635197041097, 'eval_recall': 0.9055201698513801, 'eval_f-1': 0.9016375787957959}\n",
      "Epoch #4\n"
     ]
    },
    {
     "name": "stderr",
     "output_type": "stream",
     "text": [
      "                                                                                                                \r"
     ]
    },
    {
     "name": "stdout",
     "output_type": "stream",
     "text": [
      "learning_rate: [0.007236067977499808]\n",
      "Training loss: 2.05, Time: 1025.4986367225647\n"
     ]
    },
    {
     "name": "stderr",
     "output_type": "stream",
     "text": [
      "                                                                                                                \r"
     ]
    },
    {
     "name": "stdout",
     "output_type": "stream",
     "text": [
      "learning_rate: [0.007236067977499808]\n",
      "Validation loss: 2.64, Time: 64.41830563545227\n",
      "{'eval_accuracy': 0.9156050955414012, 'eval_precision': 0.9133233663223007, 'eval_recall': 0.9156050955414012, 'eval_f-1': 0.9132532372967302}\n",
      "Epoch #5\n"
     ]
    },
    {
     "name": "stderr",
     "output_type": "stream",
     "text": [
      "                                                                                                                \r"
     ]
    },
    {
     "name": "stdout",
     "output_type": "stream",
     "text": [
      "learning_rate: [0.006828427124746208]\n",
      "Training loss: 2.18, Time: 1044.4740970134735\n"
     ]
    },
    {
     "name": "stderr",
     "output_type": "stream",
     "text": [
      "                                                                                                                \r"
     ]
    },
    {
     "name": "stdout",
     "output_type": "stream",
     "text": [
      "learning_rate: [0.006828427124746208]\n",
      "Validation loss: 3.73, Time: 65.58574867248535\n",
      "{'eval_accuracy': 0.8836252653927813, 'eval_precision': 0.8835322859553102, 'eval_recall': 0.8836252653927813, 'eval_f-1': 0.873960345557802}\n",
      "Epoch #6\n"
     ]
    },
    {
     "name": "stderr",
     "output_type": "stream",
     "text": [
      "                                                                                                                \r"
     ]
    },
    {
     "name": "stdout",
     "output_type": "stream",
     "text": [
      "learning_rate: [0.006351141009169902]\n",
      "Training loss: 2.45, Time: 1045.0644316673279\n"
     ]
    },
    {
     "name": "stderr",
     "output_type": "stream",
     "text": [
      "                                                                                                                \r"
     ]
    },
    {
     "name": "stdout",
     "output_type": "stream",
     "text": [
      "learning_rate: [0.006351141009169902]\n",
      "Validation loss: 3.01, Time: 65.537118434906\n",
      "{'eval_accuracy': 0.8909235668789809, 'eval_precision': 0.8860141855429573, 'eval_recall': 0.8909235668789809, 'eval_f-1': 0.8862665138935812}\n",
      "Epoch #7\n"
     ]
    },
    {
     "name": "stderr",
     "output_type": "stream",
     "text": [
      "                                                                                                                \r"
     ]
    },
    {
     "name": "stdout",
     "output_type": "stream",
     "text": [
      "learning_rate: [0.005815961998958195]\n",
      "Training loss: 2.12, Time: 1043.4681539535522\n"
     ]
    },
    {
     "name": "stderr",
     "output_type": "stream",
     "text": [
      "                                                                                                                \r"
     ]
    },
    {
     "name": "stdout",
     "output_type": "stream",
     "text": [
      "learning_rate: [0.005815961998958195]\n",
      "Validation loss: 4.27, Time: 65.34772753715515\n",
      "{'eval_accuracy': 0.8373142250530785, 'eval_precision': 0.8426476526416429, 'eval_recall': 0.8373142250530785, 'eval_f-1': 0.8135415037380579}\n",
      "Epoch #8\n"
     ]
    },
    {
     "name": "stderr",
     "output_type": "stream",
     "text": [
      "                                                                                                                \r"
     ]
    },
    {
     "name": "stdout",
     "output_type": "stream",
     "text": [
      "learning_rate: [0.004625737860160933]\n",
      "Training loss: 1.67, Time: 1043.319414138794\n"
     ]
    },
    {
     "name": "stderr",
     "output_type": "stream",
     "text": [
      "                                                                                                                \r"
     ]
    },
    {
     "name": "stdout",
     "output_type": "stream",
     "text": [
      "learning_rate: [0.004625737860160933]\n",
      "Validation loss: 2.99, Time: 65.48188757896423\n",
      "{'eval_accuracy': 0.9053874734607219, 'eval_precision': 0.9021173052744853, 'eval_recall': 0.9053874734607219, 'eval_f-1': 0.9004544417367244}\n",
      "Epoch #10\n"
     ]
    },
    {
     "name": "stderr",
     "output_type": "stream",
     "text": [
      "                                                                                                                \r"
     ]
    },
    {
     "name": "stdout",
     "output_type": "stream",
     "text": [
      "learning_rate: [0.004000000000000007]\n",
      "Training loss: 1.45, Time: 1043.782214641571\n"
     ]
    },
    {
     "name": "stderr",
     "output_type": "stream",
     "text": [
      "                                                                                                                \r"
     ]
    },
    {
     "name": "stdout",
     "output_type": "stream",
     "text": [
      "learning_rate: [0.004000000000000007]\n",
      "Validation loss: 2.98, Time: 65.512033700943\n",
      "{'eval_accuracy': 0.9097664543524416, 'eval_precision': 0.9064159924556578, 'eval_recall': 0.9097664543524416, 'eval_f-1': 0.9061678785320825}\n",
      "Epoch #11\n"
     ]
    },
    {
     "name": "stderr",
     "output_type": "stream",
     "text": [
      "                                                                                                                \r"
     ]
    },
    {
     "name": "stdout",
     "output_type": "stream",
     "text": [
      "learning_rate: [0.0033742621398390833]\n",
      "Training loss: 1.35, Time: 1043.6593327522278\n"
     ]
    },
    {
     "name": "stderr",
     "output_type": "stream",
     "text": [
      "                                                                                                                \r"
     ]
    },
    {
     "name": "stdout",
     "output_type": "stream",
     "text": [
      "learning_rate: [0.0033742621398390833]\n",
      "Validation loss: 2.76, Time: 65.4161605834961\n",
      "{'eval_accuracy': 0.9183917197452229, 'eval_precision': 0.9168597529282123, 'eval_recall': 0.9183917197452229, 'eval_f-1': 0.9156198453791968}\n",
      "Epoch #12\n"
     ]
    },
    {
     "name": "stderr",
     "output_type": "stream",
     "text": [
      "Epoch:  21%|██████████████▏                                                    | 38/180 [03:27<13:28,  5.69s/it]"
     ]
    }
   ],
   "source": [
    "best_val_f1 = 0.89\n",
    "for epoch in range(epochs):\n",
    "  print('Epoch #{}'.format(epoch+1))\n",
    "  \n",
    "  train(model, train_loader)\n",
    "  val_f1, _ = validate(model,  val_loader)\n",
    "  \n",
    "  if val_f1 > best_val_f1:\n",
    "    best_val_f1 = val_f1\n",
    "    save(model, best_val_f1, best = \"model_\")\n",
    "    # save(crf_model, best_val_f1, best = \"crf_model_\")\n",
    "    save(optimizer, best_val_f1, best = \"optimizer_\")\n"
   ]
  },
  {
   "cell_type": "code",
   "execution_count": null,
   "metadata": {
    "id": "ymyNg6tRaCEi"
   },
   "outputs": [],
   "source": [
    "# Test on Test Set"
   ]
  },
  {
   "cell_type": "code",
   "execution_count": 73,
   "metadata": {},
   "outputs": [
    {
     "name": "stderr",
     "output_type": "stream",
     "text": [
      "                                                                                                                "
     ]
    },
    {
     "name": "stdout",
     "output_type": "stream",
     "text": [
      "learning_rate: [0.008]\n",
      "Validation loss: 6.51, Time: 93.18619561195374\n",
      "{'eval_accuracy': 0.9363339552238806, 'eval_precision': 0.9347504503544432, 'eval_recall': 0.9363339552238806, 'eval_f-1': 0.9350020240059044}\n"
     ]
    },
    {
     "name": "stderr",
     "output_type": "stream",
     "text": [
      "\r"
     ]
    }
   ],
   "source": [
    "_, predictions = validate(model, test_loader)"
   ]
  },
  {
   "cell_type": "code",
   "execution_count": null,
   "metadata": {},
   "outputs": [],
   "source": [
    "# Store predictions"
   ]
  },
  {
   "cell_type": "code",
   "execution_count": 74,
   "metadata": {},
   "outputs": [
    {
     "name": "stdout",
     "output_type": "stream",
     "text": [
      "12871\n",
      "12864\n"
     ]
    }
   ],
   "source": [
    "test_df = pd.read_csv(test_file)\n",
    "print(len(test_df))\n",
    "test_df = test_df[:][:len(predictions)]\n",
    "test_df['predictions'] = predictions\n",
    "test_df.to_csv(\"bert_embed_iob_bilstm_crf_pred.csv\")\n",
    "print(len(test_df))"
   ]
  },
  {
   "cell_type": "code",
   "execution_count": 75,
   "metadata": {},
   "outputs": [
    {
     "name": "stdout",
     "output_type": "stream",
     "text": [
      "Index(['index', 'para', 'label', 'document', 'predictions'], dtype='object')\n"
     ]
    }
   ],
   "source": [
    "# Span Retrieval Results\n",
    "test_df = test_df.reset_index(drop=False)\n",
    "print(test_df.columns)\n"
   ]
  },
  {
   "cell_type": "code",
   "execution_count": 76,
   "metadata": {},
   "outputs": [],
   "source": [
    "test_df.columns = ['index', 'para', 'label', 'document', 'predictions']\n",
    "\n",
    "orig = set()\n",
    "i = 0\n",
    "while i < len(test_df):\n",
    "    if(test_df['label'][i] == 2):\n",
    "        st = test_df['index'][i]\n",
    "        i +=1\n",
    "        while(i < len(test_df) and test_df['label'][i] == 1):\n",
    "            i+=1\n",
    "        orig.add((st, i-1))\n",
    "    else:\n",
    "        i+=1\n",
    "\n",
    "pred = set()\n",
    "i = 0\n",
    "while i < len(test_df):\n",
    "    if(test_df['predictions'][i] == 2):\n",
    "        st = test_df['index'][i]\n",
    "        i +=1\n",
    "        while(i < len(test_df) and test_df['predictions'][i] == 1):\n",
    "            i+=1\n",
    "        pred.add((st, i-1))\n",
    "    else:\n",
    "        i+=1\n",
    "        \n",
    "strict_match_spans = orig.intersection(pred)\n",
    "fuzzy_cnt = 0\n",
    "for o in orig:\n",
    "    if ((o in pred) or ((o[0]+1,o[1]) in pred) or ((o[0]+1,o[1]-1) in pred) or ((o[0]+1,o[1]+1) in pred) \n",
    "        or ((o[0]-1,o[1]) in pred) or ((o[0]-1,o[1]+1) in pred) or ((o[0]-1,o[1]-1) in pred) or ((o[0],o[1]+1) in pred)\n",
    "        or ((o[0],o[1]-1) in pred)):\n",
    "        fuzzy_cnt+=1\n",
    "  \n",
    "\n",
    "miss_start_end = 0\n",
    "miss_start = 0\n",
    "miss_end = 0\n",
    "\n",
    "for o in orig:\n",
    "    if(o in pred):\n",
    "        continue \n",
    "    elif(((o[0]-1,o[1]+1) in pred) or ((o[0]-1,o[1]-1) in pred) or ((o[0]+1,o[1]-1) in pred) or ((o[0]+1,o[1]+1) in pred)):\n",
    "        miss_start_end += 1\n",
    "    elif(((o[0]+1,o[1]) in pred) or ((o[0]-1,o[1]) in pred)):\n",
    "        miss_start += 1\n",
    "    elif(((o[0],o[1]+1) in pred) or ((o[0],o[1]-1) in pred)):\n",
    "        miss_end+=1"
   ]
  },
  {
   "cell_type": "code",
   "execution_count": 77,
   "metadata": {},
   "outputs": [
    {
     "name": "stdout",
     "output_type": "stream",
     "text": [
      "Total original spans:  1234\n",
      "Total predicted spans:  1118\n",
      "Total number of original spans correctly predicted acc to strict match:  797\n",
      "Percent of original spans correctly predicted acc to strict match:  64.58670988654781\n",
      "Total number of original spans correctly predicted acc to fuzzy match:  955\n",
      "Percent of original spans correctly predicted acc to fuzzy match:  77.3905996758509\n",
      "Count of fuzzy matched spans:  158\n",
      "Count of spans with misaligned begin and end: 22 (13.92%) \n",
      "Count of spans with misaligned begin: 52 (32.91%) \n",
      "Count of spans with misaligned end: 84 (53.16%) \n"
     ]
    }
   ],
   "source": [
    "print(\"Total original spans: \", len(orig))\n",
    "print(\"Total predicted spans: \", len(pred))\n",
    "print(\"Total number of original spans correctly predicted acc to strict match: \", len(strict_match_spans))\n",
    "print(\"Percent of original spans correctly predicted acc to strict match: \", len(strict_match_spans)/len(orig)*100)\n",
    "\n",
    "print(\"Total number of original spans correctly predicted acc to fuzzy match: \", fuzzy_cnt)\n",
    "print(\"Percent of original spans correctly predicted acc to fuzzy match: \", fuzzy_cnt/len(orig)*100)\n",
    "\n",
    "fuzzy_matched_only = miss_start_end+miss_start+miss_end\n",
    "assert(fuzzy_matched_only == fuzzy_cnt - len(strict_match_spans))\n",
    "print(\"Count of fuzzy matched spans: \", miss_start_end+miss_start+miss_end)\n",
    "print(\"Count of spans with misaligned begin and end: {} ({:.2f}%) \".format(miss_start_end, miss_start_end/fuzzy_matched_only*100))\n",
    "print(\"Count of spans with misaligned begin: {} ({:.2f}%) \".format(miss_start, miss_start/fuzzy_matched_only*100))\n",
    "print(\"Count of spans with misaligned end: {} ({:.2f}%) \".format(miss_end, miss_end/fuzzy_matched_only*100))"
   ]
  },
  {
   "cell_type": "code",
   "execution_count": null,
   "metadata": {},
   "outputs": [],
   "source": [
    "# Store error cases"
   ]
  },
  {
   "cell_type": "code",
   "execution_count": null,
   "metadata": {},
   "outputs": [],
   "source": [
    "error = test_df[test_df['label'] != test_df['predictions']]\n",
    "print((len(test_df)- len(error)) / len(test_df))\n",
    "print(len(error))\n",
    "error.to_csv(\"errors_bert_embed_iob_bilstm_crf.csv\")"
   ]
  },
  {
   "cell_type": "code",
   "execution_count": null,
   "metadata": {},
   "outputs": [],
   "source": []
  }
 ],
 "metadata": {
  "accelerator": "GPU",
  "colab": {
   "collapsed_sections": [],
   "provenance": []
  },
  "kernelspec": {
   "display_name": "Python 3",
   "language": "python",
   "name": "python3"
  },
  "language_info": {
   "codemirror_mode": {
    "name": "ipython",
    "version": 3
   },
   "file_extension": ".py",
   "mimetype": "text/x-python",
   "name": "python",
   "nbconvert_exporter": "python",
   "pygments_lexer": "ipython3",
   "version": "3.7.13"
  }
 },
 "nbformat": 4,
 "nbformat_minor": 4
}
