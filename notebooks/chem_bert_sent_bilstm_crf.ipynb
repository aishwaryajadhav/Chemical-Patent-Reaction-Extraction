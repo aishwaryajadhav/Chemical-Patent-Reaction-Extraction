{
 "cells": [
  {
   "cell_type": "code",
   "execution_count": 1,
   "metadata": {
    "colab": {
     "base_uri": "https://localhost:8080/"
    },
    "id": "2O1OB_Nw-DXo",
    "outputId": "710381bd-f9ab-4808-ab30-f307a3c93dfc"
   },
   "outputs": [
    {
     "name": "stdout",
     "output_type": "stream",
     "text": [
      "Requirement already satisfied: datasets in /opt/conda/envs/pytorch/lib/python3.9/site-packages (2.5.1)\n",
      "Requirement already satisfied: transformers in /opt/conda/envs/pytorch/lib/python3.9/site-packages (4.22.2)\n",
      "Requirement already satisfied: nltk in /opt/conda/envs/pytorch/lib/python3.9/site-packages (3.7)\n",
      "Requirement already satisfied: pytorch-crf in /opt/conda/envs/pytorch/lib/python3.9/site-packages (0.7.2)\n",
      "Requirement already satisfied: torch in /opt/conda/envs/pytorch/lib/python3.9/site-packages (1.12.1)\n",
      "Requirement already satisfied: seaborn in /opt/conda/envs/pytorch/lib/python3.9/site-packages (0.11.2)\n",
      "Requirement already satisfied: sklearn in /opt/conda/envs/pytorch/lib/python3.9/site-packages (0.0)\n",
      "Requirement already satisfied: matplotlib in /opt/conda/envs/pytorch/lib/python3.9/site-packages (3.5.3)\n",
      "Requirement already satisfied: responses<0.19 in /opt/conda/envs/pytorch/lib/python3.9/site-packages (from datasets) (0.18.0)\n",
      "Requirement already satisfied: tqdm>=4.62.1 in /opt/conda/envs/pytorch/lib/python3.9/site-packages (from datasets) (4.63.2)\n",
      "Requirement already satisfied: packaging in /opt/conda/envs/pytorch/lib/python3.9/site-packages (from datasets) (21.3)\n",
      "Requirement already satisfied: numpy>=1.17 in /opt/conda/envs/pytorch/lib/python3.9/site-packages (from datasets) (1.23.3)\n",
      "Requirement already satisfied: aiohttp in /opt/conda/envs/pytorch/lib/python3.9/site-packages (from datasets) (3.8.3)\n",
      "Requirement already satisfied: dill<0.3.6 in /opt/conda/envs/pytorch/lib/python3.9/site-packages (from datasets) (0.3.5.1)\n",
      "Requirement already satisfied: fsspec[http]>=2021.11.1 in /opt/conda/envs/pytorch/lib/python3.9/site-packages (from datasets) (2022.8.2)\n",
      "Requirement already satisfied: pyarrow>=6.0.0 in /opt/conda/envs/pytorch/lib/python3.9/site-packages (from datasets) (9.0.0)\n",
      "Requirement already satisfied: huggingface-hub<1.0.0,>=0.1.0 in /opt/conda/envs/pytorch/lib/python3.9/site-packages (from datasets) (0.10.0)\n",
      "Requirement already satisfied: multiprocess in /opt/conda/envs/pytorch/lib/python3.9/site-packages (from datasets) (0.70.13)\n",
      "Requirement already satisfied: requests>=2.19.0 in /opt/conda/envs/pytorch/lib/python3.9/site-packages (from datasets) (2.28.1)\n",
      "Requirement already satisfied: pandas in /opt/conda/envs/pytorch/lib/python3.9/site-packages (from datasets) (1.3.5)\n",
      "Requirement already satisfied: xxhash in /opt/conda/envs/pytorch/lib/python3.9/site-packages (from datasets) (3.0.0)\n",
      "Requirement already satisfied: tokenizers!=0.11.3,<0.13,>=0.11.1 in /opt/conda/envs/pytorch/lib/python3.9/site-packages (from transformers) (0.12.1)\n",
      "Requirement already satisfied: pyyaml>=5.1 in /opt/conda/envs/pytorch/lib/python3.9/site-packages (from transformers) (5.4.1)\n",
      "Requirement already satisfied: filelock in /opt/conda/envs/pytorch/lib/python3.9/site-packages (from transformers) (3.6.0)\n",
      "Requirement already satisfied: regex!=2019.12.17 in /opt/conda/envs/pytorch/lib/python3.9/site-packages (from transformers) (2022.9.13)\n",
      "Requirement already satisfied: click in /opt/conda/envs/pytorch/lib/python3.9/site-packages (from nltk) (8.1.3)\n",
      "Requirement already satisfied: joblib in /opt/conda/envs/pytorch/lib/python3.9/site-packages (from nltk) (1.2.0)\n",
      "Requirement already satisfied: typing_extensions in /opt/conda/envs/pytorch/lib/python3.9/site-packages (from torch) (4.3.0)\n",
      "Requirement already satisfied: scipy>=1.0 in /opt/conda/envs/pytorch/lib/python3.9/site-packages (from seaborn) (1.8.1)\n",
      "Requirement already satisfied: scikit-learn in /opt/conda/envs/pytorch/lib/python3.9/site-packages (from sklearn) (1.0)\n",
      "Requirement already satisfied: pillow>=6.2.0 in /opt/conda/envs/pytorch/lib/python3.9/site-packages (from matplotlib) (9.0.1)\n",
      "Requirement already satisfied: pyparsing>=2.2.1 in /opt/conda/envs/pytorch/lib/python3.9/site-packages (from matplotlib) (3.0.9)\n",
      "Requirement already satisfied: python-dateutil>=2.7 in /opt/conda/envs/pytorch/lib/python3.9/site-packages (from matplotlib) (2.8.2)\n",
      "Requirement already satisfied: kiwisolver>=1.0.1 in /opt/conda/envs/pytorch/lib/python3.9/site-packages (from matplotlib) (1.4.4)\n",
      "Requirement already satisfied: cycler>=0.10 in /opt/conda/envs/pytorch/lib/python3.9/site-packages (from matplotlib) (0.11.0)\n",
      "Requirement already satisfied: fonttools>=4.22.0 in /opt/conda/envs/pytorch/lib/python3.9/site-packages (from matplotlib) (4.37.3)\n",
      "Requirement already satisfied: attrs>=17.3.0 in /opt/conda/envs/pytorch/lib/python3.9/site-packages (from aiohttp->datasets) (22.1.0)\n",
      "Requirement already satisfied: yarl<2.0,>=1.0 in /opt/conda/envs/pytorch/lib/python3.9/site-packages (from aiohttp->datasets) (1.8.1)\n",
      "Requirement already satisfied: async-timeout<5.0,>=4.0.0a3 in /opt/conda/envs/pytorch/lib/python3.9/site-packages (from aiohttp->datasets) (4.0.2)\n",
      "Requirement already satisfied: charset-normalizer<3.0,>=2.0 in /opt/conda/envs/pytorch/lib/python3.9/site-packages (from aiohttp->datasets) (2.1.1)\n",
      "Requirement already satisfied: aiosignal>=1.1.2 in /opt/conda/envs/pytorch/lib/python3.9/site-packages (from aiohttp->datasets) (1.2.0)\n",
      "Requirement already satisfied: multidict<7.0,>=4.5 in /opt/conda/envs/pytorch/lib/python3.9/site-packages (from aiohttp->datasets) (6.0.2)\n",
      "Requirement already satisfied: frozenlist>=1.1.1 in /opt/conda/envs/pytorch/lib/python3.9/site-packages (from aiohttp->datasets) (1.3.1)\n",
      "Requirement already satisfied: pytz>=2017.3 in /opt/conda/envs/pytorch/lib/python3.9/site-packages (from pandas->datasets) (2022.2.1)\n",
      "Requirement already satisfied: six>=1.5 in /opt/conda/envs/pytorch/lib/python3.9/site-packages (from python-dateutil>=2.7->matplotlib) (1.16.0)\n",
      "Requirement already satisfied: certifi>=2017.4.17 in /opt/conda/envs/pytorch/lib/python3.9/site-packages (from requests>=2.19.0->datasets) (2022.9.24)\n",
      "Requirement already satisfied: idna<4,>=2.5 in /opt/conda/envs/pytorch/lib/python3.9/site-packages (from requests>=2.19.0->datasets) (3.4)\n",
      "Requirement already satisfied: urllib3<1.27,>=1.21.1 in /opt/conda/envs/pytorch/lib/python3.9/site-packages (from requests>=2.19.0->datasets) (1.26.11)\n",
      "Requirement already satisfied: threadpoolctl>=2.0.0 in /opt/conda/envs/pytorch/lib/python3.9/site-packages (from scikit-learn->sklearn) (3.1.0)\n"
     ]
    }
   ],
   "source": [
    "!pip install datasets transformers nltk pytorch-crf torch seaborn sklearn matplotlib"
   ]
  },
  {
   "cell_type": "code",
   "execution_count": 1,
   "metadata": {
    "id": "Wb1LntOk-HiL"
   },
   "outputs": [
    {
     "name": "stderr",
     "output_type": "stream",
     "text": [
      "/home/anjadhav/miniconda3/envs/chemIR/lib/python3.7/site-packages/tqdm/auto.py:22: TqdmWarning: IProgress not found. Please update jupyter and ipywidgets. See https://ipywidgets.readthedocs.io/en/stable/user_install.html\n",
      "  from .autonotebook import tqdm as notebook_tqdm\n"
     ]
    }
   ],
   "source": [
    "from torchcrf import CRF\n",
    "import os\n",
    "import os.path as osp\n",
    "import nltk\n",
    "import random\n",
    "# nltk.download('stopwords')\n",
    "# nltk.download('punkt')\n",
    "# from nltk.corpus import stopwords\n",
    "# english_stopwords = stopwords.words(\"english\")\n",
    "import numpy as np\n",
    "import re\n",
    "import seaborn as sns\n",
    "sns.set_theme(style=\"whitegrid\")\n",
    "from sklearn.metrics import precision_recall_fscore_support\n",
    "import matplotlib.pyplot as plt\n",
    "import pandas as pd\n",
    "import string\n",
    "import torch.optim as optim\n",
    "import torch\n",
    "import torch.nn as nn\n",
    "import torch.nn.functional as F\n",
    "import math\n",
    "import datasets\n",
    "from datasets import load_dataset\n",
    "import pickle\n",
    "from transformers import AutoTokenizer, AutoModelForSequenceClassification\n",
    "from transformers import BertTokenizer, BertModel\n",
    "import multiprocessing\n",
    "import time\n",
    "from torch.utils.data import DataLoader, Dataset \n",
    "import sys\n",
    "from tqdm import tqdm\n",
    "\n",
    "import warnings\n",
    "warnings.filterwarnings(\"ignore\")"
   ]
  },
  {
   "cell_type": "code",
   "execution_count": 2,
   "metadata": {
    "id": "XPPwJGc7-rG6"
   },
   "outputs": [],
   "source": [
    "test_file = \"test_iob_para.csv\"\n",
    "val_file = \"val_iob_para.csv\"\n",
    "train_file = \"train_iob_para.csv\""
   ]
  },
  {
   "cell_type": "code",
   "execution_count": 4,
   "metadata": {
    "colab": {
     "base_uri": "https://localhost:8080/"
    },
    "id": "T5WVHoZVR-mO",
    "outputId": "e30f28b3-6493-4874-86e5-4b4341e0ea3a"
   },
   "outputs": [
    {
     "name": "stdout",
     "output_type": "stream",
     "text": [
      "Cuda =  True  with num_workers =  8  system version =  3.7.13 (default, Oct 18 2022, 18:57:03) \n",
      "[GCC 11.2.0]\n"
     ]
    }
   ],
   "source": [
    "pretrained_model = \"bert-base-uncased\"\n",
    "batch_size = 16\n",
    "max_para_length = 64\n",
    "para_seq_len = 32  #number of paras to be encoded and decoded together (hyperparameter)\n",
    "# Check if cuda is available and set device\n",
    "cuda = torch.cuda.is_available()\n",
    "device = torch.device(\"cuda\" if cuda else \"cpu\")\n",
    "\n",
    "# Make sure you choose suitable num_worker, otherwise it will result in errors\n",
    "num_workers = 8 if cuda else 0\n",
    "\n",
    "print(\"Cuda = \", str(cuda), \" with num_workers = \", str(num_workers),  \" system version = \", sys.version)"
   ]
  },
  {
   "cell_type": "code",
   "execution_count": 5,
   "metadata": {
    "id": "HwFvdeKHZQhW"
   },
   "outputs": [],
   "source": [
    "class CRFEmbeddingDataset(Dataset):\n",
    "    def __init__(self, csv_file, para_seq_len, pretrained_model, stride = 1):\n",
    "      df = pd.read_csv(csv_file)\n",
    "\n",
    "      self.para_seq_len = para_seq_len\n",
    "      self.tokenizer = BertTokenizer.from_pretrained(pretrained_model, do_lower=True)    \n",
    "\n",
    "      # Tokenize the paragraphs\n",
    "      self.df = df[\"para\"].apply(self.preprocess)\n",
    "      self.y = df['label']\n",
    "      # self.test = is_test\n",
    "      self.stride = stride\n",
    "  \n",
    "     \n",
    "    def preprocess(self, examples):\n",
    "      return self.tokenizer(examples, truncation=True, \n",
    "                     padding=\"max_length\", max_length=max_para_length,\n",
    "                     return_token_type_ids=False)['input_ids']\n",
    "\n",
    "    def __len__(self):\n",
    "      # if(self.test):\n",
    "      #   # print(math.ceil(len(self.y)/self.para_seq_len))\n",
    "      #   return math.ceil(len(self.y)/self.para_seq_len)\n",
    "      l = math.ceil((len(self.y) - self.para_seq_len + 1) / self.stride)\n",
    "      # print(len(self.y))  \n",
    "      # print(l)\n",
    "      return l\n",
    "    \n",
    "    def __getitem__(self,index):\n",
    "      return torch.LongTensor(list(self.df[index*self.stride: (index*self.stride + self.para_seq_len)])), torch.LongTensor(self.y[index*self.stride: (index*self.stride + self.para_seq_len)].tolist())\n",
    "      "
   ]
  },
  {
   "cell_type": "code",
   "execution_count": 6,
   "metadata": {
    "colab": {
     "base_uri": "https://localhost:8080/"
    },
    "id": "GeKJeI1DnZSt",
    "outputId": "3154a924-0105-4b60-d9ee-d4256fac5be1"
   },
   "outputs": [
    {
     "name": "stderr",
     "output_type": "stream",
     "text": [
      "Downloading: 100%|██████████| 228k/228k [00:00<00:00, 5.87MB/s]\n",
      "Downloading: 100%|██████████| 112/112 [00:00<00:00, 85.0kB/s]\n",
      "Downloading: 100%|██████████| 339/339 [00:00<00:00, 213kB/s]\n",
      "Downloading: 100%|██████████| 612/612 [00:00<00:00, 531kB/s]\n"
     ]
    }
   ],
   "source": [
    "train_data = CRFEmbeddingDataset(train_file, para_seq_len = para_seq_len, pretrained_model = pretrained_model, stride = 2)\n",
    "val_data = CRFEmbeddingDataset(val_file, para_seq_len = para_seq_len, pretrained_model = pretrained_model, stride = para_seq_len)\n",
    "test_data = CRFEmbeddingDataset(test_file, para_seq_len = para_seq_len, pretrained_model = pretrained_model, stride = para_seq_len)\n",
    "\n",
    "train_args = dict(shuffle=True, batch_size=batch_size, num_workers=8, pin_memory=True, drop_last=False) if cuda else dict(shuffle=True, batch_size=batch_size, drop_last=False)\n",
    "train_loader = DataLoader(train_data, **train_args)\n",
    "\n",
    "val_args = dict(shuffle=False, batch_size=batch_size, num_workers=8, pin_memory=True, drop_last=False) if cuda else dict(shuffle=False, batch_size=batch_size, drop_last=False)\n",
    "val_loader = DataLoader(val_data, **val_args)\n",
    "\n",
    "\n",
    "test_args = dict(shuffle=False, batch_size=batch_size, num_workers=8, pin_memory=True, drop_last=False) if cuda else dict(shuffle=False, batch_size=batch_size, drop_last=False)\n",
    "test_loader = DataLoader(test_data, **test_args)"
   ]
  },
  {
   "cell_type": "code",
   "execution_count": 7,
   "metadata": {},
   "outputs": [
    {
     "name": "stdout",
     "output_type": "stream",
     "text": [
      "39797\n",
      "423\n",
      "688\n",
      "2488\n",
      "43\n",
      "27\n"
     ]
    }
   ],
   "source": [
    "print(train_data.__len__())\n",
    "print(val_data.__len__())\n",
    "print(test_data.__len__())\n",
    "print(len(train_loader))\n",
    "print(len(test_loader))\n",
    "print(len(val_loader))"
   ]
  },
  {
   "cell_type": "markdown",
   "metadata": {
    "id": "svcSRucHTZs9"
   },
   "source": [
    "## Fixed Bert word Embeddings, BiLSTM encoder, Triplet Decoder"
   ]
  },
  {
   "cell_type": "code",
   "execution_count": 8,
   "metadata": {
    "id": "6_zxBd--j0vk"
   },
   "outputs": [],
   "source": [
    "class BertEmbedding(nn.Module):\n",
    "    def __init__(self, pretrained_model):\n",
    "        super().__init__()\n",
    "        self.model = BertModel.from_pretrained(pretrained_model, output_hidden_states = True)\n",
    "\n",
    "    def forward(self, x):\n",
    "        # print(\"Input to BertEmbedding: \", x.shape)\n",
    "        outputs = self.model(x)\n",
    "        hidden_states = outputs[2]\n",
    "        embedding = torch.cat((hidden_states[-1],hidden_states[-2],hidden_states[-3],hidden_states[-4]), dim = 2)\n",
    "        # print(\"Output from BertEmbedding: \", embedding.shape)\n",
    "        return embedding\n",
    "\n",
    "class ParaEncoderForContext(nn.Module):\n",
    "    def __init__(self, bilayers = 1, input_dim = 3072, hidden_size = 512):\n",
    "        super().__init__()\n",
    "        self.input_dim = input_dim\n",
    "        self.hidden_dim = hidden_size\n",
    "        self.lstm = nn.LSTM(\n",
    "                input_size=input_dim, hidden_size=hidden_size,\n",
    "                num_layers=1, batch_first=True, bidirectional=True)\n",
    "\n",
    "        for name, param in self.lstm.named_parameters():\n",
    "            if 'bias' in name:\n",
    "                nn.init.constant(param, 0.0)\n",
    "            elif 'weight' in name:\n",
    "                nn.init.kaiming_normal_(param)\n",
    "     \n",
    "\n",
    "    def forward(self, x): # (B*T(T=1+2*context), tokens, input_dim)\n",
    "        # print(\"Input to Encoder: \",x.shape)\n",
    "        outputs, _ = self.lstm(x) # (B*T, tokens, 2*hidden_dim)\n",
    "        # print(\"After LSTM: \", outputs.shape)\n",
    "        first = outputs[:, 0, self.hidden_dim:]\n",
    "        second = outputs[:, -1, :self.hidden_dim]\n",
    "        para_embed = torch.cat((second,first), dim = 1) #(B*T, 2*hidden_dim)\n",
    "\n",
    "        # print(\"Output from Encoder\", para_embed.shape)\n",
    "        return para_embed #(B*T, 2*hidden_dim)\n",
    "\n",
    "\n",
    "\n",
    "class ParaDecoderBiLstmCRF(nn.Module):\n",
    "    def __init__(self, input_dim, hidden_size, bilayers = 1):\n",
    "        super().__init__()\n",
    "        # self.input_dim = input_dim\n",
    "        # self.hidden_dim = hidden_size\n",
    "        self.lstm = nn.LSTM(\n",
    "                input_size=input_dim, hidden_size=hidden_size,\n",
    "                num_layers=1, batch_first=True, bidirectional=True)\n",
    "\n",
    "        self.linear = nn.Linear(2*hidden_size, 3, bias= True)\n",
    "        \n",
    "        for name, param in self.lstm.named_parameters():\n",
    "            if 'bias' in name:\n",
    "                nn.init.constant(param, 0.0)\n",
    "            elif 'weight' in name:\n",
    "                nn.init.kaiming_normal_(param)\n",
    "\n",
    "    \n",
    "    def forward(self, x):  #(B, T, 2*encoder.hidden_dim)\n",
    "    # print(\"Input to decoder: \", x.shape) \n",
    "        outputs, _ = self.lstm(x)   #out = (B, T, 2*decoder.hidden_dim)\n",
    "\n",
    "        s0, s1, s2 = outputs.shape\n",
    "        op = outputs.reshape(s0*s1, s2) # (B*T, 2*decoder.hidden_dim)\n",
    "\n",
    "        op2 = self.linear(op)\n",
    "\n",
    "        op3 = op2.view(s0, s1, -1)\n",
    "\n",
    "        return op3 #(B,T,3) #emissions\n",
    "\n",
    "\n",
    "\n",
    "class EncoderDecoderBiLstmCRF(nn.Module):\n",
    "    def __init__(self, embed_model, num_tags, encoder_bilayers = 1, encoder_input_dim = 3072, encoder_hidden_size = 512, decoder_bilayers = 1, decoder_hidden_size = 512, freeze_bert = True):\n",
    "        super().__init__()\n",
    "        self.para_encoder = ParaEncoderForContext(bilayers = encoder_bilayers, input_dim = encoder_input_dim, hidden_size = encoder_hidden_size)\n",
    "        self.para_decoder = ParaDecoderBiLstmCRF(input_dim = encoder_hidden_size*2, hidden_size = decoder_hidden_size, bilayers = decoder_bilayers)\n",
    "        self.crf_model = CRF(num_tags = num_tags, batch_first = True)\n",
    "        self.embed_model = embed_model\n",
    "        \n",
    "        if(freeze_bert):\n",
    "            for param in self.embed_model.parameters():\n",
    "                param.requires_grad = False\n",
    "\n",
    "    def decode(self, emission):\n",
    "        return self.crf_model.decode(emission)\n",
    "\n",
    "    def forward(self, x, y): # (B, 2*context+1, tokens_per_para)\n",
    "    # print(\"Input to model: \", x.shape)\n",
    "        s0, s1, s2 = x.shape\n",
    "        xv = x.view(s0*s1, s2)\n",
    "        embeds = self.embed_model(xv)\n",
    "        para_vec = self.para_encoder(embeds)\n",
    "        pvv = para_vec.view(s0, s1, -1) #(B, T, 2*hidden_dim)\n",
    "        # print(\"Input to decoder: \", pvv.shape)\n",
    "        emission = self.para_decoder(pvv) #(B,T,3) #emissions\n",
    "        log_likelihood = self.crf_model(emission, y, reduction='mean') \n",
    "        return -log_likelihood, emission"
   ]
  },
  {
   "cell_type": "markdown",
   "metadata": {
    "id": "qxePIGPBZefb"
   },
   "source": [
    "## Train and Validate Functions"
   ]
  },
  {
   "cell_type": "code",
   "execution_count": 9,
   "metadata": {
    "id": "R661ZBw5TJ3v"
   },
   "outputs": [],
   "source": [
    "def train(para_model, data_loader):\n",
    "    para_model.train()\n",
    "    # crf_model.train()\n",
    "\n",
    "    avg_loss = []\n",
    "    start = time.time()\n",
    "    all_predictions = []\n",
    "    all_targets = []\n",
    "    \n",
    "    for i, (x, y) in enumerate(tqdm(data_loader, desc=\"Epoch\", leave=False)):\n",
    "        optimizer.zero_grad()\n",
    "        y  = y.to(device) \n",
    "        x = x.to(device)\n",
    "\n",
    "        loss, emission = para_model(x, y)\n",
    "        del x\n",
    "\n",
    "        avg_loss.extend([loss.item()]*len(y))\n",
    "        \n",
    "        decoded_list = para_model.decode(emission)\n",
    "        for l in decoded_list:\n",
    "            all_predictions.extend(l)\n",
    "\n",
    "\n",
    "        all_targets.extend(torch.flatten(y.detach().cpu()).tolist())\n",
    "        \n",
    "        loss.backward()\n",
    "        optimizer.step()\n",
    "        scheduler.step()\n",
    "\n",
    "        del y\n",
    "        del emission\n",
    "        torch.cuda.empty_cache()\n",
    "  \n",
    "    \n",
    "    end = time.time()\n",
    "    avg_loss = np.mean(avg_loss)\n",
    "    print('learning_rate: {}'.format(scheduler.get_last_lr()))\n",
    "    print('Training loss: {:.2f}, Time: {}'.format(avg_loss, end-start))\n",
    "\n",
    "    all_predictions = np.array(all_predictions)\n",
    "    all_targets = np.array(all_targets)\n",
    "    scores = precision_recall_fscore_support(all_targets, all_predictions, \n",
    "                                            average=\"weighted\", zero_division=0.)\n",
    "\n",
    "    test_scores={\n",
    "      \"eval_accuracy\": (all_predictions == all_targets).sum() / len(all_predictions),\n",
    "      \"eval_precision\": scores[0],\n",
    "      \"eval_recall\": scores[1],\n",
    "      \"eval_f-1\": scores[2]\n",
    "    }\n",
    "    print(test_scores)"
   ]
  },
  {
   "cell_type": "code",
   "execution_count": 10,
   "metadata": {
    "id": "_y3ZyfMCW6A8"
   },
   "outputs": [],
   "source": [
    "def validate(para_model, data_loader):\n",
    "    para_model.eval()\n",
    "    # crf_model.eval()\n",
    "\n",
    "    avg_loss = []\n",
    "    all_predictions = []\n",
    "    all_targets = []\n",
    "    start = time.time()\n",
    "\n",
    "    for i, (x, y) in enumerate(tqdm(data_loader, desc=\"Epoch\", leave=False)):\n",
    "        y = y.to(device)\n",
    "        x = x.to(device)\n",
    "\n",
    "        with torch.no_grad():\n",
    "            loss, emission = para_model(x, y) \n",
    "            del x\n",
    "            \n",
    "            avg_loss.extend([loss.item()]*len(y))\n",
    "\n",
    "            decoded_list = para_model.decode(emission)\n",
    "            \n",
    "            for l in decoded_list:\n",
    "                all_predictions.extend(l)\n",
    "\n",
    "            all_targets.extend(torch.flatten(y.detach().cpu()).tolist())\n",
    "            del emission\n",
    "            del y\n",
    "            torch.cuda.empty_cache()\n",
    "       \n",
    "      \n",
    "    end = time.time()\n",
    "    avg_loss = np.mean(avg_loss)\n",
    "    print('learning_rate: {}'.format(scheduler.get_last_lr()))\n",
    "    print('Validation loss: {:.2f}, Time: {}'.format(avg_loss, end-start))\n",
    "\n",
    "    all_predictions = np.array(all_predictions)\n",
    "    all_targets = np.array(all_targets)\n",
    "    scores = precision_recall_fscore_support(all_targets, all_predictions, \n",
    "                                            average=\"weighted\", zero_division=0.)\n",
    "\n",
    "    test_scores={\n",
    "      \"eval_accuracy\": (all_predictions == all_targets).sum() / len(all_predictions),\n",
    "      \"eval_precision\": scores[0],\n",
    "      \"eval_recall\": scores[1],\n",
    "      \"eval_f-1\": scores[2]\n",
    "    }\n",
    "    print(test_scores)\n",
    "    return test_scores[\"eval_f-1\"], all_predictions\n"
   ]
  },
  {
   "cell_type": "code",
   "execution_count": 11,
   "metadata": {
    "id": "0bgq32FRSK3P"
   },
   "outputs": [],
   "source": [
    "def save(model, acc, best=\"\"):\n",
    "    if not os.path.exists('./para_bert_bilstm_crf/'):\n",
    "        os.mkdir('./para_bert_bilstm_crf/')\n",
    "\n",
    "    torch.save(model.state_dict(), './para_bert_bilstm_crf/'+'/{}model_params_{}.pth'.format(best, acc))\n",
    "\n",
    "def load_pretrained_weights(model, pretrained_path):\n",
    "    pretrained_dict = torch.load(pretrained_path)\n",
    "#     pretrained_dict = {k: v for k, v in pretrained_dict.items() if k[:13] == \"para_encoder.\"}\n",
    "    # print(pretrained_dict.keys())\n",
    "    model_dict = model.state_dict()\n",
    "    model_dict.update(pretrained_dict) \n",
    "    model.load_state_dict(model_dict)\n",
    "    return model    "
   ]
  },
  {
   "cell_type": "markdown",
   "metadata": {
    "id": "VKb52nsGZllu"
   },
   "source": [
    "## Main"
   ]
  },
  {
   "cell_type": "code",
   "execution_count": 12,
   "metadata": {
    "colab": {
     "base_uri": "https://localhost:8080/"
    },
    "id": "uN6Pfp1_YyVl",
    "outputId": "4d59b235-ca6e-411f-a607-91592b5a7906"
   },
   "outputs": [
    {
     "name": "stderr",
     "output_type": "stream",
     "text": [
      "Downloading: 100%|██████████| 440M/440M [00:07<00:00, 59.9MB/s] \n",
      "Some weights of the model checkpoint at recobo/chemical-bert-uncased were not used when initializing BertModel: ['cls.predictions.transform.LayerNorm.bias', 'cls.predictions.decoder.weight', 'cls.predictions.transform.dense.weight', 'cls.predictions.transform.dense.bias', 'cls.predictions.bias', 'cls.predictions.decoder.bias', 'cls.predictions.transform.LayerNorm.weight']\n",
      "- This IS expected if you are initializing BertModel from the checkpoint of a model trained on another task or with another architecture (e.g. initializing a BertForSequenceClassification model from a BertForPreTraining model).\n",
      "- This IS NOT expected if you are initializing BertModel from the checkpoint of a model that you expect to be exactly identical (initializing a BertForSequenceClassification model from a BertForSequenceClassification model).\n",
      "Some weights of BertModel were not initialized from the model checkpoint at recobo/chemical-bert-uncased and are newly initialized: ['bert.pooler.dense.weight', 'bert.pooler.dense.bias']\n",
      "You should probably TRAIN this model on a down-stream task to be able to use it for predictions and inference.\n"
     ]
    },
    {
     "name": "stdout",
     "output_type": "stream",
     "text": [
      "Total params:  130909458\n",
      "Trainable params:  20990994\n",
      "Non Trainable params:  109918464\n"
     ]
    }
   ],
   "source": [
    "model = EncoderDecoderBiLstmCRF(embed_model = BertEmbedding(pretrained_model), num_tags = 3, freeze_bert=True)\n",
    "# model.load_state_dict(torch.load('./bert_iob_bilstm_crf/model_model_params_0.9428545098368426.pth'))\n",
    "# model = load_pretrained_weights(model, './bert_iob_bilstm_crf/model_model_params_0.9428545098368426.pth')\n",
    "\n",
    "# if torch.cuda.device_count() > 1:\n",
    "#   print(\"Let's use\", torch.cuda.device_count(), \"GPUs!\")\n",
    "#   model = nn.DataParallel(model)\n",
    "model = model.to(device)\n",
    "\n",
    "total_params = sum(p.numel() for p in model.parameters())\n",
    "trainable_total_params = sum(p.numel() for p in model.parameters() if p.requires_grad)\n",
    "non_trainable_total_params = sum(p.numel() for p in model.parameters() if not p.requires_grad)\n",
    "print(\"Total params: \", total_params)\n",
    "print(\"Trainable params: \", trainable_total_params)\n",
    "print(\"Non Trainable params: \", non_trainable_total_params)\n"
   ]
  },
  {
   "cell_type": "code",
   "execution_count": 13,
   "metadata": {
    "id": "Apmgr6gLTH3X"
   },
   "outputs": [],
   "source": [
    "epochs = 25 #changed from 10\n",
    "lamda = 1e-3  #L2 regularization (prev : 1e-4)\n",
    "learning_rate = 1e-3 #changed from 1e-2   ## Greatly reduces LR for bert finetuning\n",
    "\n",
    "# criterion = nn.CrossEntropyLoss()\n",
    "# criterion = criterion.to(device)\n",
    "\n",
    "optimizer = optim.Adam(model.parameters(), lr=learning_rate, weight_decay=lamda)\n",
    "# optimizer.load_state_dict(torch.load('./bert_base_triplet/optimizer_model_params_0.9409211846833226.pth'))    \n",
    "\n",
    "# scheduler = torch.optim.lr_scheduler.MultiStepLR(optimizer, milestones=[i for i in range(4,20,4)], gamma=0.75)\n",
    "scheduler = torch.optim.lr_scheduler.CosineAnnealingLR(optimizer, T_max=(len(train_loader) * epochs))"
   ]
  },
  {
   "cell_type": "code",
   "execution_count": 24,
   "metadata": {
    "colab": {
     "base_uri": "https://localhost:8080/"
    },
    "id": "ApcG3QO1Vel2",
    "outputId": "b5cd2679-a0cd-4469-c595-341d5b6944ca"
   },
   "outputs": [
    {
     "name": "stdout",
     "output_type": "stream",
     "text": [
      "Epoch #1\n"
     ]
    },
    {
     "name": "stderr",
     "output_type": "stream",
     "text": [
      "                                               \r"
     ]
    },
    {
     "name": "stdout",
     "output_type": "stream",
     "text": [
      "learning_rate: [0.0009999951727833465]\n",
      "Training loss: 9.30, Time: 1.623439073562622\n",
      "{'eval_accuracy': 0.896484375, 'eval_precision': 0.8915510036600859, 'eval_recall': 0.896484375, 'eval_f-1': 0.8775101659982175}\n"
     ]
    },
    {
     "name": "stderr",
     "output_type": "stream",
     "text": [
      "                                             \r"
     ]
    },
    {
     "name": "stdout",
     "output_type": "stream",
     "text": [
      "learning_rate: [0.0009999951727833465]\n",
      "Validation loss: 10.77, Time: 1.3578460216522217\n",
      "{'eval_accuracy': 0.90625, 'eval_precision': 0.8401006789434524, 'eval_recall': 0.90625, 'eval_f-1': 0.8712991667700742}\n",
      "Epoch #2\n"
     ]
    },
    {
     "name": "stderr",
     "output_type": "stream",
     "text": [
      "                                               \r"
     ]
    },
    {
     "name": "stdout",
     "output_type": "stream",
     "text": [
      "learning_rate: [0.0009999950611752708]\n",
      "Training loss: 8.67, Time: 1.6992990970611572\n",
      "{'eval_accuracy': 0.888671875, 'eval_precision': 0.908136830461791, 'eval_recall': 0.888671875, 'eval_f-1': 0.8911897082757844}\n"
     ]
    },
    {
     "name": "stderr",
     "output_type": "stream",
     "text": [
      "                                             \r"
     ]
    },
    {
     "name": "stdout",
     "output_type": "stream",
     "text": [
      "learning_rate: [0.0009999950611752708]\n",
      "Validation loss: 10.86, Time: 1.5146024227142334\n",
      "{'eval_accuracy': 0.904296875, 'eval_precision': 0.8582223851610363, 'eval_recall': 0.904296875, 'eval_f-1': 0.8744337547669889}\n"
     ]
    },
    {
     "ename": "KeyboardInterrupt",
     "evalue": "",
     "output_type": "error",
     "traceback": [
      "\u001b[0;31m---------------------------------------------------------------------------\u001b[0m",
      "\u001b[0;31mKeyboardInterrupt\u001b[0m                         Traceback (most recent call last)",
      "\u001b[0;32m<ipython-input-24-a6e887bcf81c>\u001b[0m in \u001b[0;36m<module>\u001b[0;34m\u001b[0m\n\u001b[1;32m      9\u001b[0m     \u001b[0;32mif\u001b[0m \u001b[0mval_f1\u001b[0m \u001b[0;34m>\u001b[0m \u001b[0mbest_val_f1\u001b[0m\u001b[0;34m:\u001b[0m\u001b[0;34m\u001b[0m\u001b[0;34m\u001b[0m\u001b[0m\n\u001b[1;32m     10\u001b[0m         \u001b[0mbest_val_f1\u001b[0m \u001b[0;34m=\u001b[0m \u001b[0mval_f1\u001b[0m\u001b[0;34m\u001b[0m\u001b[0;34m\u001b[0m\u001b[0m\n\u001b[0;32m---> 11\u001b[0;31m         \u001b[0msave\u001b[0m\u001b[0;34m(\u001b[0m\u001b[0mmodel\u001b[0m\u001b[0;34m,\u001b[0m \u001b[0mbest_val_f1\u001b[0m\u001b[0;34m,\u001b[0m \u001b[0mbest\u001b[0m \u001b[0;34m=\u001b[0m \u001b[0;34m\"model_\"\u001b[0m\u001b[0;34m)\u001b[0m\u001b[0;34m\u001b[0m\u001b[0;34m\u001b[0m\u001b[0m\n\u001b[0m\u001b[1;32m     12\u001b[0m         \u001b[0;31m# save(crf_model, best_val_f1, best = \"crf_model_\")\u001b[0m\u001b[0;34m\u001b[0m\u001b[0;34m\u001b[0m\u001b[0;34m\u001b[0m\u001b[0m\n\u001b[1;32m     13\u001b[0m         \u001b[0msave\u001b[0m\u001b[0;34m(\u001b[0m\u001b[0moptimizer\u001b[0m\u001b[0;34m,\u001b[0m \u001b[0mbest_val_f1\u001b[0m\u001b[0;34m,\u001b[0m \u001b[0mbest\u001b[0m \u001b[0;34m=\u001b[0m \u001b[0;34m\"optimizer_\"\u001b[0m\u001b[0;34m)\u001b[0m\u001b[0;34m\u001b[0m\u001b[0;34m\u001b[0m\u001b[0m\n",
      "\u001b[0;32m<ipython-input-11-0f691df568c2>\u001b[0m in \u001b[0;36msave\u001b[0;34m(model, acc, best)\u001b[0m\n\u001b[1;32m      3\u001b[0m         \u001b[0mos\u001b[0m\u001b[0;34m.\u001b[0m\u001b[0mmkdir\u001b[0m\u001b[0;34m(\u001b[0m\u001b[0;34m'./para_bert_bilstm_crf/'\u001b[0m\u001b[0;34m)\u001b[0m\u001b[0;34m\u001b[0m\u001b[0;34m\u001b[0m\u001b[0m\n\u001b[1;32m      4\u001b[0m \u001b[0;34m\u001b[0m\u001b[0m\n\u001b[0;32m----> 5\u001b[0;31m     \u001b[0mtorch\u001b[0m\u001b[0;34m.\u001b[0m\u001b[0msave\u001b[0m\u001b[0;34m(\u001b[0m\u001b[0mmodel\u001b[0m\u001b[0;34m.\u001b[0m\u001b[0mstate_dict\u001b[0m\u001b[0;34m(\u001b[0m\u001b[0;34m)\u001b[0m\u001b[0;34m,\u001b[0m \u001b[0;34m'./para_bert_bilstm_crf/'\u001b[0m\u001b[0;34m+\u001b[0m\u001b[0;34m'/{}model_params_{}.pth'\u001b[0m\u001b[0;34m.\u001b[0m\u001b[0mformat\u001b[0m\u001b[0;34m(\u001b[0m\u001b[0mbest\u001b[0m\u001b[0;34m,\u001b[0m \u001b[0macc\u001b[0m\u001b[0;34m)\u001b[0m\u001b[0;34m)\u001b[0m\u001b[0;34m\u001b[0m\u001b[0;34m\u001b[0m\u001b[0m\n\u001b[0m\u001b[1;32m      6\u001b[0m \u001b[0;34m\u001b[0m\u001b[0m\n\u001b[1;32m      7\u001b[0m \u001b[0;32mdef\u001b[0m \u001b[0mload_pretrained_weights\u001b[0m\u001b[0;34m(\u001b[0m\u001b[0mmodel\u001b[0m\u001b[0;34m,\u001b[0m \u001b[0mpretrained_path\u001b[0m\u001b[0;34m)\u001b[0m\u001b[0;34m:\u001b[0m\u001b[0;34m\u001b[0m\u001b[0;34m\u001b[0m\u001b[0m\n",
      "\u001b[0;32m~/miniconda3/envs/chemIR/lib/python3.7/site-packages/torch/serialization.py\u001b[0m in \u001b[0;36msave\u001b[0;34m(obj, f, pickle_module, pickle_protocol, _use_new_zipfile_serialization)\u001b[0m\n\u001b[1;32m    422\u001b[0m         \u001b[0;32mwith\u001b[0m \u001b[0m_open_zipfile_writer\u001b[0m\u001b[0;34m(\u001b[0m\u001b[0mf\u001b[0m\u001b[0;34m)\u001b[0m \u001b[0;32mas\u001b[0m \u001b[0mopened_zipfile\u001b[0m\u001b[0;34m:\u001b[0m\u001b[0;34m\u001b[0m\u001b[0;34m\u001b[0m\u001b[0m\n\u001b[1;32m    423\u001b[0m             \u001b[0m_save\u001b[0m\u001b[0;34m(\u001b[0m\u001b[0mobj\u001b[0m\u001b[0;34m,\u001b[0m \u001b[0mopened_zipfile\u001b[0m\u001b[0;34m,\u001b[0m \u001b[0mpickle_module\u001b[0m\u001b[0;34m,\u001b[0m \u001b[0mpickle_protocol\u001b[0m\u001b[0;34m)\u001b[0m\u001b[0;34m\u001b[0m\u001b[0;34m\u001b[0m\u001b[0m\n\u001b[0;32m--> 424\u001b[0;31m             \u001b[0;32mreturn\u001b[0m\u001b[0;34m\u001b[0m\u001b[0;34m\u001b[0m\u001b[0m\n\u001b[0m\u001b[1;32m    425\u001b[0m     \u001b[0;32melse\u001b[0m\u001b[0;34m:\u001b[0m\u001b[0;34m\u001b[0m\u001b[0;34m\u001b[0m\u001b[0m\n\u001b[1;32m    426\u001b[0m         \u001b[0;32mwith\u001b[0m \u001b[0m_open_file_like\u001b[0m\u001b[0;34m(\u001b[0m\u001b[0mf\u001b[0m\u001b[0;34m,\u001b[0m \u001b[0;34m'wb'\u001b[0m\u001b[0;34m)\u001b[0m \u001b[0;32mas\u001b[0m \u001b[0mopened_file\u001b[0m\u001b[0;34m:\u001b[0m\u001b[0;34m\u001b[0m\u001b[0;34m\u001b[0m\u001b[0m\n",
      "\u001b[0;32m~/miniconda3/envs/chemIR/lib/python3.7/site-packages/torch/serialization.py\u001b[0m in \u001b[0;36m__exit__\u001b[0;34m(self, *args)\u001b[0m\n\u001b[1;32m    288\u001b[0m \u001b[0;34m\u001b[0m\u001b[0m\n\u001b[1;32m    289\u001b[0m     \u001b[0;32mdef\u001b[0m \u001b[0m__exit__\u001b[0m\u001b[0;34m(\u001b[0m\u001b[0mself\u001b[0m\u001b[0;34m,\u001b[0m \u001b[0;34m*\u001b[0m\u001b[0margs\u001b[0m\u001b[0;34m)\u001b[0m \u001b[0;34m->\u001b[0m \u001b[0;32mNone\u001b[0m\u001b[0;34m:\u001b[0m\u001b[0;34m\u001b[0m\u001b[0;34m\u001b[0m\u001b[0m\n\u001b[0;32m--> 290\u001b[0;31m         \u001b[0mself\u001b[0m\u001b[0;34m.\u001b[0m\u001b[0mfile_like\u001b[0m\u001b[0;34m.\u001b[0m\u001b[0mwrite_end_of_file\u001b[0m\u001b[0;34m(\u001b[0m\u001b[0;34m)\u001b[0m\u001b[0;34m\u001b[0m\u001b[0;34m\u001b[0m\u001b[0m\n\u001b[0m\u001b[1;32m    291\u001b[0m \u001b[0;34m\u001b[0m\u001b[0m\n\u001b[1;32m    292\u001b[0m \u001b[0;34m\u001b[0m\u001b[0m\n",
      "\u001b[0;31mKeyboardInterrupt\u001b[0m: "
     ]
    }
   ],
   "source": [
    "torch.cuda.empty_cache()\n",
    "best_val_f1 = 0\n",
    "for epoch in range(epochs):\n",
    "    print('Epoch #{}'.format(epoch+1))\n",
    "\n",
    "    train(model, train_loader)\n",
    "    val_f1, _ = validate(model, val_loader)\n",
    "\n",
    "    if val_f1 > best_val_f1:\n",
    "        best_val_f1 = val_f1\n",
    "        save(model, best_val_f1, best = \"model_\")\n",
    "        # save(crf_model, best_val_f1, best = \"crf_model_\")\n",
    "        save(optimizer, best_val_f1, best = \"optimizer_\")\n"
   ]
  },
  {
   "cell_type": "code",
   "execution_count": null,
   "metadata": {
    "id": "ymyNg6tRaCEi"
   },
   "outputs": [],
   "source": [
    "# Test on Test Set"
   ]
  },
  {
   "cell_type": "code",
   "execution_count": null,
   "metadata": {},
   "outputs": [],
   "source": [
    "_, predictions = validate(model, test_loader)"
   ]
  },
  {
   "cell_type": "code",
   "execution_count": null,
   "metadata": {},
   "outputs": [],
   "source": [
    "# Store predictions"
   ]
  },
  {
   "cell_type": "code",
   "execution_count": null,
   "metadata": {},
   "outputs": [],
   "source": [
    "test_df = pd.read_csv(test_file)\n",
    "print(len(test_df))\n",
    "test_df = test_df[:][:len(predictions)]\n",
    "test_df['predictions'] = predictions\n",
    "test_df.to_csv(\"bert_embed_iob_bilstm_crf_pred.csv\")\n",
    "print(len(test_df))"
   ]
  },
  {
   "cell_type": "code",
   "execution_count": null,
   "metadata": {},
   "outputs": [],
   "source": [
    "# Span Retrieval Results\n",
    "test_df = test_df.reset_index(drop=False)\n",
    "print(test_df.columns)\n"
   ]
  },
  {
   "cell_type": "code",
   "execution_count": null,
   "metadata": {},
   "outputs": [],
   "source": [
    "test_df.columns = ['index', 'para', 'label', 'document', 'predictions']\n",
    "\n",
    "orig = set()\n",
    "i = 0\n",
    "while i < len(test_df):\n",
    "    if(test_df['label'][i] == 2):\n",
    "        st = test_df['index'][i]\n",
    "        i +=1\n",
    "        while(i < len(test_df) and test_df['label'][i] == 1):\n",
    "            i+=1\n",
    "        orig.add((st, i-1))\n",
    "    else:\n",
    "        i+=1\n",
    "\n",
    "pred = set()\n",
    "i = 0\n",
    "while i < len(test_df):\n",
    "    if(test_df['predictions'][i] == 2):\n",
    "        st = test_df['index'][i]\n",
    "        i +=1\n",
    "        while(i < len(test_df) and test_df['predictions'][i] == 1):\n",
    "            i+=1\n",
    "        pred.add((st, i-1))\n",
    "    else:\n",
    "        i+=1\n",
    "        \n",
    "strict_match_spans = orig.intersection(pred)\n",
    "fuzzy_cnt = 0\n",
    "for o in orig:\n",
    "    if ((o in pred) or ((o[0]+1,o[1]) in pred) or ((o[0]+1,o[1]-1) in pred) or ((o[0]+1,o[1]+1) in pred) \n",
    "        or ((o[0]-1,o[1]) in pred) or ((o[0]-1,o[1]+1) in pred) or ((o[0]-1,o[1]-1) in pred) or ((o[0],o[1]+1) in pred)\n",
    "        or ((o[0],o[1]-1) in pred)):\n",
    "        fuzzy_cnt+=1\n",
    "  \n",
    "\n",
    "miss_start_end = 0\n",
    "miss_start = 0\n",
    "miss_end = 0\n",
    "\n",
    "for o in orig:\n",
    "    if(o in pred):\n",
    "        continue \n",
    "    elif(((o[0]-1,o[1]+1) in pred) or ((o[0]-1,o[1]-1) in pred) or ((o[0]+1,o[1]-1) in pred) or ((o[0]+1,o[1]+1) in pred)):\n",
    "        miss_start_end += 1\n",
    "    elif(((o[0]+1,o[1]) in pred) or ((o[0]-1,o[1]) in pred)):\n",
    "        miss_start += 1\n",
    "    elif(((o[0],o[1]+1) in pred) or ((o[0],o[1]-1) in pred)):\n",
    "        miss_end+=1"
   ]
  },
  {
   "cell_type": "code",
   "execution_count": null,
   "metadata": {},
   "outputs": [],
   "source": [
    "print(\"Total original spans: \", len(orig))\n",
    "print(\"Total predicted spans: \", len(pred))\n",
    "print(\"Total number of original spans correctly predicted acc to strict match: \", len(strict_match_spans))\n",
    "print(\"Percent of original spans correctly predicted acc to strict match: \", len(strict_match_spans)/len(orig)*100)\n",
    "\n",
    "print(\"Total number of original spans correctly predicted acc to fuzzy match: \", fuzzy_cnt)\n",
    "print(\"Percent of original spans correctly predicted acc to fuzzy match: \", fuzzy_cnt/len(orig)*100)\n",
    "\n",
    "fuzzy_matched_only = miss_start_end+miss_start+miss_end\n",
    "assert(fuzzy_matched_only == fuzzy_cnt - len(strict_match_spans))\n",
    "print(\"Count of fuzzy matched spans: \", miss_start_end+miss_start+miss_end)\n",
    "print(\"Count of spans with misaligned begin and end: {} ({:.2f}%) \".format(miss_start_end, miss_start_end/fuzzy_matched_only*100))\n",
    "print(\"Count of spans with misaligned begin: {} ({:.2f}%) \".format(miss_start, miss_start/fuzzy_matched_only*100))\n",
    "print(\"Count of spans with misaligned end: {} ({:.2f}%) \".format(miss_end, miss_end/fuzzy_matched_only*100))"
   ]
  },
  {
   "cell_type": "code",
   "execution_count": null,
   "metadata": {},
   "outputs": [],
   "source": [
    "# Store error cases"
   ]
  },
  {
   "cell_type": "code",
   "execution_count": null,
   "metadata": {},
   "outputs": [],
   "source": [
    "error = test_df[test_df['label'] != test_df['predictions']]\n",
    "print((len(test_df)- len(error)) / len(test_df))\n",
    "print(len(error))\n",
    "error.to_csv(\"errors_bert_embed_iob_bilstm_crf.csv\")"
   ]
  },
  {
   "cell_type": "code",
   "execution_count": null,
   "metadata": {},
   "outputs": [],
   "source": []
  }
 ],
 "metadata": {
  "accelerator": "GPU",
  "colab": {
   "collapsed_sections": [],
   "provenance": []
  },
  "kernelspec": {
   "display_name": "Python 3 (ipykernel)",
   "language": "python",
   "name": "python3"
  },
  "language_info": {
   "codemirror_mode": {
    "name": "ipython",
    "version": 3
   },
   "file_extension": ".py",
   "mimetype": "text/x-python",
   "name": "python",
   "nbconvert_exporter": "python",
   "pygments_lexer": "ipython3",
   "version": "3.7.13"
  },
  "vscode": {
   "interpreter": {
    "hash": "bca01836d6106e973a10514ba84a22def982a0caf4526f342e9e0f31ef9581b1"
   }
  }
 },
 "nbformat": 4,
 "nbformat_minor": 4
}
