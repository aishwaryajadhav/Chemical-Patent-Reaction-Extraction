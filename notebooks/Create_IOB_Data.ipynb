{
 "cells": [
  {
   "cell_type": "code",
   "execution_count": 6,
   "id": "0f1c7de2",
   "metadata": {},
   "outputs": [],
   "source": [
    "import os\n",
    "import os.path as osp\n",
    "import nltk\n",
    "# nltk.download('stopwords')\n",
    "# nltk.download('punkt')\n",
    "from nltk.corpus import stopwords\n",
    "english_stopwords = stopwords.words(\"english\")\n",
    "import numpy as np\n",
    "import re\n",
    "import seaborn as sns\n",
    "sns.set_theme(style=\"whitegrid\")\n",
    "import matplotlib.pyplot as plt\n",
    "import pandas as pd\n",
    "import string\n",
    "\n",
    "import pickle\n",
    "import random\n",
    "import collections\n",
    "from nltk.tokenize import sent_tokenize\n",
    "pd.set_option('display.max_colwidth', None)\n",
    "pd.set_option('display.max_rows', None)"
   ]
  },
  {
   "cell_type": "code",
   "execution_count": 7,
   "id": "7008ab21",
   "metadata": {},
   "outputs": [],
   "source": [
    "def getFiles(path):\n",
    "    all_files = os.listdir(path)\n",
    "    text_files = [f for f in all_files if f[-3:]=='txt']\n",
    "    ann_files = [f for f in all_files if f[-3:]=='ann']\n",
    "    print(\"Numer of ann files: \", len(ann_files))\n",
    "    print(\"Numer of text files: \", len(text_files))\n",
    "    return text_files, ann_files\n",
    "\n",
    "\n",
    "def labelIOBReactions(path, ann_files, text_files):\n",
    "    reactions_per_document = []\n",
    "    labels = {}\n",
    "    ann_files.sort()\n",
    "    text_files.sort()\n",
    "    # 0: O (Outside) ; 1: I (Inside) ; 2: B (Beginning)\n",
    "    for af, tf in zip(ann_files, text_files):\n",
    "        \n",
    "        with open(osp.join(path, tf), 'r',encoding=\"utf-8\" ) as fp:\n",
    "            with open(osp.join(path, af), 'r', encoding=\"utf-8\" ) as ap:\n",
    "                data = fp.read().rstrip()\n",
    "                \n",
    "                paras = data.count('\\n')+1\n",
    "              \n",
    "                para_labels = np.zeros(paras)\n",
    "\n",
    "                rpd = 0\n",
    "\n",
    "                lines = ap.readlines()\n",
    "                for line in lines:\n",
    "\n",
    "                    ts = line.split()\n",
    "                    if(ts[1] == \"REACTION_SPAN\"):\n",
    "                        rpd +=1\n",
    "                        st = data[:int(ts[2])].count('\\n')\n",
    "                        cnts = data[int(ts[2]):int(ts[3])].count('\\n')+1\n",
    "                        para_labels[st]=2; #beginning of a reaction\n",
    "                        for i in range(st+1, st+cnts):\n",
    "                            para_labels[i]=1; #inside a reaction\n",
    "                            \n",
    "                labels[tf[:-4]] = para_labels\n",
    "                reactions_per_document.append(rpd)\n",
    "    \n",
    "    return labels, reactions_per_document"
   ]
  },
  {
   "cell_type": "code",
   "execution_count": 7,
   "id": "082f0cc1",
   "metadata": {},
   "outputs": [],
   "source": [
    "cv_path = \"C:\\\\Users\\\\meais\\\\Documents\\\\CMU\\\\Independent Study\\\\ReactionExtraction\\\\data\\\\dev\\\\\"\n",
    "train_path = \"C:\\\\Users\\\\meais\\\\Documents\\\\CMU\\\\Independent Study\\\\ReactionExtraction\\\\data\\\\train\\\\\""
   ]
  },
  {
   "cell_type": "code",
   "execution_count": 8,
   "id": "fb8a7b07",
   "metadata": {},
   "outputs": [
    {
     "name": "stdout",
     "output_type": "stream",
     "text": [
      "Numer of ann files:  120\n",
      "Numer of text files:  120\n",
      "Numer of ann files:  30\n",
      "Numer of text files:  30\n"
     ]
    }
   ],
   "source": [
    "train_text_files, train_ann_files = getFiles(train_path)\n",
    "dev_text_files, dev_ann_files = getFiles(cv_path)"
   ]
  },
  {
   "cell_type": "code",
   "execution_count": 73,
   "id": "5773853e",
   "metadata": {},
   "outputs": [
    {
     "name": "stdout",
     "output_type": "stream",
     "text": [
      "Total dev reactions:  1244\n"
     ]
    }
   ],
   "source": [
    "dev_labels, dev_reactions_per_document = labelIOBReactions(cv_path, dev_ann_files, dev_text_files)\n",
    "with open('dev_labels.pkl', 'wb') as f:\n",
    "    pickle.dump(dev_labels, f)\n",
    "print(\"Total dev reactions: \", sum(dev_reactions_per_document))"
   ]
  },
  {
   "cell_type": "code",
   "execution_count": 74,
   "id": "bb58061a",
   "metadata": {},
   "outputs": [
    {
     "name": "stdout",
     "output_type": "stream",
     "text": [
      "Total train reactions:  6378\n"
     ]
    }
   ],
   "source": [
    "train_labels, train_reactions_per_document = labelIOBReactions(train_path, train_ann_files, train_text_files)\n",
    "with open('train_labels.pkl', 'wb') as f:\n",
    "    pickle.dump(train_labels, f)\n",
    "print(\"Total train reactions: \", sum(train_reactions_per_document))"
   ]
  },
  {
   "cell_type": "code",
   "execution_count": 75,
   "id": "0973a51b",
   "metadata": {},
   "outputs": [],
   "source": [
    "def create_dataset(files, labels_dict, output_file, test_file=False):\n",
    "\n",
    "  if(test_file):\n",
    "      train_data = {'para':[], 'label':[], 'document':[]}\n",
    "  else:\n",
    "      train_data = {'para':[], 'label':[]}\n",
    "\n",
    "  for f in files:\n",
    "    with open(f, encoding=\"utf-8\" ) as fp:\n",
    "        \n",
    "      lines = fp.readlines()\n",
    "      train_data['para'].extend(lines)\n",
    "\n",
    "      labels = labels_dict[f.split('\\\\')[-1][:-4]] #\".txt\"\n",
    "      train_data['label'].extend(labels)\n",
    "        \n",
    "      if(test_file):\n",
    "          train_data['document'].extend([f.split('\\\\')[-1] for i in range(len(lines))])\n",
    "      \n",
    "\n",
    "  nl = []\n",
    "  for l in train_data['label']:\n",
    "    if(l==1):\n",
    "      nl.append(\"1\")\n",
    "    elif(l==2):\n",
    "      nl.append(\"2\")\n",
    "    elif(l==0):\n",
    "      nl.append(\"0\")\n",
    "    else:\n",
    "      print(\"Label Error\")\n",
    "    \n",
    "    \n",
    "  train_data['label'] = nl\n",
    "\n",
    "  df = pd.DataFrame(train_data)\n",
    "  print(df.head())\n",
    "  df.to_csv(output_file, index = False)\n"
   ]
  },
  {
   "cell_type": "code",
   "execution_count": 76,
   "id": "b3b2e165",
   "metadata": {},
   "outputs": [
    {
     "name": "stdout",
     "output_type": "stream",
     "text": [
      "30\n",
      "['C:\\\\Users\\\\meais\\\\Documents\\\\CMU\\\\Independent Study\\\\ReactionExtraction\\\\data\\\\dev\\\\EP3284738A1.txt', 'C:\\\\Users\\\\meais\\\\Documents\\\\CMU\\\\Independent Study\\\\ReactionExtraction\\\\data\\\\dev\\\\EP3305797A1.txt', 'C:\\\\Users\\\\meais\\\\Documents\\\\CMU\\\\Independent Study\\\\ReactionExtraction\\\\data\\\\dev\\\\EP3312182A1.txt', 'C:\\\\Users\\\\meais\\\\Documents\\\\CMU\\\\Independent Study\\\\ReactionExtraction\\\\data\\\\dev\\\\EP3323817A1.txt', 'C:\\\\Users\\\\meais\\\\Documents\\\\CMU\\\\Independent Study\\\\ReactionExtraction\\\\data\\\\dev\\\\EP3330263A1.txt']\n"
     ]
    }
   ],
   "source": [
    "test_files = [osp.join(cv_path, f)  for f in os.listdir(cv_path) if f[-3:]=='txt']\n",
    "print(len(test_files))\n",
    "print(test_files[:5])"
   ]
  },
  {
   "cell_type": "code",
   "execution_count": 82,
   "id": "e748ad70",
   "metadata": {},
   "outputs": [
    {
     "name": "stdout",
     "output_type": "stream",
     "text": [
      "120\n",
      "100\n",
      "20\n"
     ]
    }
   ],
   "source": [
    "train_files = [osp.join(train_path, f) for f in os.listdir(train_path) if f[-3:]=='txt']\n",
    "print(len(train_files))\n",
    "random.shuffle(train_files)\n",
    "\n",
    "val_files = train_files[:20]\n",
    "train_files = train_files[20:]\n",
    "\n",
    "print(len(train_files))\n",
    "print(len(val_files))"
   ]
  },
  {
   "cell_type": "code",
   "execution_count": 83,
   "id": "9f6f480e",
   "metadata": {},
   "outputs": [
    {
     "name": "stdout",
     "output_type": "stream",
     "text": [
      "                                                para label         document\n",
      "0                           FIELD OF THE INVENTION\\n     0  EP3284738A1.txt\n",
      "1  The present invention relates to the field of ...     0  EP3284738A1.txt\n",
      "2                      BACKGROUND OF THE INVENTION\\n     0  EP3284738A1.txt\n",
      "3  Glutamate which is the most important excitato...     0  EP3284738A1.txt\n",
      "4  Glutamate receptors (GluR) are mainly divided ...     0  EP3284738A1.txt\n",
      "                                                para label          document\n",
      "0  The present invention relates to phosphorescen...     0  US10868254B2.txt\n",
      "1  In OLEDs, the electroluminescence (EL) charact...     0  US10868254B2.txt\n",
      "2  In other words, in case of organic light-emitt...     0  US10868254B2.txt\n",
      "3                                     1. Substrate\\n     0  US10868254B2.txt\n",
      "4  2. Base electrode, hole-injecting (positive po...     0  US10868254B2.txt\n",
      "                                                para label  \\\n",
      "0          CROSS-REFERENCE TO RELATED APPLICATIONS\\n     0   \n",
      "1  This application claims priority under 35 U.S....     0   \n",
      "2                                  TECHNICAL FIELD\\n     0   \n",
      "3  The following disclosure relates to a novel ps...     0   \n",
      "4                                       BACKGROUND\\n     0   \n",
      "\n",
      "              document  \n",
      "0  US20200115323A1.txt  \n",
      "1  US20200115323A1.txt  \n",
      "2  US20200115323A1.txt  \n",
      "3  US20200115323A1.txt  \n",
      "4  US20200115323A1.txt  \n"
     ]
    }
   ],
   "source": [
    "# create_dataset(dev_files, pickle.load(open(dev_label_path, \"rb\")), \"dev_data.csv\") # test set\n",
    "create_dataset(test_files, pickle.load(open(\"dev_labels.pkl\", \"rb\")), \"test_data_iob.csv\", test_file=True) # test set\n",
    "create_dataset(train_files, pickle.load(open(\"train_labels.pkl\", \"rb\")), \"train_data_iob.csv\", test_file=True) #train_set\n",
    "create_dataset(val_files, pickle.load(open(\"train_labels.pkl\", \"rb\")), \"val_data_iob.csv\", test_file=True) # validation set"
   ]
  },
  {
   "cell_type": "code",
   "execution_count": 84,
   "id": "3a70ba5a",
   "metadata": {},
   "outputs": [
    {
     "name": "stdout",
     "output_type": "stream",
     "text": [
      "12871\n"
     ]
    },
    {
     "data": {
      "text/plain": [
       "Counter({0: 9881, 2: 1236, 1: 1754})"
      ]
     },
     "execution_count": 84,
     "metadata": {},
     "output_type": "execute_result"
    }
   ],
   "source": [
    "df = pd.read_csv(\"test_data_iob.csv\")\n",
    "print(len(df))\n",
    "collections.Counter(df['label'])"
   ]
  },
  {
   "cell_type": "code",
   "execution_count": 85,
   "id": "14643597",
   "metadata": {},
   "outputs": [
    {
     "name": "stdout",
     "output_type": "stream",
     "text": [
      "46018\n"
     ]
    },
    {
     "data": {
      "text/plain": [
       "Counter({0: 34567, 2: 5192, 1: 6259})"
      ]
     },
     "execution_count": 85,
     "metadata": {},
     "output_type": "execute_result"
    }
   ],
   "source": [
    "df = pd.read_csv(\"train_data_iob.csv\")\n",
    "print(len(df))\n",
    "collections.Counter(df['label'])"
   ]
  },
  {
   "cell_type": "code",
   "execution_count": 86,
   "id": "814c4444",
   "metadata": {},
   "outputs": [
    {
     "name": "stdout",
     "output_type": "stream",
     "text": [
      "7545\n"
     ]
    },
    {
     "data": {
      "text/plain": [
       "Counter({0: 5486, 2: 911, 1: 1148})"
      ]
     },
     "execution_count": 86,
     "metadata": {},
     "output_type": "execute_result"
    }
   ],
   "source": [
    "df = pd.read_csv(\"val_data_iob.csv\")\n",
    "print(len(df))\n",
    "collections.Counter(df['label'])"
   ]
  },
  {
   "cell_type": "code",
   "execution_count": null,
   "id": "4e4b2ee0",
   "metadata": {},
   "outputs": [],
   "source": []
  },
  {
   "cell_type": "markdown",
   "id": "448efa9e",
   "metadata": {},
   "source": [
    "## Create DS for Eval"
   ]
  },
  {
   "cell_type": "code",
   "execution_count": 17,
   "id": "9456b46e",
   "metadata": {},
   "outputs": [],
   "source": [
    "gtest_path  = '/home/anjadhav/Chemical-Patent-Reaction-Extraction/data/eval_patent_texts/dow'\n",
    "text_files =  [f for f in os.listdir(gtest_path) if f[-4:]==\".txt\"]"
   ]
  },
  {
   "cell_type": "code",
   "execution_count": 18,
   "id": "5d723741",
   "metadata": {},
   "outputs": [],
   "source": [
    "def create_dataset_extraction(path, text_files):\n",
    "    para_cnts = []\n",
    "    df = {'para':[], 'label':[], 'document':[]}\n",
    "    text_files.sort()\n",
    "    for tf in text_files:\n",
    "        with open(osp.join(path, tf), 'r',encoding=\"utf-8\" ) as fp:\n",
    "            data = fp.read().rstrip()\n",
    "            para_fin = data.split('\\n')\n",
    "            paras = []\n",
    "            for p in para_fin:\n",
    "                alpn = len([ele for ele in p if ele.isalnum()])\n",
    "                hashes = len([ele for ele in p if ele=='='])\n",
    "                if(p.strip()!='' and not (hashes >= 12 and alpn <= 4)):\n",
    "                    paras.append(p.strip()+'\\n')\n",
    "            \n",
    "            # paras = [p+'\\n' for p in para_fin if p.strip()!='']\n",
    "            para_cnts.append(len(paras))\n",
    "            df['para'].extend(paras)\n",
    "            df['label'].extend([0 for i in range(len(paras))])\n",
    "            df['document'].extend([tf for i in range(len(paras))])\n",
    "\n",
    "    return pd.DataFrame(df), para_cnts"
   ]
  },
  {
   "cell_type": "code",
   "execution_count": 19,
   "id": "5f468196",
   "metadata": {},
   "outputs": [
    {
     "data": {
      "text/html": [
       "<div>\n",
       "<style scoped>\n",
       "    .dataframe tbody tr th:only-of-type {\n",
       "        vertical-align: middle;\n",
       "    }\n",
       "\n",
       "    .dataframe tbody tr th {\n",
       "        vertical-align: top;\n",
       "    }\n",
       "\n",
       "    .dataframe thead th {\n",
       "        text-align: right;\n",
       "    }\n",
       "</style>\n",
       "<table border=\"1\" class=\"dataframe\">\n",
       "  <thead>\n",
       "    <tr style=\"text-align: right;\">\n",
       "      <th></th>\n",
       "      <th>para</th>\n",
       "      <th>label</th>\n",
       "      <th>document</th>\n",
       "    </tr>\n",
       "  </thead>\n",
       "  <tbody>\n",
       "    <tr>\n",
       "      <th>0</th>\n",
       "      <td>TITLE\\n</td>\n",
       "      <td>0</td>\n",
       "      <td>US10029427-20180724.txt</td>\n",
       "    </tr>\n",
       "    <tr>\n",
       "      <th>1</th>\n",
       "      <td>Process for the production of storage-stable polyurethane prepregs and mouldings produced therefrom from dissolved polyurethane composition\\n</td>\n",
       "      <td>0</td>\n",
       "      <td>US10029427-20180724.txt</td>\n",
       "    </tr>\n",
       "    <tr>\n",
       "      <th>2</th>\n",
       "      <td>ABSTRACT\\n</td>\n",
       "      <td>0</td>\n",
       "      <td>US10029427-20180724.txt</td>\n",
       "    </tr>\n",
       "    <tr>\n",
       "      <th>3</th>\n",
       "      <td>The invention relates to a method for producing storage-stable polyurethane prepregs and molding bodies produced therefrom (composite components), which can be obtained by a method using a polyurethane composition in solution and by impregnation of fiber-reinforced materials such as of woven fabrics and laid scrim using reactive polyurethane compositions.\\n</td>\n",
       "      <td>0</td>\n",
       "      <td>US10029427-20180724.txt</td>\n",
       "    </tr>\n",
       "    <tr>\n",
       "      <th>4</th>\n",
       "      <td>The invention relates to a process for the production of storage-stable polyurethane prepregs and mouldings produced therefrom (composite components), obtainable by a process using a dissolved polyurethane composition by impregnation of fibre reinforced materials such as fabrics and non-wovens with the use of reactive polyurethane compositions.\\n</td>\n",
       "      <td>0</td>\n",
       "      <td>US10029427-20180724.txt</td>\n",
       "    </tr>\n",
       "  </tbody>\n",
       "</table>\n",
       "</div>"
      ],
      "text/plain": [
       "                                                                                                                                                                                                                                                                                                                                                                      para  \\\n",
       "0                                                                                                                                                                                                                                                                                                                                                                  TITLE\\n   \n",
       "1                                                                                                                                                                                                                            Process for the production of storage-stable polyurethane prepregs and mouldings produced therefrom from dissolved polyurethane composition\\n   \n",
       "2                                                                                                                                                                                                                                                                                                                                                               ABSTRACT\\n   \n",
       "3  The invention relates to a method for producing storage-stable polyurethane prepregs and molding bodies produced therefrom (composite components), which can be obtained by a method using a polyurethane composition in solution and by impregnation of fiber-reinforced materials such as of woven fabrics and laid scrim using reactive polyurethane compositions.\\n   \n",
       "4             The invention relates to a process for the production of storage-stable polyurethane prepregs and mouldings produced therefrom (composite components), obtainable by a process using a dissolved polyurethane composition by impregnation of fibre reinforced materials such as fabrics and non-wovens with the use of reactive polyurethane compositions.\\n   \n",
       "\n",
       "   label                 document  \n",
       "0      0  US10029427-20180724.txt  \n",
       "1      0  US10029427-20180724.txt  \n",
       "2      0  US10029427-20180724.txt  \n",
       "3      0  US10029427-20180724.txt  \n",
       "4      0  US10029427-20180724.txt  "
      ]
     },
     "execution_count": 19,
     "metadata": {},
     "output_type": "execute_result"
    }
   ],
   "source": [
    "df, para_cnts = create_dataset_extraction(gtest_path, text_files)\n",
    "df.head()"
   ]
  },
  {
   "cell_type": "code",
   "execution_count": 16,
   "id": "87a3ae47",
   "metadata": {},
   "outputs": [],
   "source": [
    "df.to_csv(\"../data/dow_chem_patents.csv\", index = False)"
   ]
  },
  {
   "cell_type": "code",
   "execution_count": 31,
   "id": "1ff1785f",
   "metadata": {},
   "outputs": [
    {
     "name": "stdout",
     "output_type": "stream",
     "text": [
      "Total para counts:  8327\n",
      "819\n"
     ]
    },
    {
     "data": {
      "image/png": "[encoded data removed]",
      "text/plain": [
       "<Figure size 1080x288 with 2 Axes>"
      ]
     },
     "metadata": {
      "needs_background": "light"
     },
     "output_type": "display_data"
    }
   ],
   "source": [
    "def visualize(values, max_val = 512, bins = 100):#512 is bert token limit\n",
    "    print(max(values))\n",
    "    fig, (ax1, ax2) = plt.subplots(1,2, figsize=(15,4))\n",
    "    _,_,_ = ax1.hist([min(w, 512) for w in values],bins = bins)\n",
    "    _,_,_ = ax2.hist([w for w in values],bins = bins) \n",
    "\n",
    "print(\"Total para counts: \", sum(para_cnts))\n",
    "visualize(para_cnts)"
   ]
  },
  {
   "cell_type": "code",
   "execution_count": 1,
   "id": "78869c51",
   "metadata": {},
   "outputs": [],
   "source": [
    "#######################################################################################################################"
   ]
  },
  {
   "cell_type": "markdown",
   "id": "61c281d3",
   "metadata": {},
   "source": [
    "## Sentence based models"
   ]
  },
  {
   "cell_type": "code",
   "execution_count": 7,
   "id": "4d812f20",
   "metadata": {},
   "outputs": [
    {
     "name": "stdout",
     "output_type": "stream",
     "text": [
      "2-ethynylpyridine was replaced by 2-methyl-4-ethynyloxazole, while the remaining raw materials, reagents and the preparation method were the same as those in Example 1 to give the product ZD090, yield 80%.\n",
      "1H NMR (400 MHz, CDCl3) δ7.393 (1H, dd), 8.492 (1H, dd), 7.892 (1H, dd), 7.741 (1H, ddd), 7.741 (1H, ddd), 7.017 (1H, ddd), 7.018 (1H, ddd), 7.383 (s, 1H), 2.547 (s, 3H).\n",
      "LRMS (EI) m/z 339(M+).\n"
     ]
    }
   ],
   "source": [
    "text = \"2-ethynylpyridine was replaced by 2-methyl-4-ethynyloxazole, while the remaining raw materials, reagents and the preparation method were the same as those in Example 1 to give the product ZD090, yield 80%. 1H NMR (400 MHz, CDCl3) δ7.393 (1H, dd), 8.492 (1H, dd), 7.892 (1H, dd), 7.741 (1H, ddd), 7.741 (1H, ddd), 7.017 (1H, ddd), 7.018 (1H, ddd), 7.383 (s, 1H), 2.547 (s, 3H). LRMS (EI) m/z 339(M+).\"\n",
    "l = sent_tokenize(text)\n",
    "for p in l:\n",
    "    print(p)"
   ]
  },
  {
   "cell_type": "code",
   "execution_count": 3,
   "id": "ecfa5840",
   "metadata": {},
   "outputs": [],
   "source": [
    "def getFiles(path):\n",
    "    all_files = os.listdir(path)\n",
    "    text_files = [f for f in all_files if f[-3:]=='txt']\n",
    "    ann_files = [f for f in all_files if f[-3:]=='ann']\n",
    "    print(\"Numer of ann files: \", len(ann_files))\n",
    "    print(\"Numer of text files: \", len(text_files))\n",
    "    return text_files, ann_files\n",
    "\n",
    "\n",
    "def labelIOBReactions(path, ann_files, text_files):\n",
    "    reactions_per_document = []\n",
    "    labels = {}\n",
    "    ann_files.sort()\n",
    "    text_files.sort()\n",
    "    # 0: O (Outside) ; 1: I (Inside) ; 2: B (Beginning)\n",
    "    for af, tf in zip(ann_files, text_files):\n",
    "        \n",
    "        with open(osp.join(path, tf), 'r',encoding=\"utf-8\" ) as fp:\n",
    "            with open(osp.join(path, af), 'r', encoding=\"utf-8\" ) as ap:\n",
    "                data = fp.read().rstrip()\n",
    "                \n",
    "                paras = data.count('\\n')+1\n",
    "              \n",
    "                para_labels = np.zeros(paras)\n",
    "\n",
    "                rpd = 0\n",
    "\n",
    "                lines = ap.readlines()\n",
    "                for line in lines:\n",
    "\n",
    "                    ts = line.split()\n",
    "                    if(ts[1] == \"REACTION_SPAN\"):\n",
    "                        rpd +=1\n",
    "                        st = data[:int(ts[2])].count('\\n')\n",
    "                        cnts = data[int(ts[2]):int(ts[3])].count('\\n')+1\n",
    "                        para_labels[st]=2; #beginning of a reaction\n",
    "                        for i in range(st+1, st+cnts):\n",
    "                            para_labels[i]=1; #inside a reaction\n",
    "                            \n",
    "                labels[tf[:-4]] = para_labels\n",
    "                reactions_per_document.append(rpd)\n",
    "    \n",
    "    return labels, reactions_per_document"
   ]
  },
  {
   "cell_type": "code",
   "execution_count": 9,
   "id": "d20e32c9",
   "metadata": {},
   "outputs": [
    {
     "name": "stdout",
     "output_type": "stream",
     "text": [
      "2-fluoro-5-iodobenzoic acid was replaced by 2-chloro-5-iodobenzoic acid, and 4-fluoroaniline was replaced by 7-oxa-2-azaspiro [3.5] nonane, while the remaining raw materials, reagents and the preparation method were the same as those in Example 1 to give the product ZD002, yield 80%.\n"
     ]
    }
   ],
   "source": [
    "with open(\"C:\\\\Users\\\\meais\\\\Documents\\\\CMU\\\\Independent Study\\\\ReactionExtraction\\\\data\\\\dev\\\\EP3284738A1.txt\", 'r',encoding=\"utf-8\" ) as fp:\n",
    "    data = fp.read().rstrip()\n",
    "    print(data[55881: 56165])"
   ]
  },
  {
   "cell_type": "code",
   "execution_count": null,
   "id": "2c7ebd48",
   "metadata": {},
   "outputs": [],
   "source": []
  }
 ],
 "metadata": {
  "kernelspec": {
   "display_name": "Python 3.7.13 ('chemIR')",
   "language": "python",
   "name": "python3"
  },
  "language_info": {
   "codemirror_mode": {
    "name": "ipython",
    "version": 3
   },
   "file_extension": ".py",
   "mimetype": "text/x-python",
   "name": "python",
   "nbconvert_exporter": "python",
   "pygments_lexer": "ipython3",
   "version": "3.7.13"
  },
  "vscode": {
   "interpreter": {
    "hash": "bca01836d6106e973a10514ba84a22def982a0caf4526f342e9e0f31ef9581b1"
   }
  }
 },
 "nbformat": 4,
 "nbformat_minor": 5
}
